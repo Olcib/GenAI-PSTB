{
 "cells": [
  {
   "cell_type": "markdown",
   "id": "990e3abf",
   "metadata": {},
   "source": [
    "Daily Challenge : String and Lists\n",
    "\n",
    "Source : https://octopus.developers.institute/courses/collection/117/course/614/section/1673/chapter/4206\n",
    "\n",
    "Challenge 1\n",
    "Ask the user for a number and a length.\n",
    "Create a program that prints a list of multiples of the number until the list length reaches length."
   ]
  },
  {
   "cell_type": "code",
   "execution_count": 4,
   "id": "b405bc71",
   "metadata": {},
   "outputs": [
    {
     "name": "stdout",
     "output_type": "stream",
     "text": [
      "[5, 10, 15]\n"
     ]
    }
   ],
   "source": [
    "#Question 1 - Ask the user for a number and a length.\n",
    "number=int(input(\"enter a number\"))\n",
    "length=int(input(\"enter a length\"))\n",
    "\n",
    "#Question 2 : Create a program that prints a list of multiples of the number until the list length reaches length.\n",
    "\n",
    "multiples = [number * i for i in range(1,length+1)]\n",
    "\n",
    "print(multiples)"
   ]
  },
  {
   "cell_type": "markdown",
   "id": "9dedebc6",
   "metadata": {},
   "source": [
    "Source : https://octopus.developers.institute/courses/collection/117/course/614/section/1673/chapter/4206\n",
    "\n",
    "Challenge 2\n",
    "Write a program that asks a string to the user, and display a new string with any duplicate consecutive letters removed.\n",
    "\n",
    "Examples\n",
    "user's word : \"ppoeemm\" ➞ \"poem\"\n",
    "user's word : \"wiiiinnnnd\" ➞ \"wind\"\n",
    "user's word : \"ttiiitllleeee\" ➞ \"title\"\n",
    "user's word : \"cccccaaarrrbbonnnnn\" ➞ \"carbon\"\n",
    "\n",
    "Notes\n",
    "Final strings won’t include words with double letters (e.g. “passing”, “lottery”)."
   ]
  },
  {
   "cell_type": "code",
   "execution_count": 6,
   "id": "9ab51289",
   "metadata": {},
   "outputs": [
    {
     "name": "stdout",
     "output_type": "stream",
     "text": [
      "poem\n"
     ]
    }
   ],
   "source": [
    "#Step 1 : create the \"user_input\" variable that asks a string to the user:\n",
    "user_input=input(\"enter a string:\")\n",
    "#Step 2 : create the \"result\" variable that will help build up a new string with any duplicate consecutive letters removed:\n",
    "result=user_input[0]\n",
    "\n",
    "#step 3 : based on the choosen string, and with the \"for i in range\" function, compare string letters, in order to identify and remove any duplicate letter:\n",
    "for i in range(1,len(user_input)):\n",
    "    if user_input[i] != user_input[i-1]:\n",
    "        result += user_input[i]\n",
    "#step 4 : generate result:\n",
    "print(result)"
   ]
  }
 ],
 "metadata": {
  "kernelspec": {
   "display_name": ".venv",
   "language": "python",
   "name": "python3"
  },
  "language_info": {
   "codemirror_mode": {
    "name": "ipython",
    "version": 3
   },
   "file_extension": ".py",
   "mimetype": "text/x-python",
   "name": "python",
   "nbconvert_exporter": "python",
   "pygments_lexer": "ipython3",
   "version": "3.11.9"
  }
 },
 "nbformat": 4,
 "nbformat_minor": 5
}
