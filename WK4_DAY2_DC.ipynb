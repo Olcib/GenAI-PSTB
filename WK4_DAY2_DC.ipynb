{
 "cells": [
  {
   "cell_type": "markdown",
   "id": "a0efd524",
   "metadata": {},
   "source": [
    " GenAI & Machine Learning Bootcamp 2025 - Full Time 2025 - PSTB Application for Data Analysis NumPy Advanced NumPy, Pandas & Matplotlib Integration\n",
    "NumPy, Pandas & Matplotlib Integration\n",
    "Last Updated: November 20th, 2024\n",
    "\n",
    "Objective:\n",
    "Apply your knowledge of NumPy, Pandas, and Matplotlib to analyze a real-world dataset. Utilize advanced statistical functions and array operations in NumPy, and integrate these with Pandas for data manipulation and Matplotlib for visualization.\n",
    "\n",
    "\n",
    "\n",
    "Dataset:\n",
    "You will work with the “Global Power Plant Database” provided by the World Resources Institute, which contains detailed information about power plants worldwide. This dataset is ideal for practicing array manipulations, statistical analysis, and time series data handling.\n",
    "\n",
    "Download the dataset here.\n",
    "\n",
    "or you can download it directly\n",
    "\n",
    "Here.\n",
    "\n",
    "\n",
    "\n",
    "Tasks:\n",
    "Data Import and Cleaning:\n",
    "\n",
    "Import the dataset using Pandas.\n",
    "Identify missing values and handle them appropriately.\n",
    "Use NumPy to convert relevant columns to numerical types if necessary.\n",
    "Exploratory Data Analysis:\n",
    "\n",
    "Utilize Pandas to summarize key statistics (mean, median, standard deviation) for numerical columns.\n",
    "Explore the distribution of power plants by country and fuel type.\n",
    "Statistical Analysis:\n",
    "\n",
    "Perform a statistical analysis of power output by fuel type using NumPy’s statistical functions.\n",
    "Use hypothesis testing to determine if the mean power output differs significantly between different fuel types.\n",
    "Time Series Analysis:\n",
    "\n",
    "If the dataset includes time-related data (like year of establishment), use NumPy to analyze trends over time.\n",
    "Explore how the mix of fuel types for power generation has evolved over the years.\n",
    "Advanced Visualization:\n",
    "\n",
    "Create visualizations using Matplotlib and Seaborn to illustrate your findings.\n",
    "Consider plotting the geographical distribution of power plants using latitude and longitude data, if available.\n",
    "Matrix Operations in Real-World Context:\n",
    "\n",
    "Demonstrate matrix operations by analyzing relationships between different attributes (e.g., fuel type, capacity, and geographic location).\n",
    "Discuss the relevance of eigenvectors and eigenvalues in this context.\n",
    "Integrating NumPy with Pandas and Matplotlib:\n",
    "\n",
    "Show how NumPy can be used to enhance data manipulation in Pandas and data visualization in Matplotlib.\n",
    "Provide examples, such as using NumPy arrays for complex filtering in Pandas or for creating sophisticated plots in Matplotlib.\n",
    "\n",
    "Duration & Difficulty\n",
    "Duration (approx)\tDifficulty\n",
    "60 minutes\t⭐⭐\n",
    "\n",
    "\n",
    "Submit your Daily Challenge\n",
    "Prepare a report including your code, findings, and visualizations. Discuss how NumPy, Pandas, and Matplotlib were used in your analysis, and present any interesting insights you discovered about the global power plant landscape.\n",
    "\n",
    "Don’t forget to push to Github"
   ]
  },
  {
   "cell_type": "code",
   "execution_count": null,
   "id": "3a056c16",
   "metadata": {},
   "outputs": [],
   "source": [
    "# Task 1. Data import & cleaning :\n",
    "\n",
    "import pandas as pd\n",
    "import numpy as np\n",
    "\n",
    "# 1.1 \"global_power_plant_database.csv\" dataset Import :\n",
    "df = pd.read_csv(\"global_power_plant_database.csv\")\n",
    "\n",
    "# 1.2 Display of 5 upper lines\n",
    "print(df.head())"
   ]
  },
  {
   "cell_type": "code",
   "execution_count": null,
   "id": "5dc10aad",
   "metadata": {},
   "outputs": [],
   "source": [
    "df.columns"
   ]
  },
  {
   "cell_type": "code",
   "execution_count": null,
   "id": "e85c9d46",
   "metadata": {},
   "outputs": [],
   "source": [
    "df.describe()"
   ]
  },
  {
   "cell_type": "code",
   "execution_count": null,
   "id": "24fb8b84",
   "metadata": {},
   "outputs": [],
   "source": [
    "# 1.3 Identification of missing values :\n",
    "df.isnull().sum()\n",
    "print(df.isnull().sum())\n",
    "\n",
    "# 1.4 Handling Missing Values\n",
    "    # Fill with the mean:\n",
    "df['capacity_mw'].fillna(df['capacity_mw'].mean(), inplace=True)"
   ]
  },
  {
   "cell_type": "code",
   "execution_count": 19,
   "id": "299ec830",
   "metadata": {},
   "outputs": [],
   "source": [
    "# or complete critical columns :\n",
    "df[\"commissioning_year\"] = df[\"commissioning_year\"].fillna(df[\"commissioning_year\"].median())"
   ]
  },
  {
   "cell_type": "code",
   "execution_count": 26,
   "id": "82e84385",
   "metadata": {},
   "outputs": [
    {
     "name": "stdout",
     "output_type": "stream",
     "text": [
      "<class 'pandas.core.frame.DataFrame'>\n",
      "Index: 55 entries, 25180 to 34431\n",
      "Data columns (total 36 columns):\n",
      " #   Column                          Non-Null Count  Dtype  \n",
      "---  ------                          --------------  -----  \n",
      " 0   country                         55 non-null     object \n",
      " 1   country_long                    55 non-null     object \n",
      " 2   name                            55 non-null     object \n",
      " 3   gppd_idnr                       55 non-null     object \n",
      " 4   capacity_mw                     55 non-null     float64\n",
      " 5   latitude                        55 non-null     float64\n",
      " 6   longitude                       55 non-null     float64\n",
      " 7   primary_fuel                    55 non-null     object \n",
      " 8   other_fuel1                     55 non-null     object \n",
      " 9   other_fuel2                     55 non-null     object \n",
      " 10  other_fuel3                     55 non-null     object \n",
      " 11  commissioning_year              55 non-null     float64\n",
      " 12  owner                           55 non-null     object \n",
      " 13  source                          55 non-null     object \n",
      " 14  url                             55 non-null     object \n",
      " 15  geolocation_source              55 non-null     object \n",
      " 16  wepp_id                         55 non-null     object \n",
      " 17  year_of_capacity_data           55 non-null     float64\n",
      " 18  generation_gwh_2013             55 non-null     float64\n",
      " 19  generation_gwh_2014             55 non-null     float64\n",
      " 20  generation_gwh_2015             54 non-null     float64\n",
      " 21  generation_gwh_2016             55 non-null     float64\n",
      " 22  generation_gwh_2017             55 non-null     float64\n",
      " 23  generation_gwh_2018             55 non-null     float64\n",
      " 24  generation_gwh_2019             55 non-null     float64\n",
      " 25  generation_data_source          55 non-null     object \n",
      " 26  estimated_generation_gwh_2013   0 non-null      float64\n",
      " 27  estimated_generation_gwh_2014   0 non-null      float64\n",
      " 28  estimated_generation_gwh_2015   0 non-null      float64\n",
      " 29  estimated_generation_gwh_2016   0 non-null      float64\n",
      " 30  estimated_generation_gwh_2017   31 non-null     float64\n",
      " 31  estimated_generation_note_2013  55 non-null     object \n",
      " 32  estimated_generation_note_2014  55 non-null     object \n",
      " 33  estimated_generation_note_2015  55 non-null     object \n",
      " 34  estimated_generation_note_2016  55 non-null     object \n",
      " 35  estimated_generation_note_2017  55 non-null     object \n",
      "dtypes: float64(17), object(19)\n",
      "memory usage: 15.9+ KB\n"
     ]
    }
   ],
   "source": [
    "df.info()"
   ]
  },
  {
   "cell_type": "code",
   "execution_count": null,
   "id": "26c27994",
   "metadata": {},
   "outputs": [],
   "source": []
  },
  {
   "cell_type": "code",
   "execution_count": 27,
   "id": "615b8f48",
   "metadata": {},
   "outputs": [],
   "source": [
    "    # or drop the rows:\n",
    "df.dropna(subset=['country_long', 'other_fuel1', 'other_fuel2', 'other_fuel3','owner', 'url','wepp_id','year_of_capacity_data','generation_gwh_2013','generation_gwh_2014'], inplace=True)"
   ]
  },
  {
   "cell_type": "code",
   "execution_count": 28,
   "id": "5414087e",
   "metadata": {},
   "outputs": [],
   "source": [
    "# 1.5 Numerical format conversion when needed :\n",
    "df[\"capacity_mw\"] = df[\"capacity_mw\"].astype(float)\n",
    "\n",
    "# As a result, you get a cleanned DataFrame ready for analyse."
   ]
  },
  {
   "cell_type": "code",
   "execution_count": null,
   "id": "a865156a",
   "metadata": {},
   "outputs": [],
   "source": [
    "# Task 2. Exploratory Data Analysis: \n",
    "    # Utilize Pandas to summarize key statistics (mean, median, standard deviation) for numerical columns.\n",
    "    # Explore the distribution of power plants by country and fuel type.\n",
    "\n",
    "import numpy as np\n",
    "from scipy import stats\n",
    "\n",
    "    #Test Statistics with skimpy \n",
    "!pip install skimpy\n",
    "from skimpy import skim"
   ]
  },
  {
   "cell_type": "code",
   "execution_count": 67,
   "id": "690c9b9a",
   "metadata": {},
   "outputs": [
    {
     "name": "stdout",
     "output_type": "stream",
     "text": [
      "Gas        50\n",
      "Waste      44\n",
      "Oil        36\n",
      "Coal       31\n",
      "Biomass    30\n",
      "Other       9\n",
      "Petcoke     8\n",
      "Solar       5\n",
      "Hydro       4\n",
      "Wind        3\n",
      "Name: count, dtype: int64\n"
     ]
    }
   ],
   "source": [
    "# Fuel tupe concatenate :\n",
    "    # 1. Concatenate all fuel type columns into one single \"fuel_type\" :\n",
    "fuel_cols = ['primary_fuel', 'other_fuel1', 'other_fuel2', 'other_fuel3']\n",
    "fuel_type_series = pd.concat([df[col] for col in fuel_cols], axis=0, ignore_index=True)\n",
    "\n",
    "    # 2. Remove missing values :\n",
    "fuel_type_series.dropna(inplace=True)\n",
    "\n",
    "    # 3. Count occurrencies for each fuel type :\n",
    "fuel_type_counts = fuel_type_series.value_counts()\n",
    "\n",
    "    # 4. Display results\n",
    "print(fuel_type_counts)"
   ]
  },
  {
   "cell_type": "code",
   "execution_count": null,
   "id": "586ecc07",
   "metadata": {},
   "outputs": [],
   "source": [
    "# Average capacities per fuel type : \n",
    "grouped = df.groupby(\"fuel_type_counts\")[\"capacity_mw\"].mean()\n",
    "print(grouped)"
   ]
  },
  {
   "cell_type": "code",
   "execution_count": 61,
   "id": "c0b8e54c",
   "metadata": {},
   "outputs": [
    {
     "name": "stdout",
     "output_type": "stream",
     "text": [
      "fuel_type\n",
      "Gas        50\n",
      "Waste      44\n",
      "Oil        36\n",
      "Coal       31\n",
      "Biomass    30\n",
      "Other       9\n",
      "Petcoke     8\n",
      "Solar       5\n",
      "Hydro       4\n",
      "Wind        3\n",
      "Name: count, dtype: int64\n"
     ]
    }
   ],
   "source": [
    "# Transform fuel columns to long format :\n",
    "fuel_cols = ['primary_fuel', 'other_fuel1', 'other_fuel2', 'other_fuel3']\n",
    "fuel_long = df.melt(value_vars=fuel_cols, value_name='fuel_type')\n",
    "fuel_long.dropna(subset=['fuel_type'], inplace=True)\n",
    "\n",
    "# Count occurencies for each fuel type \n",
    "fuel_counts = fuel_long['fuel_type'].value_counts()\n",
    "print(fuel_counts)"
   ]
  },
  {
   "cell_type": "code",
   "execution_count": 62,
   "id": "0bdf1807",
   "metadata": {},
   "outputs": [
    {
     "name": "stdout",
     "output_type": "stream",
     "text": [
      "['Biomass', 'Coal', 'Gas', 'Hydro', 'Oil', 'Other', 'Petcoke', 'Solar', 'Waste', 'Wind']\n",
      "{'Waste', 'Wind', 'Hydro', 'Gas', 'Other', 'Petcoke', 'Solar', 'Coal', 'Biomass', 'Oil'}\n"
     ]
    }
   ],
   "source": [
    "# Split per Fuel type :\n",
    "fuel_types = set(\n",
    "    pd.concat([df[col].dropna() for col in ['primary_fuel', 'other_fuel1', 'other_fuel2', 'other_fuel3']])\n",
    ")\n",
    "print(sorted(fuel_types))\n",
    "print(fuel_types)\n"
   ]
  },
  {
   "cell_type": "code",
   "execution_count": 40,
   "id": "97bbbb95",
   "metadata": {},
   "outputs": [
    {
     "name": "stdout",
     "output_type": "stream",
     "text": [
      "country\n",
      "USA    55\n",
      "Name: count, dtype: int64\n"
     ]
    }
   ],
   "source": [
    "# Split per country :\n",
    "country_distribution = df['country'].value_counts()\n",
    "print(country_distribution.head(10))"
   ]
  },
  {
   "cell_type": "code",
   "execution_count": null,
   "id": "3b5f817a",
   "metadata": {},
   "outputs": [],
   "source": [
    "# Task 2. Exploratory Data Analysis: \n",
    "\n",
    "# 2.1 - key statistics (mean, median, standard deviation) for numerical columns.\n",
    "stats = df[[\"capacity_mw\"]].agg([\"mean\", \"median\", \"std\"])\n",
    "print(stats)\n",
    "\n",
    "# 2.2 Split per country & fuel type\n",
    "print(df[\"country\"].value_counts().head(10))\n",
    "print(df[\"fuel_types\"].value_counts())\n"
   ]
  },
  {
   "cell_type": "code",
   "execution_count": null,
   "id": "4abb0354",
   "metadata": {},
   "outputs": [],
   "source": [
    "# Task 3. Statistical Analysis: \n",
    "    # Perform a statistical analysis of power output by fuel type using NumPy’s statistical functions.\n",
    "    # Use hypothesis testing to determine if the mean power output differs significantly between different fuel types.\n",
    "\n",
    "    # 3.1 Average capacities per fuel type :\n",
    "grouped = df.groupby(\"fuel_type\")[\"capacity_mw\"].mean()\n",
    "print(grouped)"
   ]
  },
  {
   "cell_type": "code",
   "execution_count": null,
   "id": "3eca1599",
   "metadata": {},
   "outputs": [],
   "source": [
    "# Task 3. Statistical Analysis: \n",
    "    # Perform a statistical analysis of power output by fuel type using NumPy’s statistical functions.\n",
    "    # Use hypothesis testing to determine if the mean power output differs significantly between different fuel types.\n",
    "\n",
    "    # 3.2 Hypothesis Test : difference between two fuel types :\n",
    "coal = df[df[\"fuel_type\"] == \"Coal\"][\"capacity_mw\"].values\n",
    "gas  = df[df[\"fuel_type\"] == \"Gas\"][\"capacity_mw\"].values"
   ]
  },
  {
   "cell_type": "code",
   "execution_count": null,
   "id": "2763ff4d",
   "metadata": {},
   "outputs": [],
   "source": [
    "from scipy.stats import ttest_ind\n",
    "t_stat, p_val = ttest_ind(Coal, gas, equal_var=False)\n",
    "print(\"t =\", t_stat, \"; p-value =\", p_val)"
   ]
  },
  {
   "cell_type": "code",
   "execution_count": 77,
   "id": "5fac950c",
   "metadata": {},
   "outputs": [
    {
     "name": "stdout",
     "output_type": "stream",
     "text": [
      "commissioning_year\n",
      "1950.882353    1\n",
      "1951.380282    1\n",
      "1954.881356    1\n",
      "1956.565421    1\n",
      "1959.176471    1\n",
      "Name: count, dtype: int64\n"
     ]
    }
   ],
   "source": [
    "#Time Series Analysis: \n",
    "    # If the dataset includes time-related data (like year of establishment), use NumPy to analyze trends over time.\n",
    "    # Explore how the mix of fuel types for power generation has evolved over the years.\n",
    "\n",
    "    # 4.1 Nombre d'installations par année\n",
    "annual = df[\"commissioning_year\"].value_counts().sort_index()\n",
    "print(annual.head())"
   ]
  },
  {
   "cell_type": "code",
   "execution_count": null,
   "id": "c9a9c0a3",
   "metadata": {},
   "outputs": [],
   "source": [
    "# 4.2 Évolution du mix énergétique\n",
    "fuel_time = df.groupby(\"commissioning_year\")[\"fuel_type\"].value_counts().unstack(fill_value=0)\n",
    "print(fuel_time.head())"
   ]
  },
  {
   "cell_type": "code",
   "execution_count": null,
   "id": "32c68e30",
   "metadata": {},
   "outputs": [],
   "source": [
    "# 5. Advanced Visualization:\n",
    "    # Create visualizations using Matplotlib and Seaborn to illustrate your findings.\n",
    "    # Consider plotting the geographical distribution of power plants using latitude and longitude data, if available.\n",
    "\n",
    "import matplotlib.pyplot as plt\n",
    "import seaborn as sns"
   ]
  },
  {
   "cell_type": "code",
   "execution_count": null,
   "id": "01810365",
   "metadata": {},
   "outputs": [
    {
     "data": {
      "image/png": "[encoded data removed]",
      "text/plain": [
       "<Figure size 800x400 with 1 Axes>"
      ]
     },
     "metadata": {},
     "output_type": "display_data"
    }
   ],
   "source": [
    "# 5.1. Regrouper par type de carburant principal et calculer la moyenne de capacité\n",
    "grouped = df.groupby('primary_fuel')['capacity_mw'].mean().sort_values(ascending=False)\n",
    "\n",
    "# 5.2. Tracer le graphique\n",
    "grouped.plot(kind=\"bar\", figsize=(8, 4), color='skyblue')\n",
    "plt.title(\"Average Capacity by Fuel Type\")\n",
    "plt.ylabel(\"Average Capacity (MW)\")\n",
    "plt.xlabel(\"Fuel Type\")\n",
    "plt.xticks(rotation=45)\n",
    "plt.tight_layout()\n",
    "plt.show()"
   ]
  },
  {
   "cell_type": "code",
   "execution_count": 86,
   "id": "c91309f1",
   "metadata": {},
   "outputs": [
    {
     "data": {
      "image/png": "[encoded data removed]",
      "text/plain": [
       "<Figure size 640x480 with 1 Axes>"
      ]
     },
     "metadata": {},
     "output_type": "display_data"
    }
   ],
   "source": [
    "# Cartography option : \n",
    "plt.scatter(df[\"longitude\"], df[\"latitude\"], c=df[\"capacity_mw\"], cmap=\"viridis\", s=5) \n",
    "plt.ylabel(\"longitude\")\n",
    "plt.xlabel(\"latitude\")\n",
    "plt.tight_layout()\n"
   ]
  },
  {
   "cell_type": "code",
   "execution_count": null,
   "id": "4c022004",
   "metadata": {},
   "outputs": [],
   "source": [
    "#6. Matrix Operations in Real-World Context:\n",
    "    # Demonstrate matrix operations by analyzing relationships between different attributes (e.g., fuel type, capacity, and geographic location).\n",
    "    # Discuss the relevance of eigenvectors and eigenvalues in this context.\n",
    "\n",
    "# Ex : capacity matrix vs year :\n",
    "    # Encoding years and capacities for creating a little matrix\n",
    "years = df[\"commissioning_year\"].unique()[:5]\n",
    "mat = []\n",
    "for y in years:\n",
    "    mat.append(df[df[\"commissioning_year\"] == y][\"capacity_mw\"].head(5).values)\n",
    "mat = np.array(mat).astype(float)  # forme (5x5)\n",
    "\n",
    "    # Calculating eigenvectors and eigenvalues \n",
    "    \n",
    "    # ??"
   ]
  },
  {
   "cell_type": "code",
   "execution_count": 90,
   "id": "f8e33424",
   "metadata": {},
   "outputs": [
    {
     "name": "stdout",
     "output_type": "stream",
     "text": [
      "                                     name primary_fuel  capacity_mw\n",
      "25527                            Big Bend         Coal       1903.5\n",
      "27246                           E W Brown          Gas       1454.6\n",
      "28360   H Wilson Sundt Generating Station          Gas        434.9\n",
      "28963  International Paper Riverdale Mill          Gas        104.2\n",
      "29721                          Lon Wright         Coal        213.2\n"
     ]
    }
   ],
   "source": [
    "# Integrating NumPy with Pandas and Matplotlib: \n",
    "    # Show how NumPy can be used to enhance data manipulation in Pandas and data visualization in Matplotlib.\n",
    "    # Provide examples, such as using NumPy arrays for complex filtering in Pandas or for creating sophisticated plots in Matplotlib.\n",
    "\n",
    "# Example : Identify gas or coal capacities which exceed median ones through advanced filter with NumPy\n",
    "\n",
    "import numpy as np\n",
    "import pandas as pd\n",
    "\n",
    "median_capacity = np.median(df['capacity_mw'].dropna())\n",
    "mask = (df['primary_fuel'].isin(['Gas', 'Coal'])) & (df['capacity_mw'] > median_capacity)\n",
    "filtered_df = df[mask]\n",
    "\n",
    "print(filtered_df[['name', 'primary_fuel', 'capacity_mw']].head())\n",
    "\n",
    "# Comments : NumPy enables quick filtering based on complex mathematical or statistical conditions."
   ]
  }
 ],
 "metadata": {
  "kernelspec": {
   "display_name": "Python 3",
   "language": "python",
   "name": "python3"
  },
  "language_info": {
   "codemirror_mode": {
    "name": "ipython",
    "version": 3
   },
   "file_extension": ".py",
   "mimetype": "text/x-python",
   "name": "python",
   "nbconvert_exporter": "python",
   "pygments_lexer": "ipython3",
   "version": "3.11.9"
  }
 },
 "nbformat": 4,
 "nbformat_minor": 5
}
