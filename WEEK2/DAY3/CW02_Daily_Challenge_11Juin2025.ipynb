{
 "cells": [
  {
   "cell_type": "markdown",
   "id": "3cd8f6a9",
   "metadata": {},
   "source": [
    "Daily challenge: Old MacDonald’s Farm\n",
    "Submit\n",
    "\n",
    "Last Updated: May 5th, 2025\n",
    "\n",
    "👩‍🏫 👩🏿‍🏫 What You’ll learn\n",
    "• Classes and Objects\n",
    "• Dictionaries\n",
    "• String Formatting\n",
    "• Methods\n",
    "• List manipulation and sorting\n",
    "\n",
    "\n",
    "Key Python Topics:\n",
    "• Classes and Objects\n",
    "• Dictionaries\n",
    "• String Formatting\n",
    "• Methods\n",
    "• List manipulation (sorted())\n",
    "• Conditional logic (if)\n",
    "• String concatenation\n",
    "\n",
    "\n",
    "Instructions: Old MacDonald’s Farm\n",
    "You are given example code and output. Your task is to create a Farm class that produces the same output.\n",
    "\n",
    "\n",
    "Step 1: Create the Farm Class\n",
    "• Create a class called Farm.\n",
    "• This class will represent a farm and its animals.\n",
    "\n",
    "\n",
    "Step 2: Implement the __init__ Method\n",
    "• The Farm class should have an __init__ method.\n",
    "• It should take one parameter: farm_name.\n",
    "• Inside __init__, create two attributes: name to store the farm’s name and animals to store the animals (initialize as an empty dictionary).\n",
    "\n",
    "\n",
    "Step 3: Implement the add_animal Method\n",
    "• Create a method called add_animal.\n",
    "• It should take two parameters: animal_type and count (with a default value of 1). Count is the quantity of the animal that will be added to the animal dictionary.\n",
    "The dictionary will look like this:\n",
    "{'cow': 1, 'pig':3, 'horse': 2}\n",
    "• If the animal_type already exists in the animals dictionary, increment its count by count.\n",
    "• If it doesn’t exist, add it to the dictionary as the key and with the given count as value.\n"
   ]
  },
  {
   "cell_type": "code",
   "execution_count": 6,
   "id": "1463bfe3",
   "metadata": {},
   "outputs": [
    {
     "name": "stdout",
     "output_type": "stream",
     "text": [
      "Old MacDonald's Farm\n",
      "cow        : 1\n",
      "pig        : 1\n",
      "horse      : 1\n",
      "E-I-E-I-O!\n"
     ]
    }
   ],
   "source": [
    "class Farm:\n",
    "    def __init__(self,farm_name):\n",
    "        self.name = farm_name\n",
    "        self.animals = {}\n",
    "    def add_animal(self, animal_type, count=1):\n",
    "        if animal_type in self.animals:\n",
    "            self.animals[animal_type] += count\n",
    "        else:\n",
    "            self.animals[animal_type] = count\n",
    "    def get_info(self):\n",
    "        info = f\"{self.name}'s Farm\\n\"\n",
    "        for animal, count in self.animals.items():\n",
    "            info += f\"{animal:10} : {count}\\n\"\n",
    "        info += \"E-I-E-I-O!\"\n",
    "        return info\n",
    "#Test\n",
    "macdonald_farm = Farm(\"Old MacDonald\")\n",
    "macdonald_farm.add_animal(\"cow\",1)\n",
    "macdonald_farm.add_animal(\"pig\",1)\n",
    "macdonald_farm.add_animal(\"horse\",1)\n",
    "print(macdonald_farm.get_info())"
   ]
  }
 ],
 "metadata": {
  "kernelspec": {
   "display_name": "Python 3",
   "language": "python",
   "name": "python3"
  },
  "language_info": {
   "codemirror_mode": {
    "name": "ipython",
    "version": 3
   },
   "file_extension": ".py",
   "mimetype": "text/x-python",
   "name": "python",
   "nbconvert_exporter": "python",
   "pygments_lexer": "ipython3",
   "version": "3.11.9"
  }
 },
 "nbformat": 4,
 "nbformat_minor": 5
}
