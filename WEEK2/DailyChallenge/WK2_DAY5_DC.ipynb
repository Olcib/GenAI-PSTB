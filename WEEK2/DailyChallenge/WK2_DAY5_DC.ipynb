{
 "cells": [
  {
   "cell_type": "markdown",
   "id": "8a8243ca",
   "metadata": {},
   "source": [
    "Daily Challenge - Circle\n",
    "Last Updated: April 30th, 2025\n",
    "\n",
    "What You will learn :\n",
    "OOP dunder methods\n",
    "\n",
    "\n",
    "Instructions :\n",
    "The goal is to create a class that represents a simple circle.\n",
    "A Circle can be defined by either specifying the radius or the diameter.\n",
    "The user can query the circle for either its radius or diameter.\n",
    "\n",
    "Other abilities of a Circle instance:\n",
    "\n",
    "Compute the circle’s area\n",
    "Print the attributes of the circle - use a dunder method\n",
    "Be able to add two circles together, and return a new circle with the new radius - use a dunder method\n",
    "Be able to compare two circles to see which is bigger, and return a Boolean - use a dunder method\n",
    "Be able to compare two circles and see if there are equal, and return a Boolean- use a dunder method\n",
    "Be able to put them in a list and sort them\n",
    "Bonus (not mandatory) : Install the Turtle module, and draw the sorted circles\n"
   ]
  },
  {
   "cell_type": "code",
   "execution_count": null,
   "id": "78098504",
   "metadata": {},
   "outputs": [],
   "source": [
    "#Daily Challenge - Circle\n",
    "#What You will learn : OOP dunder methods\n",
    "\n",
    "#Instructions :\n",
    "    #The goal is to create a class that represents a simple circle.\n",
    "    #A Circle can be defined by either specifying the radius or the diameter.\n",
    "    #The user can query the circle for either its radius or diameter.\n",
    "\n",
    "    #Other abilities of a Circle instance:\n",
    "\n",
    "    #Compute the circle’s area\n",
    "    #Print the attributes of the circle - use a dunder method\n",
    "    #Be able to add two circles together, and return a new circle with the new radius - use a dunder method\n",
    "    #Be able to compare two circles to see which is bigger, and return a Boolean - use a dunder method\n",
    "    #Be able to compare two circles and see if there are equal, and return a Boolean- use a dunder method\n",
    "    #Be able to put them in a list and sort them\n",
    "    #Bonus (not mandatory) : Install the Turtle module, and draw the sorted circles"
   ]
  },
  {
   "cell_type": "code",
   "execution_count": 2,
   "id": "2028f0b9",
   "metadata": {},
   "outputs": [
    {
     "name": "stdout",
     "output_type": "stream",
     "text": [
      "Circle with radius: 5.00, diameter: 10.00, area: 78.54\n",
      "Circle with radius: 5.00, diameter: 10.00, area: 78.54\n",
      "Circle with radius: 10.00, diameter: 20.00, area: 314.16\n",
      "True\n",
      "True\n",
      "Circle with radius: 5.00, diameter: 10.00, area: 78.54\n",
      "Circle with radius: 5.00, diameter: 10.00, area: 78.54\n",
      "Circle with radius: 10.00, diameter: 20.00, area: 314.16\n"
     ]
    }
   ],
   "source": [
    "import math\n",
    "\n",
    "class Circle:\n",
    "    def __init__(self, radius=None, diameter=None):\n",
    "        if radius is not None:\n",
    "            self.radius = radius\n",
    "        elif diameter is not None:\n",
    "            self.radius = diameter / 2\n",
    "        else:\n",
    "            raise ValueError(\"You must specify either radius or diameter\")\n",
    "\n",
    "    @property\n",
    "    def diameter(self):\n",
    "        return self.radius * 2\n",
    "\n",
    "    @property\n",
    "    def area(self):\n",
    "        return math.pi * (self.radius ** 2)\n",
    "\n",
    "    def __str__(self):\n",
    "        return f\"Circle with radius: {self.radius:.2f}, diameter: {self.diameter:.2f}, area: {self.area:.2f}\"\n",
    "\n",
    "    def __add__(self, other):\n",
    "        if isinstance(other, Circle):\n",
    "            return Circle(radius=self.radius + other.radius)\n",
    "        return NotImplemented\n",
    "\n",
    "    def __lt__(self, other):\n",
    "        return self.radius < other.radius\n",
    "\n",
    "    def __eq__(self, other):\n",
    "        return self.radius == other.radius\n",
    "\n",
    "if __name__ == \"__main__\":\n",
    "    c1 = Circle(radius=5)\n",
    "    c2 = Circle(diameter=10)\n",
    "\n",
    "    print(c1)  # Circle with radius: 5.00, ...\n",
    "    print(c2)  # Circle with radius: 5.00, ...\n",
    "\n",
    "    c3 = c1 + c2\n",
    "    print(c3)  # Circle with radius: 10.00, ...\n",
    "\n",
    "    print(c1 == c2)  # True\n",
    "    print(c1 < c3)   # True\n",
    "\n",
    "    circles = [c3, c1, c2]\n",
    "    circles.sort()\n",
    "    for c in circles:\n",
    "        print(c)"
   ]
  },
  {
   "cell_type": "code",
   "execution_count": null,
   "id": "5eef0504",
   "metadata": {},
   "outputs": [
    {
     "name": "stdout",
     "output_type": "stream",
     "text": [
      "=== Cercles triés ===\n",
      "Circle with radius: 30.00, diameter: 60.00, area: 2827.43\n",
      "Circle with radius: 40.00, diameter: 80.00, area: 5026.55\n",
      "Circle with radius: 50.00, diameter: 100.00, area: 7853.98\n"
     ]
    }
   ],
   "source": [
    "import turtle\n",
    "\n",
    "def draw_circles_sorted(circles):\n",
    "    screen = turtle.Screen()\n",
    "    screen.bgcolor(\"white\")\n",
    "    pen = turtle.Turtle()\n",
    "    pen.speed(0)\n",
    "    pen.penup()\n",
    "\n",
    "    # Position initiale pour les cercles\n",
    "    x_offset = -200\n",
    "\n",
    "    for circle in sorted(circles):\n",
    "        pen.goto(x_offset, -circle.radius)\n",
    "        pen.pendown()\n",
    "        pen.circle(circle.radius)\n",
    "        pen.penup()\n",
    "        x_offset += circle.diameter + 20  # Espace entre les cercles\n",
    "\n",
    "    pen.hideturtle()\n",
    "    screen.mainloop()\n",
    "\n",
    "if __name__ == \"__main__\":\n",
    "    c1 = Circle(radius=30)\n",
    "    c2 = Circle(diameter=80)\n",
    "    c3 = Circle(radius=50)\n",
    "\n",
    "    print(\"=== Cercles triés ===\")\n",
    "    for c in sorted([c1, c2, c3]):\n",
    "        print(c)\n",
    "\n",
    "    draw_circles_sorted([c1, c2, c3])"
   ]
  }
 ],
 "metadata": {
  "kernelspec": {
   "display_name": "Python 3",
   "language": "python",
   "name": "python3"
  },
  "language_info": {
   "codemirror_mode": {
    "name": "ipython",
    "version": 3
   },
   "file_extension": ".py",
   "mimetype": "text/x-python",
   "name": "python",
   "nbconvert_exporter": "python",
   "pygments_lexer": "ipython3",
   "version": "3.11.9"
  }
 },
 "nbformat": 4,
 "nbformat_minor": 5
}
