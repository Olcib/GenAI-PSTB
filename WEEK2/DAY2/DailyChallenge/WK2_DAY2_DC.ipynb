{
 "cells": [
  {
   "cell_type": "code",
   "execution_count": null,
   "id": "37fcd6b2",
   "metadata": {},
   "outputs": [],
   "source": [
    "#GenAI & Machine Learning Bootcamp 2025 - Full Time 2025 - PSTB Python and OOP Python Essentials Daily Challenge: Dictionaries\n",
    "#Daily Challenge: Dictionaries\n",
    "\n",
    "#🛠️ What you will create\n",
    "#You will create a Python script that processes user input to map the positions of each letter in a given word into a dictionary. This will involve string indexing, dictionary manipulation, and ensuring data types are appropriately handled.\n",
    "\n",
    "#Challenge - Ask a user for a word.\n",
    "    # Write a program that creates a dictionary. This dictionary stores the indexes of each letter in a list.\n",
    "        # Make sure the letters are the keys.\n",
    "        # Make sure the letters are strings.\n",
    "        # Make sure the indexes are stored in a list, and those lists are values.\n",
    "\n",
    "def dictionnary(word):\n",
    "    result = {}  \n",
    "\n",
    "    for index, letter in enumerate(word):  \n",
    "        if letter not in result:\n",
    "            result[letter] = []  \n",
    "        result[letter].append(index)  \n",
    "\n",
    "    return result  \n",
    "\n",
    "enter_a_word = input('Enter any word: ').strip()\n",
    "\n",
    "# Affiche le dictionnaire généré\n",
    "print(dictionnary(enter_a_word))"
   ]
  },
  {
   "cell_type": "code",
   "execution_count": null,
   "id": "68ddd0d0",
   "metadata": {},
   "outputs": [],
   "source": []
  }
 ],
 "metadata": {
  "kernelspec": {
   "display_name": "Python 3",
   "language": "python",
   "name": "python3"
  },
  "language_info": {
   "name": "python",
   "version": "3.11.9"
  }
 },
 "nbformat": 4,
 "nbformat_minor": 5
}
