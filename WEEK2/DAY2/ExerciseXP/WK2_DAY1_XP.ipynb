{
 "cells": [
  {
   "cell_type": "code",
   "execution_count": null,
   "id": "5d8cd087",
   "metadata": {},
   "outputs": [],
   "source": [
    "\n",
    "🌟 Exercise 1 : Hello World\n",
    "Print the following output in one line of code:\n",
    "\n",
    "Hello world\n",
    "Hello world\n",
    "Hello world\n",
    "Hello world\n",
    "\n",
    "\n",
    "🌟 Exercise 2 : Some Math\n",
    "Write code that calculates the result of: (99^3)*8 (meaning 99 to the power of 3, times 8).\n",
    "\n",
    "\n",
    "\n",
    "🌟 Exercise 3 : What’s your name ?\n",
    "Write code that asks the user for their name and determines whether or not you have the same name, print out a funny message based on the outcome.\n",
    "\n",
    "\n",
    "\n",
    "🌟 Exercise 4 : Tall enough to ride a roller coaster\n",
    "Write code that will ask the user for their height in centimeters.\n",
    "If they are over 145cm print a message that states they are tall enough to ride.\n",
    "If they are not tall enough print a message that says they need to grow some more to ride.\n",
    "\n",
    "\n",
    "🌟 Exercise 5 : Favorite Numbers\n",
    "Key Python Topics:\n",
    "\n",
    "Sets\n",
    "Adding/removing items in a set\n",
    "Set concatenation (using union)\n",
    "\n",
    "\n",
    "Instructions:\n",
    "\n",
    "Create a set called my_fav_numbers and populate it with your favorite numbers.\n",
    "Add two new numbers to the set.\n",
    "Remove the last number you added to the set.\n",
    "Create another set called friend_fav_numbers and populate it with your friend’s favorite numbers.\n",
    "Concatenate my_fav_numbers and friend_fav_numbers to create a new set called our_fav_numbers.\n",
    "Note: Sets are unordered collections, so ensure no duplicate numbers are added.\n",
    "\n",
    "\n",
    "🌟 Exercise 6: Tuple\n",
    "Key Python Topics:\n",
    "\n",
    "Tuples (immutability)\n",
    "\n",
    "\n",
    "Instructions:\n",
    "\n",
    "Given a tuple of integers, try to add more integers to the tuple.\n",
    "Hint: Tuples are immutable, meaning they cannot be changed after creation. Think about why you can’t add more integers to a tuple.\n",
    "\n",
    "\n",
    "🌟 Exercise 7: List Manipulation\n",
    "Key Python Topics:\n",
    "\n",
    "Lists\n",
    "List methods: append, remove, insert, count, clear\n",
    "\n",
    "\n",
    "Instructions:\n",
    "\n",
    "You have a list: basket = [\"Banana\", \"Apples\", \"Oranges\", \"Blueberries\"]\n",
    "Remove \"Banana\" from the list.\n",
    "Remove \"Blueberries\" from the list.\n",
    "Add \"Kiwi\" to the end of the list.\n",
    "Add \"Apples\" to the beginning of the list.\n",
    "Count how many times \"Apples\" appear in the list.\n",
    "Empty the list.\n",
    "Print the final state of the list.\n",
    "\n",
    "\n",
    "🌟 Exercise 8 : Sandwich Orders\n",
    "Using the list below :\n",
    "\n",
    "sandwich_orders = [\"Tuna sandwich\", \"Pastrami sandwich\", \"Avocado sandwich\", \"Pastrami sandwich\", \"Egg sandwich\", \"Chicken sandwich\", \"Pastrami sandwich\"].\n",
    "\n",
    "The deli has run out of pastrami, use a while loop to remove all occurrences of Pastrami sandwich from sandwich_orders.\n",
    "We need to prepare the orders of the clients:\n",
    "\n",
    "Create an empty list called finished_sandwiches.\n",
    "\n",
    "One by one, remove each sandwich from the sandwich_orders while adding them to the finished_sandwiches list.\n",
    "After all the sandwiches have been made, print a message listing each sandwich that was made, such as:\n",
    "\n",
    "\n",
    "I made your tuna sandwich\n",
    "I made your avocado sandwich\n",
    "I made your egg sandwich\n",
    "I made your chicken sandwich"
   ]
  },
  {
   "cell_type": "code",
   "execution_count": 1,
   "id": "d1e84208",
   "metadata": {},
   "outputs": [
    {
     "name": "stdout",
     "output_type": "stream",
     "text": [
      "Hello world\n",
      "Hello world\n",
      "Hello world\n",
      "Hello world\n"
     ]
    }
   ],
   "source": [
    "#🌟 Exercise 1 : Hello World - Print the following output in one line of code:\n",
    "    #Hello world\n",
    "    #Hello world\n",
    "    #Hello world\n",
    "    #Hello world\n",
    "\n",
    "for _ in range(4):\n",
    "    print(\"Hello world\")"
   ]
  },
  {
   "cell_type": "code",
   "execution_count": 3,
   "id": "e889460b",
   "metadata": {},
   "outputs": [
    {
     "name": "stdout",
     "output_type": "stream",
     "text": [
      "7762392\n"
     ]
    }
   ],
   "source": [
    "#🌟 Exercise 2 : Some Math - Write code that calculates the result of: (99^3)*8 (meaning 99 to the power of 3, times 8).\n",
    "\n",
    "result = (99 ** 3) * 8\n",
    "print(result)"
   ]
  },
  {
   "cell_type": "code",
   "execution_count": 5,
   "id": "ddd4a129",
   "metadata": {},
   "outputs": [
    {
     "name": "stdout",
     "output_type": "stream",
     "text": [
      "Nice to meet you, Pierre! But I still prefer my name\n"
     ]
    }
   ],
   "source": [
    "#🌟 Exercise 3 : What’s your name ?\n",
    "#Write code that asks the user for their name and determines whether or not you have the same name, print out a funny message based on the outcome.\n",
    "\n",
    "my_name = \"Olivier\"  \n",
    "user_name = input(\"What’s your name? \")\n",
    "\n",
    "if user_name == my_name:\n",
    "    print(\"Wow! We have the same name!\")\n",
    "else:\n",
    "    print(f\"Nice to meet you, {user_name}! But I still prefer my name\")"
   ]
  },
  {
   "cell_type": "code",
   "execution_count": 6,
   "id": "325056bf",
   "metadata": {},
   "outputs": [
    {
     "name": "stdout",
     "output_type": "stream",
     "text": [
      "You are tall enough to ride!\n"
     ]
    }
   ],
   "source": [
    "#🌟 Exercise 4 : Tall enough to ride a roller coaster\n",
    "    #Write code that will ask the user for their height in centimeters.\n",
    "        #If they are over 145cm print a message that states they are tall enough to ride.\n",
    "        #If they are not tall enough print a message that says they need to grow some more to ride.\n",
    "\n",
    "height = int(input(\"How tall are you (in cm)? \"))\n",
    "\n",
    "if height >= 145:\n",
    "    print(\"You are tall enough to ride!\")\n",
    "else:\n",
    "    print(\"Sorry, you need to grow a bit more to ride!\")\n"
   ]
  },
  {
   "cell_type": "code",
   "execution_count": 8,
   "id": "c1ba5fbc",
   "metadata": {},
   "outputs": [
    {
     "name": "stdout",
     "output_type": "stream",
     "text": [
      "Our favorite numbers are: {3, 21, 7, 88, 42, 13}\n"
     ]
    }
   ],
   "source": [
    "#🌟 Exercise 5 : Favorite Numbers - Instructions:\n",
    "\n",
    "#Create a set called my_fav_numbers and populate it with your favorite numbers.\n",
    "my_fav_numbers = {7, 21, 42}\n",
    "\n",
    "#Add two new numbers to the set.\n",
    "my_fav_numbers.add(13)\n",
    "my_fav_numbers.add(99)\n",
    "\n",
    "#Remove the last number you added to the set.\n",
    "my_fav_numbers.remove(99)\n",
    "\n",
    "#Create another set called friend_fav_numbers and populate it with your friend’s favorite numbers.\n",
    "friend_fav_numbers = {3, 21, 88}\n",
    "\n",
    "#Concatenate my_fav_numbers and friend_fav_numbers to create a new set called our_fav_numbers.\n",
    "our_fav_numbers = my_fav_numbers.union(friend_fav_numbers)\n",
    "\n",
    "print(\"Our favorite numbers are:\", our_fav_numbers)"
   ]
  },
  {
   "cell_type": "code",
   "execution_count": null,
   "id": "7f8f949a",
   "metadata": {},
   "outputs": [],
   "source": [
    "# Exercise 6: Tuple\n",
    "\n",
    "# Instructions:\n",
    "\n",
    "#Tuple creation :\n",
    "my_numbers = (1, 2, 3)\n",
    "\n",
    "#Given a tuple of integers, try to add more integers to the tuple.\n",
    "my_numbers.append(4)\n",
    "\n",
    "#This action is not possible for a tupple, for tuples are immutable, which means we can't change them once created."
   ]
  },
  {
   "cell_type": "code",
   "execution_count": 11,
   "id": "9fd5a682",
   "metadata": {},
   "outputs": [
    {
     "name": "stdout",
     "output_type": "stream",
     "text": [
      "Number of times 'Apples' appears: 2\n",
      "Final basket content: []\n"
     ]
    }
   ],
   "source": [
    "# Exercise 7: \n",
    "    #Instructions:\n",
    "\n",
    "#You have a list: basket = [\"Banana\", \"Apples\", \"Oranges\", \"Blueberries\"]\n",
    "basket = [\"Banana\", \"Apples\", \"Oranges\", \"Blueberries\"]\n",
    "\n",
    "#Remove \"Banana\" from the list.\n",
    "basket.remove(\"Banana\")\n",
    "\n",
    "#Remove \"Blueberries\" from the list.\n",
    "basket.remove(\"Blueberries\")\n",
    "\n",
    "#Add \"Kiwi\" to the end of the list.\n",
    "basket.append(\"Kiwi\")\n",
    "\n",
    "#Add \"Apples\" to the beginning of the list.\n",
    "basket.insert(0, \"Apples\")\n",
    "\n",
    "#Count how many times \"Apples\" appear in the list.\n",
    "apples_count = basket.count(\"Apples\")\n",
    "print(\"Number of times 'Apples' appears:\", apples_count)\n",
    "\n",
    "#Empty the list.\n",
    "basket.clear()\n",
    "\n",
    "#Print the final state of the list.\n",
    "print(\"Final basket content:\", basket)"
   ]
  },
  {
   "cell_type": "code",
   "execution_count": 17,
   "id": "0f2dd150",
   "metadata": {},
   "outputs": [
    {
     "name": "stdout",
     "output_type": "stream",
     "text": [
      "Sorry, we're out of Pastrami!\n",
      "I made your tuna sandwich\n",
      "I made your avocado sandwich\n",
      "I made your egg sandwich\n",
      "I made your chicken sandwich\n",
      "\n",
      "Here is the list of sandwiches we made today:\n",
      "1. Tuna sandwich — freshly made just for you!\n",
      "2. Avocado sandwich — freshly made just for you!\n",
      "3. Egg sandwich — freshly made just for you!\n",
      "4. Chicken sandwich — freshly made just for you!\n"
     ]
    }
   ],
   "source": [
    "#Exercise 8 : Sandwich Orders\n",
    "\n",
    "sandwich_orders = [\n",
    "    \"Tuna sandwich\", \"Pastrami sandwich\", \"Avocado sandwich\",\n",
    "    \"Pastrami sandwich\", \"Egg sandwich\", \"Chicken sandwich\", \"Pastrami sandwich\"\n",
    "]\n",
    "\n",
    "# The deli has run out of pastrami, use a while loop to remove all occurrences of Pastrami sandwich from sandwich_orders. \n",
    "# We need to prepare the orders of the clients:\n",
    "print(\"Sorry, we're out of Pastrami!\")\n",
    "while \"Pastrami sandwich\" in sandwich_orders:\n",
    "    sandwich_orders.remove(\"Pastrami sandwich\")\n",
    "\n",
    "# Create an empty list called finished_sandwiches.\n",
    "finished_sandwiches = []\n",
    "\n",
    "# 4. One by one, remove each sandwich from the sandwich_orders while adding them to the finished_sandwiches list.\n",
    "\n",
    "\n",
    "while sandwich_orders:\n",
    "    sandwich = sandwich_orders.pop(0)  \n",
    "    print(f\"I made your {sandwich.lower()}\")\n",
    "    finished_sandwiches.append(sandwich)\n",
    "\n",
    "# #After all the sandwiches have been made, print a message listing each sandwich that was made, such as:\n",
    "    #I made your tuna sandwich\n",
    "    #I made your avocado sandwich\n",
    "    #I made your egg sandwich\n",
    "    #I made your chicken sandwich\n",
    "\n",
    "print(\"\\nHere is the list of sandwiches we made today:\")\n",
    "for i, sandwich in enumerate(finished_sandwiches, 1):\n",
    "    print(f\"{i}. {sandwich} — freshly made just for you!\")\n"
   ]
  }
 ],
 "metadata": {
  "kernelspec": {
   "display_name": "Python 3",
   "language": "python",
   "name": "python3"
  },
  "language_info": {
   "codemirror_mode": {
    "name": "ipython",
    "version": 3
   },
   "file_extension": ".py",
   "mimetype": "text/x-python",
   "name": "python",
   "nbconvert_exporter": "python",
   "pygments_lexer": "ipython3",
   "version": "3.11.9"
  }
 },
 "nbformat": 4,
 "nbformat_minor": 5
}
