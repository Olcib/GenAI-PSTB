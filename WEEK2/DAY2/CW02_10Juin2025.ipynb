{
 "cells": [
  {
   "cell_type": "markdown",
   "id": "0fb817a0",
   "metadata": {},
   "source": [
    "#🚀 Challenge\n",
    "people = [\"Rick\", \"Morty\", \"Beth\", \"Jerry\", \"Snowball\"]\n",
    "\n",
    "Using map and filter, try to say hello to everyone who's name is less than or equal to 4 letters"
   ]
  },
  {
   "cell_type": "code",
   "execution_count": null,
   "id": "f078d1cd",
   "metadata": {},
   "outputs": [],
   "source": [
    "people = [\"Rick\", \"Morty\", \"Beth\", \"Jerry\", \"Snowball\"]\n",
    "\n",
    "#filter names with less than or equal to 4 letters\n",
    "short_names = filter(lambda name: len(name) <= 4, people)\n",
    "\n",
    "\n",
    "\n",
    "\n",
    "\n"
   ]
  },
  {
   "cell_type": "code",
   "execution_count": null,
   "id": "296e30ee",
   "metadata": {},
   "outputs": [],
   "source": [
    "def is_short_name(name):\n",
    "    return len(name)<=4\n",
    "\n",
    "def greet(name):\n",
    "    f\"Hello{name}!\"\n",
    "\n",
    "people = [\"Rick\", \"Morty\", \"Beth\", \"Jerry\", \"Snowball\"]\n",
    "\n",
    "#use filter and map with functions definitions\n",
    "short_names=filter(is_short_name,people)\n",
    "greetings=map(greet,short_names)\n",
    "\n",
    "#print the greetings\n",
    "print(list(greetings))"
   ]
  },
  {
   "cell_type": "markdown",
   "id": "cff81792",
   "metadata": {},
   "source": [
    "🌟 Exercise 1: Converting Lists into Dictionaries\n",
    "Key Python Topics:\n",
    "    • Creating dictionaries\n",
    "    • Zip function or dictionary comprehension\n",
    "\n",
    "Instructions\n",
    "You are given two lists. Convert them into a dictionary where the first list contains the keys and the second list contains the corresponding values.\n",
    "\n",
    "Lists:\n",
    "keys = ['Ten', 'Twenty', 'Thirty']\n",
    "values = [10, 20, 30]\n",
    "\n",
    "Expected Output:\n",
    "{'Ten': 10, 'Twenty': 20, 'Thirty': 30}"
   ]
  },
  {
   "cell_type": "code",
   "execution_count": 5,
   "id": "25b418a4",
   "metadata": {},
   "outputs": [
    {
     "name": "stdout",
     "output_type": "stream",
     "text": [
      "{'Ten': 10, 'Twenty': 20, 'Thirty': 30}\n"
     ]
    }
   ],
   "source": [
    "#Instructions - You are given two lists. Convert them into a dictionary where the first list contains the keys and the second list contains the corresponding values.\n",
    "\n",
    "keys = ['Ten', 'Twenty', 'Thirty']\n",
    "values = [10, 20, 30]\n",
    "\n",
    "number_dict = dict(zip(keys,values))\n",
    "print(number_dict)\n"
   ]
  },
  {
   "cell_type": "markdown",
   "id": "c8850164",
   "metadata": {},
   "source": [
    "🌟 Exercise 2: Cinemax #2\n",
    "Key Python Topics:\n",
    "\n",
    "Looping through dictionaries\n",
    "Conditionals\n",
    "Calculations\n",
    "\n",
    "Instructions : Write a program that calculates the total cost of movie tickets for a family based on their ages.\n",
    "\n",
    "Family members’ ages are stored in a dictionary.\n",
    "The ticket pricing rules are as follows:\n",
    "Under 3 years old: Free\n",
    "3 to 12 years old: $10\n",
    "Over 12 years old: $15\n",
    "\n",
    "Family Data:\n",
    "family = {\"rick\": 43, 'beth': 13, 'morty': 5, 'summer': 8}\n",
    "\n",
    "Loop through the family dictionary to calculate the total cost.\n",
    "Print the ticket price for each family member.\n",
    "Print the total cost at the end.\n",
    "\n",
    "Bonus:\n",
    "Allow the user to input family members’ names and ages, then calculate the total ticket cost."
   ]
  },
  {
   "cell_type": "code",
   "execution_count": 16,
   "id": "9853ee4a",
   "metadata": {},
   "outputs": [
    {
     "name": "stdout",
     "output_type": "stream",
     "text": [
      "total cost for the movies : $50\n"
     ]
    }
   ],
   "source": [
    "# Write a program that calculates the total cost of movie tickets for a family based on their ages.\n",
    "\n",
    "\n",
    "family = {\"rick\": 43, 'beth': 13, 'morty': 5, 'summer': 8}\n",
    "total_cost=0\n",
    "\n",
    "\n",
    "for nom, age in family.items():\n",
    "    if age<3: price=0\n",
    "    elif 3<age<12: price = 10\n",
    "    else: price=15\n",
    "    total_cost += price\n",
    "\n",
    "print(f\"total cost for the movies : ${total_cost}\")\n",
    "\n"
   ]
  },
  {
   "cell_type": "markdown",
   "id": "28988f56",
   "metadata": {},
   "source": [
    "Instructions\n",
    "\n",
    "Create and manipulate a dictionary that contains information about the Zara brand.\n",
    "\n",
    "Brand Information:\n",
    "\n",
    "name: Zara\n",
    "creation_date: 1975\n",
    "creator_name: Amancio Ortega Gaona\n",
    "type_of_clothes: men, women, children, home\n",
    "international_competitors: Gap, H&M, Benetton\n",
    "number_stores: 7000\n",
    "major_color: \n",
    "    France: blue, \n",
    "    Spain: red, \n",
    "    US: pink, green\n",
    "\n",
    "Create a dictionary called brand with the provided data.\n",
    "Modify and access the dictionary as follows:\n",
    "Change the value of number_stores to 2.\n",
    "Print a sentence describing Zara’s clients using the type_of_clothes key.\n",
    "Add a new key country_creation with the value Spain.\n",
    "Check if international_competitors exists and, if so, add “Desigual” to the list.\n",
    "Delete the creation_date key.\n",
    "Print the last item in international_competitors.\n",
    "Print the major colors in the US.\n",
    "Print the number of keys in the dictionary.\n",
    "Print all keys of the dictionary."
   ]
  },
  {
   "cell_type": "code",
   "execution_count": 35,
   "id": "b55af296",
   "metadata": {},
   "outputs": [
    {
     "name": "stdout",
     "output_type": "stream",
     "text": [
      "{'name': 'Zara', 'creation_date': '1975', 'creator_name': 'Amancio_Ortega_Gaona', 'type_of_clothes': ['men', 'women', 'children', 'home'], 'international_competitors': ['Gap', 'H&M', 'Benetton'], 'number_stores': 7000, 'major_color': {'France': 'blue', 'Spain': 'red', 'US': ['pink', 'green']}}\n"
     ]
    }
   ],
   "source": [
    "#Instructions - Create and manipulate a dictionary that contains information about the Zara brand.\n",
    "\n",
    "brand={\n",
    "    'name': 'Zara',\n",
    "    'creation_date':'1975',\n",
    "    'creator_name': 'Amancio_Ortega_Gaona',\n",
    "    'type_of_clothes': ['men', 'women', 'children', 'home'],\n",
    "    'international_competitors': ['Gap', 'H&M', 'Benetton'],\n",
    "    'number_stores': 7000,\n",
    "    'major_color': {\n",
    "        'France': 'blue', \n",
    "        'Spain': 'red', \n",
    "        'US': ['pink', 'green'],\n",
    "    }\n",
    "}\n",
    "\n",
    "print(brand)\n"
   ]
  },
  {
   "cell_type": "code",
   "execution_count": null,
   "id": "ee8f1740",
   "metadata": {},
   "outputs": [
    {
     "name": "stdout",
     "output_type": "stream",
     "text": [
      "{'name': 'Zara', 'creation_date': '1975', 'creator_name': 'Amancio_Ortega_Gaona', 'type_of_clothes': ['men', 'women', 'children', 'home'], 'international_competitors': ['Gap', 'H&M', 'Benetton'], 'number_stores': 2, 'major_color': {'France': 'blue', 'Spain': 'red', 'US': ['pink', 'green']}}\n"
     ]
    }
   ],
   "source": [
    "#Modify and access the dictionary as follows:\n",
    "    #Change the value of number_stores to 2.\n",
    "\n",
    "brand = {'name': 'Zara', 'creation_date': '1975', 'creator_name': 'Amancio_Ortega_Gaona', 'type_of_clothes': ['men', 'women', 'children', 'home'], 'international_competitors': ['Gap', 'H&M', 'Benetton'], 'number_stores': 7000, 'major_color': {'France': 'blue', 'Spain': 'red', 'US': ['pink', 'green']}}\n",
    "new_brand = {'name': 'Zara', 'creation_date': '1975', 'creator_name': 'Amancio_Ortega_Gaona', 'type_of_clothes': ['men', 'women', 'children', 'home'], 'international_competitors': ['Gap', 'H&M', 'Benetton'], 'number_stores': 2, 'major_color': {'France': 'blue', 'Spain': 'red', 'US': ['pink', 'green']}}\n",
    "\n",
    "brand.update(new_brand)\n",
    "\n",
    "print(new_brand)\n"
   ]
  },
  {
   "cell_type": "code",
   "execution_count": 55,
   "id": "3967bfa9",
   "metadata": {},
   "outputs": [
    {
     "name": "stdout",
     "output_type": "stream",
     "text": [
      " : When visiting Zara's stores, I'm looking for ['men', 'women', 'children', 'home'] clothes\n"
     ]
    }
   ],
   "source": [
    "#Modify and access the dictionary as follows:\n",
    "    #Print a sentence describing Zara’s clients using the type_of_clothes key.\n",
    "\n",
    "\n",
    "brand['type_of_clothes']\n",
    "\n",
    "print(f\" : When visiting Zara's stores, I'm looking for {brand ['type_of_clothes']} clothes\")\n"
   ]
  },
  {
   "cell_type": "code",
   "execution_count": null,
   "id": "d5cebf64",
   "metadata": {},
   "outputs": [
    {
     "name": "stdout",
     "output_type": "stream",
     "text": [
      "{'name': 'Zara', 'creation_date': '1975', 'creator_name': 'Amancio_Ortega_Gaona', 'type_of_clothes': ['men', 'women', 'children', 'home'], 'international_competitors': ['Gap', 'H&M', 'Benetton'], 'number_stores': 2, 'major_color': {'France': 'blue', 'Spain': 'red', 'US': ['pink', 'green']}, 'country_creation': 'Spain'}\n"
     ]
    }
   ],
   "source": [
    "#Add a new key country_creation with the value Spain.\n",
    "\n",
    "brand = {'name': 'Zara', 'creation_date': '1975', 'creator_name': 'Amancio_Ortega_Gaona', 'type_of_clothes': ['men', 'women', 'children', 'home'], 'international_competitors': ['Gap', 'H&M', 'Benetton'], 'number_stores': 7000, 'major_color': {'France': 'blue', 'Spain': 'red', 'US': ['pink', 'green']}}\n",
    "\n",
    "new_brand[\"country_creation\"] = \"Spain\"\n",
    "\n",
    "print(new_brand)\n",
    "\n",
    "\n",
    "brand[\"country_creation\"]= \"Spain\"\n"
   ]
  },
  {
   "cell_type": "code",
   "execution_count": 78,
   "id": "26b1bb87",
   "metadata": {},
   "outputs": [
    {
     "name": "stdout",
     "output_type": "stream",
     "text": [
      "{'name': 'Zara', 'creation_date': '1975', 'creator_name': 'Amancio_Ortega_Gaona', 'type_of_clothes': ['men', 'women', 'children', 'home'], 'international_competitors': ['Gap', 'H&M', 'Benetton', 'Desigual', 'Desigual', 'Desigual', 'Desigual', 'Desigual', 'Desigual'], 'number_stores': 7000, 'major_color': {'France': 'blue', 'Spain': 'red', 'US': ['pink', 'green']}}\n"
     ]
    }
   ],
   "source": [
    "#Check if international_competitors exists and, if so, add “Desigual” to the list.\n",
    "\n",
    "brand['international_competitors'].append('Desigual')\n",
    "print(brand)"
   ]
  },
  {
   "cell_type": "code",
   "execution_count": 86,
   "id": "5dbc9eb1",
   "metadata": {},
   "outputs": [],
   "source": [
    "#Delete the creation_date key.\n",
    "\n",
    "del brand['creation_date']\n"
   ]
  },
  {
   "cell_type": "code",
   "execution_count": null,
   "id": "93a5b4a9",
   "metadata": {},
   "outputs": [],
   "source": [
    "Print the last item \n",
    "\n",
    "print(f'lastinternational_competitor: {brand['international_competitors'] [-1]}')"
   ]
  },
  {
   "cell_type": "code",
   "execution_count": 95,
   "id": "b5181396",
   "metadata": {},
   "outputs": [
    {
     "name": "stdout",
     "output_type": "stream",
     "text": [
      "major clothes color in the US: pink,green\n"
     ]
    }
   ],
   "source": [
    "print(f\"major clothes color in the US: {','.join(brand['major_color']['US'])}\")"
   ]
  },
  {
   "cell_type": "code",
   "execution_count": 96,
   "id": "fdcdc581",
   "metadata": {},
   "outputs": [
    {
     "name": "stdout",
     "output_type": "stream",
     "text": [
      "7\n"
     ]
    }
   ],
   "source": [
    "#Print the number of keys in the dictionary.\n",
    "\n",
    "print(len(brand))"
   ]
  },
  {
   "cell_type": "code",
   "execution_count": 100,
   "id": "53485a9d",
   "metadata": {},
   "outputs": [
    {
     "name": "stdout",
     "output_type": "stream",
     "text": [
      "dict_keys(['name', 'creator_name', 'type_of_clothes', 'international_competitors', 'number_stores', 'major_color', 'country_creation'])\n"
     ]
    }
   ],
   "source": [
    "#Print all keys of the dictionary.\n",
    "\n",
    "print(brand.keys())\n"
   ]
  },
  {
   "cell_type": "markdown",
   "id": "9a5e23ad",
   "metadata": {},
   "source": [
    "🌟 Exercise 4 : Some Geography\n",
    "Goal: Create a function that describes a city and its country.\n",
    "\n",
    "Key Python Topics:\n",
    "\n",
    "Functions with multiple parameters\n",
    "Default parameter values\n",
    "String formatting\n",
    "\n",
    "\n",
    "Step 1: Define a Function with Parameters ok\n",
    "\n",
    "Define a function named describe_city().\n",
    "This function should accept two parameters: city and country.\n",
    "Give the country parameter a default value, such as “Unknown”.\n",
    "\n",
    "\n",
    "Step 2: Print a Message\n",
    "\n",
    "Inside the function, set up the code to display a sentence like “ is in “.\n",
    "Replace <city> and <country> with the parameter values.\n",
    "\n",
    "\n",
    "Step 3: Call the Function\n",
    "\n",
    "Call the describe_city() function with different city and country combinations.\n",
    "Try calling it with and without providing the country argument to see the default value in action.\n",
    "Example: describe_city(\"Reykjavik\", \"Iceland\") and describe_city(\"Paris\").\n",
    "\n",
    "\n",
    "Expected Output:\n",
    "\n",
    "Reykjavik is in Iceland.\n",
    "Paris is in Unknown."
   ]
  },
  {
   "cell_type": "code",
   "execution_count": 138,
   "id": "f7695790",
   "metadata": {},
   "outputs": [
    {
     "name": "stdout",
     "output_type": "stream",
     "text": [
      "The city London is in the country UK.\n"
     ]
    }
   ],
   "source": [
    "#🌟 Exercise 4 : Some Geography - Goal: Create a function that describes a city and its country.\n",
    "\n",
    "#Step 1: Define a Function with Parameters ok\n",
    "    #Define a function named describe_city().\n",
    "    #This function should accept two parameters: city and country.\n",
    "    #Give the country parameter a default value, such as “Unknown”.\n",
    "\n",
    "def describe_city(city,country='Unknown'):\n",
    "    print(f\"The city {city} is in the country {country}.\")\n",
    "\n",
    "describe_city('London','UK')\n",
    "\n"
   ]
  },
  {
   "cell_type": "code",
   "execution_count": 137,
   "id": "0b3bae22",
   "metadata": {},
   "outputs": [
    {
     "name": "stdout",
     "output_type": "stream",
     "text": [
      "The city Paris is in the country Unknown.\n"
     ]
    }
   ],
   "source": [
    "describe_city(\"Paris\")"
   ]
  },
  {
   "cell_type": "markdown",
   "id": "7cc7c3ba",
   "metadata": {},
   "source": [
    "🌟 Exercise 5 : Random\n",
    "Goal: Create a function that generates random numbers and compares them.\n",
    "\n",
    "Key Python Topics:\n",
    "\n",
    "random module\n",
    "random.randint() function\n",
    "Conditional statements (if, else)\n",
    "\n",
    "\n",
    "Step 1: Import the random Module\n",
    "\n",
    "At the beginning of your script, use import random to access the random number generation functions.\n",
    "\n",
    "\n",
    "Step 2: Define a Function with a Parameter\n",
    "\n",
    "Create a function that accepts a number between 1 and 100 as a parameter.\n",
    "\n",
    "\n",
    "Step 3: Generate a Random Number\n",
    "\n",
    "Inside the function, use random.randint(1, 100) to generate a random integer between 1 and 100.\n",
    "\n",
    "\n",
    "Step 4: Compare the Numbers\n",
    "\n",
    "If they are the same, print a success message. Otherwise, print a fail message and display both numbers.\n",
    "\n",
    "\n",
    "Step 5: Call the Function\n",
    "\n",
    "Call the function with a number between 1 and 100.\n",
    "\n",
    "\n",
    "Expected Output:\n",
    "\n",
    "Success! (if the numbers match)\n",
    "Fail! Your number: 50, Random number: 23 (if they don't match)\n"
   ]
  },
  {
   "cell_type": "code",
   "execution_count": 139,
   "id": "9c84f7ed",
   "metadata": {},
   "outputs": [],
   "source": [
    "#🌟 Exercise 5 : Random - Goal: Create a function that generates random numbers and compares them.\n",
    "\n",
    "#Key Python Topics:\n",
    "#random module\n",
    "#random.randint() function\n",
    "#Conditional statements (if, else)\n",
    "\n",
    "#Step 1: Import the random Module\n",
    "\n",
    "import random"
   ]
  },
  {
   "cell_type": "code",
   "execution_count": 170,
   "id": "770ca53b",
   "metadata": {},
   "outputs": [
    {
     "data": {
      "text/plain": [
       "55"
      ]
     },
     "execution_count": 170,
     "metadata": {},
     "output_type": "execute_result"
    }
   ],
   "source": [
    "#Step 2: Define a Function with a Parameter\n",
    "    #Create a function that accepts a number between 1 and 100 as a parameter.\n",
    "\n",
    "def between_1_and_100_number():\n",
    "    print(n)\n",
    "\n",
    "#Step 3: Generate a Random Number\n",
    "    #Inside the function, use random.randint(1, 100) to generate a random integer between 1 and 100.\n",
    "\n",
    "    nombre = int(random.randint(1, 100))\n",
    "\n",
    "random.randint(1, 100)\n"
   ]
  },
  {
   "cell_type": "code",
   "execution_count": 154,
   "id": "196c4b73",
   "metadata": {},
   "outputs": [
    {
     "name": "stdout",
     "output_type": "stream",
     "text": [
      "Error! You choosed 92 and the random number was 37\n"
     ]
    }
   ],
   "source": [
    "#Step 4: Compare the Numbers\n",
    "    #If they are the same, print a success message. Otherwise, print a fail message and display both numbers.\n",
    "\n",
    "a=random.randint(1, 100)\n",
    "b=random.randint(1, 100)\n",
    "\n",
    "if a==b:\n",
    "    print({f\"You got it!! Both numbers are equal!\"})\n",
    "else:\n",
    "    print(f\"Error! You choosed {a} and the random number was {b}\")"
   ]
  },
  {
   "cell_type": "code",
   "execution_count": null,
   "id": "905aa1e1",
   "metadata": {},
   "outputs": [],
   "source": [
    "#🌟 Exercise 6 : Let’s create some personalized shirts !\n",
    "#Goal: Create a function to describe a shirt’s size and message, with default values.\n",
    "\n",
    "#Step 1: Define a Function with Parameters\n",
    "    #Define a function called make_shirt().\n",
    "    #This function should accept two parameters: size and text.\n",
    "\n",
    "def make_shirt():\n",
    "    shirt = ['size','text']\n",
    "\n",
    "#Step 2: Print a Summary Message\n",
    "    #Set up the function to display a sentence summarizing the shirt’s size and message.\n",
    "\n",
    "def make_shirt(size,text):\n",
    "    print(f\"the shirt's size is '{size} and the text is {text}\")"
   ]
  },
  {
   "cell_type": "code",
   "execution_count": 175,
   "id": "7165bbc3",
   "metadata": {},
   "outputs": [],
   "source": [
    "#Step 4: Modify the Function with Default Values\n",
    "    #Modify the make_shirt() function so that size has a default value of “large” and text has a default value of “I love Python”.\n",
    "\n",
    "def make_shirt(size=\"large\", text=\"I love Python\"):\n",
    "    print(f\"The shirt size is {size} and it will say: '{text}'\")"
   ]
  },
  {
   "cell_type": "code",
   "execution_count": 182,
   "id": "c76b2e09",
   "metadata": {},
   "outputs": [
    {
     "name": "stdout",
     "output_type": "stream",
     "text": [
      "The shirt size is large and it will say: 'I love Python'\n",
      "The shirt size is medium and it will say: 'I love Python'\n",
      "The shirt size is any_size and it will say: 'custom message'\n"
     ]
    }
   ],
   "source": [
    "#Step 5: Call the Function with Default and Custom Values\n",
    "\n",
    "#Call make_shirt() to make a large shirt with the default message.\n",
    "\n",
    "make_shirt()\n",
    "\n",
    "#Call make_shirt() to make a medium shirt with the default message.\n",
    "\n",
    "make_shirt('medium',text=\"I love Python\")\n",
    "\n",
    "#Call make_shirt() to make a shirt of any size with a different message.\n",
    "make_shirt('any_size',text=\"custom message\")\n"
   ]
  },
  {
   "cell_type": "code",
   "execution_count": null,
   "id": "8c7deaae",
   "metadata": {},
   "outputs": [
    {
     "name": "stdout",
     "output_type": "stream",
     "text": [
      "30\n"
     ]
    }
   ],
   "source": [
    "#🌟 Exercise 7 : Temperature Advice - Goal: Generate a random temperature and provide advice based on the temperature range.\n",
    "\n",
    "#Step 1: Create the get_random_temp() Function\n",
    "    #Create a function called get_random_temp() that returns a random integer between -10 and 40 degrees Celsius.\n",
    "\n",
    "def get_random_temp():\n",
    "    int(get_random_temp=[-10<'number'<40])\n",
    "\n",
    "#Step 2: Create the main() Function\n",
    "    #Create a function called main(). Inside this function:\n",
    "        #Call get_random_temp() to get a random temperature.\n",
    "        #Store the temperature in a variable and print a friendly message like:\n",
    "            #“The temperature right now is 32 degrees Celsius.”\n",
    "\n",
    "def main():\n",
    "    print(main(get_random_temp))\n",
    "    print f\"the temperature right now is {'number'} degrees Celsius\"\n",
    "\n",
    "print(30)\n",
    "\n",
    "#Step 3: Provide Temperature-Based Advice\n",
    "    #Inside main(), provide advice based on the temperature:\n",
    "\n",
    "if main('number') <0:\n",
    "    print(\"Brrr, that's freezing! Wear some extra layers today.\")\n",
    "elif 0<=main('number')<16:\n",
    "    print(\"Quite chilly! Don’t forget your coat.\")\n",
    "elif 16<=main('number')<23:\n",
    "    print(\"Nice weather.\")\n",
    "elif 23<=main('number')<32:\n",
    "    print(\"A bit warm, stay hydrated.\")\n",
    "else :\n",
    "    print(\"It’s really hot! Stay cool.\")"
   ]
  },
  {
   "cell_type": "code",
   "execution_count": 198,
   "id": "e8382015",
   "metadata": {},
   "outputs": [
    {
     "name": "stdout",
     "output_type": "stream",
     "text": [
      "The temperature right now is -7 degrees Celsius\n",
      "Brr, that's freezing!\n"
     ]
    }
   ],
   "source": [
    "import random\n",
    "def get_random_temp(season):\n",
    "    if season == \"winter\":\n",
    "        return random.randint(-10, 15)\n",
    "    elif season == \"autumn\" or season == \"spring\":\n",
    "        return random.randint(16, 22)\n",
    "    elif season == \"summer\":\n",
    "        return random.randint(23, 39)\n",
    "def main():\n",
    "    season = input(\"Enter a season: \")\n",
    "    temp = get_random_temp(season)\n",
    "    print(f\"The temperature right now is {temp} degrees Celsius\")\n",
    "    if temp < 0:\n",
    "        print(\"Brr, that's freezing!\")\n",
    "    elif 0 <= temp < 16:\n",
    "        print(\"Quite chilly! Don't forget your coat\")\n",
    "    elif 16 <= temp < 23:\n",
    "        print(\"Ahh that's nice weather!\")\n",
    "    elif 23 <= temp < 32:\n",
    "        print(\"Getting a bit warm here\")\n",
    "    elif 32 <= temp < 40:\n",
    "        print(\"AHHHH im burning!\")\n",
    "main()"
   ]
  },
  {
   "cell_type": "code",
   "execution_count": 15,
   "id": "aa571c7e",
   "metadata": {},
   "outputs": [],
   "source": [
    "#Step 4: Floating-Point Temperatures (Bonus)\n",
    "    #Modify get_random_temp() to return a random floating-point number using random.uniform() for more accurate temperature values.\n",
    "\n",
    "def get_random_temp():\n",
    "        return round(random.uniform(-10.0, 40.0), 1)\n",
    "\n",
    "\n",
    "#Step 5: Month-Based Seasons (Bonus)\n",
    "    #Instead of directly generating a random temperature, ask the user for a month (1-12) and determine the season using if/elif conditions.\n",
    "    #Modify get_random_temp() to return temperatures specific to each season.\n",
    "\n",
    "def get_random_temp(month):\n",
    "    if month in [12, 1, 2]:  # hiver\n",
    "        return round(random.uniform(-10.0, 5.0), 1)\n",
    "    elif month in [3, 4, 5]:  # printemps\n",
    "        return round(random.uniform(5.0, 18.0), 1)\n",
    "    elif month in [6, 7, 8]:  # été\n",
    "        return round(random.uniform(20.0, 35.0), 1)\n",
    "    elif month in [9, 10, 11]:  # automne\n",
    "        return round(random.uniform(10.0, 20.0), 1)\n",
    "    else:\n",
    "        return None  # mois invalide\n"
   ]
  },
  {
   "cell_type": "code",
   "execution_count": null,
   "id": "d0f25603",
   "metadata": {},
   "outputs": [
    {
     "name": "stdout",
     "output_type": "stream",
     "text": [
      "Bienvenue ! Tape 'quit' pour arrêter la commande.\n",
      "\n",
      "Voici votre pizza avec les ingrédients suivants :\n",
      "Prix total : $10.00\n"
     ]
    }
   ],
   "source": [
    "#Exercise 8: Pizza Toppings - \n",
    "    #Write a loop that asks the user to enter pizza toppings one by one.\n",
    "    #Stop the loop when the user types 'quit'.\n",
    "    #For each topping entered, print:\n",
    "        #\"Adding [topping] to your pizza.\"\n",
    "        #After exiting the loop, print all the toppings and the total cost of the pizza.\n",
    "        #The base price is $10, and each topping adds $2.50.\n",
    "\n",
    "base_price = 10.0\n",
    "topping_price = 2.5\n",
    "toppings = []\n",
    "\n",
    "print(\"Bienvenue ! Tape 'quit' pour arrêter la commande.\")\n",
    "\n",
    "while True:\n",
    "    topping = input(\"Entrez un ingrédient pour votre pizza : \").strip()\n",
    "\n",
    "    if topping.lower() == 'quit':\n",
    "        break\n",
    "    else:\n",
    "        print(f\"Adding {topping} to your pizza.\")\n",
    "        toppings.append(topping)\n",
    "\n",
    "total_price = base_price + len(toppings) * topping_price\n",
    "\n",
    "print(\"\\nVoici votre pizza avec les ingrédients suivants :\")\n",
    "for t in toppings:\n",
    "    print(f\"- {t}\")\n",
    "\n",
    "print(f\"Prix total : ${total_price:.2f}\")\n",
    "\n",
    "\n",
    "\n",
    "\n",
    "\n",
    "\n",
    "\n",
    "\n"
   ]
  },
  {
   "cell_type": "markdown",
   "id": "85443fe8",
   "metadata": {},
   "source": [
    " GenAI & Machine Learning Bootcamp 2025 - Full Time 2025 - PSTB Python and OOP Python Essentials Daily Challenge: Dictionaries\n",
    "Daily Challenge: Dictionaries\n",
    "Last Updated: March 5th, 2025\n",
    "\n",
    "👩‍🏫 👩🏿‍🏫 What You’ll learn\n",
    "In this challenge, you will enhance your understanding of Python dictionaries, string manipulation, and working with list data structures. You’ll practice iterating over strings, updating dictionaries, and handling data types, all fundamental skills in programming.\n",
    "\n",
    "\n",
    "\n",
    "🛠️ What you will create\n",
    "You will create a Python script that processes user input to map the positions of each letter in a given word into a dictionary. This will involve string indexing, dictionary manipulation, and ensuring data types are appropriately handled.\n",
    "\n",
    "\n",
    "\n",
    "Challenge\n",
    "Ask a user for a word.\n",
    "Write a program that creates a dictionary. This dictionary stores the indexes of each letter in a list.\n",
    "Make sure the letters are the keys.\n",
    "Make sure the letters are strings.\n",
    "Make sure the indexes are stored in a list, and those lists are values.\n",
    "\n",
    "Examples\n",
    "“dodo” ➞ { “d”: [0, 2], “o”: [1, 3] }\n",
    "“froggy” ➞ { “f”: [0], “r”: [1], “o”: [2], “g”: [3, 4], “y”: [5] }\n",
    "“grapes” ➞ { “g”: [0], “r”: [1], “a”: [2], “p”: [3] }\n",
    "\n",
    "\n",
    "Duration (approx)\tDifficulty\n",
    "1 hour\t⭐\n",
    "Submit your Daily Challenge\n",
    "Don’t forget to push to Github. Make sure your script is well-commented, follows Python best practices, and includes a brief explanation of your approach and the choices you made in solving this challenge.\n",
    "\n",
    "\n",
    "© 2025 Developers Institute. All Rights Reserv"
   ]
  },
  {
   "cell_type": "code",
   "execution_count": 9,
   "id": "eeb1de9d",
   "metadata": {},
   "outputs": [
    {
     "name": "stdout",
     "output_type": "stream",
     "text": [
      "{'s': [0], 't': [1], 'r': [2, 7, 8], 'a': [3], 'w': [4], 'b': [5], 'e': [6], 'y': [9]}\n"
     ]
    }
   ],
   "source": [
    "#GenAI & Machine Learning Bootcamp 2025 - Full Time 2025 - PSTB Python and OOP Python Essentials Daily Challenge: Dictionaries\n",
    "#Daily Challenge: Dictionaries\n",
    "\n",
    "#🛠️ What you will create\n",
    "#You will create a Python script that processes user input to map the positions of each letter in a given word into a dictionary. This will involve string indexing, dictionary manipulation, and ensuring data types are appropriately handled.\n",
    "\n",
    "#Challenge - Ask a user for a word.\n",
    "    # Write a program that creates a dictionary. This dictionary stores the indexes of each letter in a list.\n",
    "        # Make sure the letters are the keys.\n",
    "        # Make sure the letters are strings.\n",
    "        # Make sure the indexes are stored in a list, and those lists are values.\n",
    "\n",
    "def dictionnary(word):\n",
    "    result = {}  \n",
    "\n",
    "    for index, letter in enumerate(word):  \n",
    "        if letter not in result:\n",
    "            result[letter] = []  \n",
    "        result[letter].append(index)  \n",
    "\n",
    "    return result  \n",
    "\n",
    "enter_a_word = input('Enter any word: ').strip()\n",
    "\n",
    "# Affiche le dictionnaire généré\n",
    "print(dictionnary(enter_a_word))"
   ]
  }
 ],
 "metadata": {
  "kernelspec": {
   "display_name": "Python 3",
   "language": "python",
   "name": "python3"
  },
  "language_info": {
   "codemirror_mode": {
    "name": "ipython",
    "version": 3
   },
   "file_extension": ".py",
   "mimetype": "text/x-python",
   "name": "python",
   "nbconvert_exporter": "python",
   "pygments_lexer": "ipython3",
   "version": "3.11.9"
  }
 },
 "nbformat": 4,
 "nbformat_minor": 5
}
