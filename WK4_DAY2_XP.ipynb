{
 "cells": [
  {
   "cell_type": "markdown",
   "id": "dc5db939",
   "metadata": {},
   "source": [
    "Toujours afficher les détails\n",
    "\n",
    "Copier\n",
    "import numpy as np\n",
    "import pandas as pd\n",
    "import matplotlib.pyplot as plt\n",
    "import datetime\n",
    "\n",
    "# 🌟 Exercise 1 : Matrix Operations\n",
    "matrix = np.array([[4, 2, 1],\n",
    "                   [3, 5, 6],\n",
    "                   [7, 8, 9]])\n",
    "\n",
    "determinant = np.linalg.det(matrix)\n",
    "inverse = np.linalg.inv(matrix) if np.linalg.det(matrix) != 0 else None\n",
    "\n",
    "# 🌟 Exercise 2 : Statistical Analysis\n",
    "random_data = np.random.rand(50)\n",
    "mean_val = np.mean(random_data)\n",
    "median_val = np.median(random_data)\n",
    "std_dev = np.std(random_data)\n",
    "\n",
    "# 🌟 Exercise 3 : Date Manipulation\n",
    "dates = np.arange('2023-01-01', '2023-02-01', dtype='datetime64[D]')\n",
    "formatted_dates = np.array([np.datetime_as_string(date, unit='D') for date in dates])\n",
    "\n",
    "# 🌟 Exercise 4 : Data Manipulation with NumPy and Pandas\n",
    "df = pd.DataFrame(np.random.randint(1, 100, size=(10, 4)), columns=list(\"ABCD\"))\n",
    "condition = df[df['A'] > 50]\n",
    "sum_df = df.sum()\n",
    "mean_df = df.mean()\n",
    "\n",
    "# 🌟 Exercise 5 : Image Representation\n",
    "grayscale_image = np.random.randint(0, 256, size=(5, 5))\n",
    "\n",
    "# 🌟 Exercise 6 : Basic Hypothesis Testing\n",
    "productivity_before = np.random.normal(loc=50, scale=10, size=30)\n",
    "productivity_after = productivity_before + np.random.normal(loc=5, scale=3, size=30)\n",
    "productivity_difference = productivity_after - productivity_before\n",
    "mean_diff = np.mean(productivity_difference)\n",
    "\n",
    "# 🌟 Exercise 7 : Complex Array Comparison\n",
    "array1 = np.array([1, 5, 10, 7])\n",
    "array2 = np.array([2, 5, 8, 6])\n",
    "comparison = array1 > array2\n",
    "\n",
    "# 🌟 Exercise 8 : Time Series Data Manipulation\n",
    "date_range = pd.date_range(start=\"2023-01-01\", end=\"2023-12-31\", freq='D')\n",
    "time_series = pd.Series(np.random.randn(len(date_range)), index=date_range)\n",
    "slice_Q1 = time_series['2023-01':'2023-03']\n",
    "slice_Q2 = time_series['2023-04':'2023-06']\n",
    "slice_Q3 = time_series['2023-07':'2023-09']\n",
    "slice_Q4 = time_series['2023-10':'2023-12']\n",
    "\n",
    "# 🌟 Exercise 9 : Data Conversion\n",
    "array_example = np.array([[10, 20], [30, 40]])\n",
    "df_from_array = pd.DataFrame(array_example, columns=[\"Col1\", \"Col2\"])\n",
    "array_from_df = df_from_array.values\n",
    "\n",
    "# 🌟 Exercise 10 : Basic Visualization\n",
    "plt.figure(figsize=(8, 4))\n",
    "x = np.arange(0, 10)\n",
    "y = np.random.rand(10)\n",
    "plt.plot(x, y, marker='o')\n",
    "plt.title(\"Random Line Plot\")\n",
    "plt.xlabel(\"X-axis\")\n",
    "plt.ylabel(\"Y-axis\")\n",
    "plt.grid(True)\n",
    "plt.tight_layout()\n",
    "plt.show()\n",
    "\n",
    "# Organize outputs into a DataFrame where it helps\n",
    "import ace_tools as tools; tools.display_dataframe_to_user(name=\"Matrix Operation and Data Analysis Outputs\", dataframe=pd.DataFrame({\n",
    "    \"Matrix Determinant\": [determinant],\n",
    "    \"Matrix Inverse (1,1)\": [inverse[0, 0] if inverse is not None else None],\n",
    "    \"Mean of 50 random values\": [mean_val],\n",
    "    \"Median\": [median_val],\n",
    "    \"Standard Deviation\": [std_dev],\n",
    "    \"Productivity Mean Difference\": [mean_diff]\n",
    "}))\n",
    "\n",
    "Analyse\n",
    "python\n",
    "Toujours afficher les détails\n",
    "\n",
    "Copier\n",
    "# Re-imports and re-execution due to state reset\n",
    "\n",
    "import numpy as np\n",
    "import pandas as pd\n",
    "import matplotlib.pyplot as plt\n",
    "\n",
    "# 🌟 Exercise 1 : Matrix Operations\n",
    "matrix = np.array([[4, 2, 1],\n",
    "                   [3, 5, 6],\n",
    "                   [7, 8, 9]])\n",
    "\n",
    "determinant = np.linalg.det(matrix)\n",
    "inverse = np.linalg.inv(matrix) if np.linalg.det(matrix) != 0 else None\n",
    "\n",
    "# 🌟 Exercise 2 : Statistical Analysis\n",
    "random_data = np.random.rand(50)\n",
    "mean_val = np.mean(random_data)\n",
    "median_val = np.median(random_data)\n",
    "std_dev = np.std(random_data)\n",
    "\n",
    "# 🌟 Exercise 3 : Date Manipulation\n",
    "dates = np.arange('2023-01-01', '2023-02-01', dtype='datetime64[D]')\n",
    "formatted_dates = np.array([np.datetime_as_string(date, unit='D') for date in dates])\n",
    "\n",
    "# 🌟 Exercise 4 : Data Manipulation with NumPy and Pandas\n",
    "df = pd.DataFrame(np.random.randint(1, 100, size=(10, 4)), columns=list(\"ABCD\"))\n",
    "condition = df[df['A'] > 50]\n",
    "sum_df = df.sum()\n",
    "mean_df = df.mean()\n",
    "\n",
    "# 🌟 Exercise 5 : Image Representation\n",
    "grayscale_image = np.random.randint(0, 256, size=(5, 5))\n",
    "\n",
    "# 🌟 Exercise 6 : Basic Hypothesis Testing\n",
    "productivity_before = np.random.normal(loc=50, scale=10, size=30)\n",
    "productivity_after = productivity_before + np.random.normal(loc=5, scale=3, size=30)\n",
    "productivity_difference = productivity_after - productivity_before\n",
    "mean_diff = np.mean(productivity_difference)\n",
    "\n",
    "# 🌟 Exercise 7 : Complex Array Comparison\n",
    "array1 = np.array([1, 5, 10, 7])\n",
    "array2 = np.array([2, 5, 8, 6])\n",
    "comparison = array1 > array2\n",
    "\n",
    "# 🌟 Exercise 8 : Time Series Data Manipulation\n",
    "date_range = pd.date_range(start=\"2023-01-01\", end=\"2023-12-31\", freq='D')\n",
    "time_series = pd.Series(np.random.randn(len(date_range)), index=date_range)\n",
    "slice_Q1 = time_series['2023-01':'2023-03']\n",
    "slice_Q2 = time_series['2023-04':'2023-06']\n",
    "slice_Q3 = time_series['2023-07':'2023-09']\n",
    "slice_Q4 = time_series['2023-10':'2023-12']\n",
    "\n",
    "# 🌟 Exercise 9 : Data Conversion\n",
    "array_example = np.array([[10, 20], [30, 40]])\n",
    "df_from_array = pd.DataFrame(array_example, columns=[\"Col1\", \"Col2\"])\n",
    "array_from_df = df_from_array.values\n",
    "\n",
    "# 🌟 Exercise 10 : Basic Visualization\n",
    "plt.figure(figsize=(8, 4))\n",
    "x = np.arange(0, 10)\n",
    "y = np.random.rand(10)\n",
    "plt.plot(x, y, marker='o')\n",
    "plt.title(\"Random Line Plot\")\n",
    "plt.xlabel(\"X-axis\")\n",
    "plt.ylabel(\"Y-axis\")\n",
    "plt.grid(True)\n",
    "plt.tight_layout()\n",
    "plt.show()\n",
    "\n",
    "# Display useful summary\n",
    "import ace_tools as tools; tools.display_dataframe_to_user(name=\"Matrix Operation and Data Analysis Outputs\", dataframe=pd.DataFrame({\n",
    "    \"Matrix Determinant\": [determinant],\n",
    "    \"Matrix Inverse (1,1)\": [inverse[0, 0] if inverse is not None else None],\n",
    "    \"Mean of 50 random values\": [mean_val],\n",
    "    \"Median\": [median_val],\n",
    "    \"Standard Deviation\": [std_dev],\n",
    "    \"Productivity Mean Difference\": [mean_diff]\n",
    "}))\n"
   ]
  },
  {
   "cell_type": "code",
   "execution_count": null,
   "id": "ec489aee",
   "metadata": {},
   "outputs": [],
   "source": [
    "# Exercise 1 : Matrix Operations\n",
    "\n",
    "# Instructions - In this exercise, you’ll work with a 3x3 matrix. Here’s a brief explanation of the concepts:\n",
    "\n",
    "# Determinant: The determinant is a value that can be computed from the elements of a square matrix. It provides important information about the matrix, such as whether it has an inverse, and is used in various areas like linear algebra and calculus. To understand more about it you can watch this video.\n",
    "    #Inverse of a Matrix: The inverse of a matrix is a matrix that, when multiplied with the original matrix, results in an identity matrix. Not all matrices have inverses. The inverse is crucial in solving systems of linear equations.\n",
    "    #Create a 3x3 matrix and perform the following operations:\n",
    "\n",
    "# Calculate the determinant.\n",
    "# Find the inverse of the matrix."
   ]
  },
  {
   "cell_type": "code",
   "execution_count": 3,
   "id": "e4da1411",
   "metadata": {},
   "outputs": [
    {
     "name": "stdout",
     "output_type": "stream",
     "text": [
      "[[4 7 2]\n",
      " [3 5 1]\n",
      " [2 8 9]]\n"
     ]
    }
   ],
   "source": [
    "import numpy as np  # import numpy\n",
    "\n",
    "# Create a 3x3 Matrix\n",
    "matrix = np.array([[4, 7, 2],\n",
    "                   [3, 5, 1],\n",
    "                   [2, 8, 9]])\n",
    "print(matrix)                  "
   ]
  },
  {
   "cell_type": "code",
   "execution_count": 5,
   "id": "82e7766e",
   "metadata": {},
   "outputs": [
    {
     "name": "stdout",
     "output_type": "stream",
     "text": [
      "Determinant: 1.0\n"
     ]
    }
   ],
   "source": [
    "# Calculate the Determinant\n",
    "det = np.linalg.det(matrix)                 # np.linalg.det computes the determinant.\n",
    "print(\"Determinant:\", round(det, 2))"
   ]
  },
  {
   "cell_type": "code",
   "execution_count": 7,
   "id": "dd6419e7",
   "metadata": {},
   "outputs": [
    {
     "name": "stdout",
     "output_type": "stream",
     "text": [
      "Inverse matrix:\n",
      " [[ 37. -47.  -3.]\n",
      " [-25.  32.   2.]\n",
      " [ 14. -18.  -1.]]\n"
     ]
    }
   ],
   "source": [
    "# Calculate the Inverse\n",
    "\n",
    "if det != 0:\n",
    "    inverse = np.linalg.inv(matrix)\n",
    "    print(\"Inverse matrix:\\n\", np.round(inverse, 2))\n",
    "else:\n",
    "    print(\"The matrix is not invertible.\")\n",
    " # np.linalg.inv returns the inverse matrix if it's invertible."
   ]
  },
  {
   "cell_type": "code",
   "execution_count": null,
   "id": "ae2a633a",
   "metadata": {},
   "outputs": [],
   "source": [
    "# Exercise 2 : Statistical Analysis\n",
    "# Instructions - In this exercise, you’ll calculate statistical measures for a dataset:\n",
    "\n",
    "# Mean: The average value of a dataset.\n",
    "# Median: The middle value in a dataset when it is arranged in ascending or descending order.\n",
    "# Standard Deviation: A measure of the amount of variation or dispersion in a set of values.\n",
    "# Using NumPy, generate an array of 50 random numbers and compute:\n",
    "    # The mean and median. \n",
    "    # The standard deviation."
   ]
  },
  {
   "cell_type": "code",
   "execution_count": 9,
   "id": "a3141732",
   "metadata": {},
   "outputs": [
    {
     "name": "stdout",
     "output_type": "stream",
     "text": [
      "[0.15596317 0.94265186 0.87837229 0.37009359 0.11078086 0.34416519\n",
      " 0.52128825 0.15974452 0.76192243 0.35169351 0.79473631 0.78342112\n",
      " 0.54814308 0.15476466 0.8187502  0.17937092 0.0328915  0.65684801\n",
      " 0.91395681 0.55169269 0.04491346 0.48771468 0.10474185 0.44353283\n",
      " 0.75008045 0.32358483 0.71288644 0.69293369 0.60825257 0.07112705\n",
      " 0.68601986 0.54248028 0.65274218 0.7124258  0.4769937  0.76425704\n",
      " 0.68363087 0.11163016 0.0636468  0.18380131 0.56712215 0.45171963\n",
      " 0.75374086 0.48070932 0.83354336 0.11610217 0.68846367 0.10245521\n",
      " 0.02044862 0.96033641]\n"
     ]
    }
   ],
   "source": [
    "import numpy as np\n",
    "\n",
    "# Generate an array of 50 random numbers\n",
    "data = np.random.rand(50)\n",
    "print(data)"
   ]
  },
  {
   "cell_type": "code",
   "execution_count": 13,
   "id": "36d22b9c",
   "metadata": {},
   "outputs": [
    {
     "name": "stdout",
     "output_type": "stream",
     "text": [
      "0.4824657642862488\n",
      "0.5318842641228518\n",
      "0.28656080184983307\n"
     ]
    }
   ],
   "source": [
    "# Calculate statistical measures\n",
    "mean_value = np.mean(data)\n",
    "median_value = np.median(data)\n",
    "std_deviation = np.std(data)\n",
    "\n",
    "print(mean_value)\n",
    "print(median_value)\n",
    "print(std_deviation)"
   ]
  },
  {
   "cell_type": "code",
   "execution_count": 18,
   "id": "7ab9b4d2",
   "metadata": {},
   "outputs": [
    {
     "name": "stdout",
     "output_type": "stream",
     "text": [
      "['2023/01/01' '2023/01/02' '2023/01/03' '2023/01/04' '2023/01/05'\n",
      " '2023/01/06' '2023/01/07' '2023/01/08' '2023/01/09' '2023/01/10'\n",
      " '2023/01/11' '2023/01/12' '2023/01/13' '2023/01/14' '2023/01/15'\n",
      " '2023/01/16' '2023/01/17' '2023/01/18' '2023/01/19' '2023/01/20'\n",
      " '2023/01/21' '2023/01/22' '2023/01/23' '2023/01/24' '2023/01/25'\n",
      " '2023/01/26' '2023/01/27' '2023/01/28' '2023/01/29' '2023/01/30'\n",
      " '2023/01/31']\n"
     ]
    }
   ],
   "source": [
    "import numpy as np\n",
    "import pandas as pd\n",
    "\n",
    "# 🌟 Exercise 3: Date Manipulation\n",
    "# Step 1: Create array of dates for January 2023\n",
    "dates_jan_2023 = np.arange('2023-01-01', '2023-02-01', dtype='datetime64[D]')\n",
    "# Step 2: Convert dates to format YYYY/MM/DD\n",
    "formatted_dates = np.array([str(date).replace('-', '/') for date in dates_jan_2023])\n",
    "\n",
    "print(formatted_dates)"
   ]
  },
  {
   "cell_type": "code",
   "execution_count": 24,
   "id": "b60899de",
   "metadata": {},
   "outputs": [
    {
     "name": "stdout",
     "output_type": "stream",
     "text": [
      "          A         B         C         D\n",
      "0  0.020470  0.203824  0.779017  0.869504\n",
      "1  0.895087  0.019359  0.198848  0.203827\n",
      "2  0.804065  0.393751  0.837285  0.531068\n",
      "3  0.365628  0.903553  0.307686  0.791349\n",
      "4  0.568743  0.205313  0.056555  0.287931\n",
      "          A         B         C         D\n",
      "0       NaN       NaN  0.779017  0.869504\n",
      "1  0.895087       NaN       NaN       NaN\n",
      "2  0.804065       NaN  0.837285  0.531068\n",
      "3       NaN  0.903553       NaN  0.791349\n",
      "4  0.568743       NaN       NaN       NaN\n",
      "A    2.653993\n",
      "B    1.725801\n",
      "C    2.179391\n",
      "D    2.683679\n",
      "dtype: float64\n",
      "A    0.530799\n",
      "B    0.345160\n",
      "C    0.435878\n",
      "D    0.536736\n",
      "dtype: float64\n"
     ]
    }
   ],
   "source": [
    "# 🌟 Exercise 4: Data Manipulation with NumPy and Pandas\n",
    "# Create a DataFrame with random numbers\n",
    "data = np.random.rand(5, 4)\n",
    "df = pd.DataFrame(data, columns=['A', 'B', 'C', 'D'])\n",
    "print(df)\n",
    "\n",
    "# Conditional selection: values > 0.5\n",
    "condition_selection = df[df > 0.5]\n",
    "print(condition_selection)\n",
    "\n",
    "# Aggregation: sum and average\n",
    "sum_values = df.sum()\n",
    "mean_values = df.mean()\n",
    "print(sum_values)\n",
    "print(mean_values)\n"
   ]
  },
  {
   "cell_type": "code",
   "execution_count": 31,
   "id": "bb0e82d9",
   "metadata": {},
   "outputs": [
    {
     "name": "stdout",
     "output_type": "stream",
     "text": [
      "[[ 26 251  39  93  17]\n",
      " [108  61  89  60 198]\n",
      " [194  44  81  15 216]\n",
      " [111  19  99 134 140]\n",
      " [ 41 151  74  92 241]]\n"
     ]
    },
    {
     "data": {
      "image/png": "[encoded data removed]",
      "text/plain": [
       "<Figure size 640x480 with 2 Axes>"
      ]
     },
     "metadata": {},
     "output_type": "display_data"
    }
   ],
   "source": [
    "# 🌟 Exercise 5: Image Representation\n",
    "# Instructions - Explain how images are represented in NumPy arrays and demonstrate with a simple example (e.g., creating a 5x5 grayscale image).\n",
    "\n",
    "# images are represented by N-dimensionnal arrays in NumPys, where N is >2.\n",
    "    # Example : \n",
    "\n",
    "import matplotlib.pyplot as plt\n",
    "\n",
    "# Image creation :\n",
    "image = np.random.randint(0, 256, (5, 5))\n",
    "print(image)\n",
    "\n",
    "# Display\n",
    "plt.imshow(image, cmap='gray', vmin=0, vmax=255)\n",
    "plt.colorbar()  # Affiche une échelle de couleur\n",
    "plt.title(\"5x5 Grayscale Image\")\n",
    "plt.show()\n"
   ]
  },
  {
   "cell_type": "code",
   "execution_count": null,
   "id": "852a63a6",
   "metadata": {},
   "outputs": [
    {
     "name": "stdout",
     "output_type": "stream",
     "text": [
      "[67.64052346 54.00157208 59.78737984 72.40893199 68.6755799  40.2272212\n",
      " 59.50088418 48.48642792 48.96781148 54.10598502 51.44043571 64.54273507\n",
      " 57.61037725 51.21675016 54.43863233 53.33674327 64.94079073 47.94841736\n",
      " 53.13067702 41.45904261 24.47010184 56.53618595 58.64436199 42.5783498\n",
      " 72.69754624 35.45634325 50.45758517 48.1281615  65.32779214 64.6935877 ]\n",
      "[73.10536574 60.13605964 62.1240226  71.46654259 72.63184345 45.69626811\n",
      " 68.19175622 57.09356746 52.80583103 58.19907677 53.29477682 65.28268126\n",
      " 57.49156668 62.06907635 57.90967578 57.02252037 66.18240465 55.28088843\n",
      " 53.28898347 45.82082177 26.78370216 62.69689345 62.11194658 44.03645324\n",
      " 77.61299955 41.74133887 55.65713684 54.03557719 68.42482586 68.6053642 ]\n",
      "4.131434431538057\n"
     ]
    }
   ],
   "source": [
    "# Exercise 6: Basic Hypothesis Testing - Step 1: Create a sample dataset to test the effectiveness of a new training program on employee productivity:\n",
    "\n",
    "import numpy as np\n",
    "\n",
    "np.random.seed(0)\n",
    "\n",
    "# # Productivity scores of employees before the training program\n",
    "productivity_before = np.random.normal(loc=50, scale=10, size=30)\n",
    "print(productivity_before)\n",
    "\n",
    "# Productivity scores of the same employees after the training program\n",
    "productivity_after = productivity_before + np.random.normal(loc=5, scale=3, size=30)\n",
    "print(productivity_after)\n",
    "\n",
    "# Your task is to formulate a hypothesis regarding the training program's effectiveness \n",
    "    # and test it using basic statistical functions in NumPy.\n",
    "        # Mean difference calculation\n",
    "mean_diff = np.mean(productivity_after - productivity_before)\n",
    "print(mean_diff)\n",
    "        # Comments : assumption is that mean difference will be positive. Based on random data below, assumption is indeed confirmed. \n",
    "        # The mean difference of 4.13 does highlight training program real effectiveness (significant_improvement = mean_diff > 0).\n",
    "\n",
    "# Step 3: Check significance using a simple threshold (not a formal test)"
   ]
  },
  {
   "cell_type": "code",
   "execution_count": 43,
   "id": "3079b7eb",
   "metadata": {},
   "outputs": [
    {
     "name": "stdout",
     "output_type": "stream",
     "text": [
      "[False  True False  True  True]\n"
     ]
    }
   ],
   "source": [
    "# Exercise 7: Complex Array Comparison \n",
    "    # Instructions - Create two arrays and perform element-wise comparison to find which elements are greater in the first array.\n",
    "    # The expected output is a boolean array showing which elements in the first array are greater than the corresponding elements in the second array.\n",
    "\n",
    "array1 = np.array([10, 20, 30, 40, 50])\n",
    "array2 = np.array([15, 18, 33, 35, 45])\n",
    "comparison = array1 > array2\n",
    "print(comparison)"
   ]
  },
  {
   "cell_type": "code",
   "execution_count": null,
   "id": "ad69474e",
   "metadata": {},
   "outputs": [],
   "source": [
    "# 🌟 Exercise 8 : Time Series Data Manipulation\n",
    "    # Instructions :\n",
    "        # Generate time series data for the year 2023. Demonstrate slicing for the following intervals:\n",
    "            # January to March \n",
    "            # April to June\n",
    "            # July to September \n",
    "            # October to December\n",
    "        # Generate a time series data for a specific period and demonstrate how to slice this data for different intervals.\n",
    "            \n",
    "            # Step 1 - Generate daily dates for entire year 2023 \n",
    "date_range = np.arange('2023-01', '2024-01', dtype='datetime64[D]')\n",
    "print(date_range)"
   ]
  },
  {
   "cell_type": "code",
   "execution_count": null,
   "id": "0a7b0945",
   "metadata": {},
   "outputs": [],
   "source": [
    "            # Step 2 - Convert dates with random distribution throughout the entire 2023 year \n",
    "ts_data = np.random.randn(len(date_range))\n",
    "print(ts_data)"
   ]
  },
  {
   "cell_type": "code",
   "execution_count": 64,
   "id": "63995249",
   "metadata": {},
   "outputs": [
    {
     "name": "stdout",
     "output_type": "stream",
     "text": [
      "2023-01-01\n",
      "2023-04-01\n",
      "2023-04-01\n",
      "2023-07-01\n",
      "2023-07-01\n",
      "2023-10-01\n",
      "2023-10-01\n",
      "2024-12-31\n"
     ]
    }
   ],
   "source": [
    "            # Step 3 - Convert quarter thresholds into datetime64\n",
    "start_q1 = np.datetime64('2023-01-01')\n",
    "end_q1 = np.datetime64('2023-04-01')\n",
    "\n",
    "start_q2 = np.datetime64('2023-04-01')\n",
    "end_q2 = np.datetime64('2023-07-01')\n",
    "\n",
    "start_q3 = np.datetime64('2023-07-01')\n",
    "end_q3 = np.datetime64('2023-10-01')\n",
    "\n",
    "start_q4 = np.datetime64('2023-10-01')\n",
    "end_q4 = np.datetime64('2024-12-31')\n",
    "\n",
    "print(start_q1)\n",
    "print(end_q1)\n",
    "\n",
    "print(start_q2)\n",
    "print(end_q2)\n",
    "\n",
    "print(start_q3)\n",
    "print(end_q3)\n",
    "\n",
    "print(start_q4)\n",
    "print(end_q4)"
   ]
  },
  {
   "cell_type": "code",
   "execution_count": 66,
   "id": "e06dd79f",
   "metadata": {},
   "outputs": [
    {
     "name": "stdout",
     "output_type": "stream",
     "text": [
      "DataFrame :\n",
      "    A  B\n",
      "0  1  2\n",
      "1  3  4\n",
      "Array :\n",
      " [[1 2]\n",
      " [3 4]]\n"
     ]
    }
   ],
   "source": [
    "#🌟 Exercise 9 : Data Conversion \n",
    "    # Instructions - Demonstrate how to convert a NumPy array to a Pandas DataFrame and vice versa.#Convertir entre NumPy et Pandas :\n",
    "\n",
    "import pandas as pd\n",
    "\n",
    "array = np.array([[1, 2], [3, 4]])\n",
    "df = pd.DataFrame(array, columns=['A', 'B'])\n",
    "\n",
    "array_from_df = df.values\n",
    "print(\"DataFrame :\\n\", df)\n",
    "print(\"Array :\\n\", array_from_df)"
   ]
  },
  {
   "cell_type": "markdown",
   "id": "aadb1746",
   "metadata": {},
   "source": [
    "\n",
    "# Exercise 10: Basic Visualization\n",
    "import matplotlib.pyplot as plt\n",
    "\n",
    "x = np.arange(0, 10)\n",
    "y = np.random.rand(10)\n",
    "\n",
    "plt.plot(x, y, marker='o')\n",
    "plt.title(\"Random Line Plot\")\n",
    "plt.xlabel(\"Index\")\n",
    "plt.ylabel(\"Random Value\")\n",
    "plt.grid(True)\n",
    "plt.show()\n",
    "\n",
    "# Pack results\n",
    "{\n",
    "    \"mean_difference\": mean_diff,\n",
    "    \"significant_improvement\": significant_improvement,\n",
    "    \"comparison_array\": comparison,\n",
    "    \"quarter_shapes\": (q1.shape, q2.shape, q3.shape, q4.shape),\n",
    "    \"converted_df\": df_from_np,\n",
    "    \"converted_np\": np_from_df\n",
    "}"
   ]
  },
  {
   "cell_type": "code",
   "execution_count": 68,
   "id": "b71b232f",
   "metadata": {},
   "outputs": [
    {
     "name": "stdout",
     "output_type": "stream",
     "text": [
      "[0 1 2 3 4 5 6 7 8 9]\n",
      "[0.41289662 0.58909836 0.02638933 0.95210979 0.87761838 0.6238679\n",
      " 0.01702984 0.37797647 0.97879654 0.68133036]\n"
     ]
    }
   ],
   "source": [
    "# 🌟 Exercise 10 : Basic Visualization \n",
    "    # Instructions - Use Matplotlib to visualize a simple dataset created with NumPy (e.g., a line graph of random numbers).\n",
    "\n",
    "import matplotlib.pyplot as plt\n",
    "\n",
    "x = np.arange(0, 10)\n",
    "y = np.random.rand(10)\n",
    "\n",
    "print(x)\n",
    "print(y)\n"
   ]
  },
  {
   "cell_type": "code",
   "execution_count": 69,
   "id": "f04ba5d2",
   "metadata": {},
   "outputs": [
    {
     "data": {
      "image/png": "[encoded data removed]",
      "text/plain": [
       "<Figure size 640x480 with 1 Axes>"
      ]
     },
     "metadata": {},
     "output_type": "display_data"
    }
   ],
   "source": [
    "\n",
    "plt.plot(x, y, marker='o')\n",
    "plt.title(\"Random Line Plot\")\n",
    "plt.xlabel(\"Index\")\n",
    "plt.ylabel(\"Random Value\")\n",
    "plt.grid(True)\n",
    "plt.show()"
   ]
  }
 ],
 "metadata": {
  "kernelspec": {
   "display_name": "Python 3",
   "language": "python",
   "name": "python3"
  },
  "language_info": {
   "codemirror_mode": {
    "name": "ipython",
    "version": 3
   },
   "file_extension": ".py",
   "mimetype": "text/x-python",
   "name": "python",
   "nbconvert_exporter": "python",
   "pygments_lexer": "ipython3",
   "version": "3.11.9"
  }
 },
 "nbformat": 4,
 "nbformat_minor": 5
}
