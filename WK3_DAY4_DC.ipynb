{
 "cells": [
  {
   "cell_type": "markdown",
   "id": "6e07e76b",
   "metadata": {},
   "source": [
    "Daily Challenge: Exploring the World Happiness Report with Matplotlib\n",
    "\n",
    "👩‍🏫 👩🏿‍🏫 What You’ll learn\n",
    "use Matplotlib alongside pandas to analyze\n",
    "visualize data from the World Happiness Report\n",
    "focus on aspects like happiness scores, economic factors, and regional differences.\n",
    "\n",
    "\n",
    "🛠️ What you will create\n",
    "craft a series of data visualizations using the World Happiness Report dataset\n",
    "uncover insights about global happiness trends and influencing factors.\n",
    "\n",
    "Your Task\n",
    "Your objective is to delve into the World Happiness Report dataset, which includes columns like Country, Year, Happiness_Score, GDP_per_Capita, Social_Support, Healthy_Life_Expectancy, Freedom_to_Make_Life_Choices, Generosity, and Perceptions_of_Corruption.\n",
    "\n",
    "Load and Inspect Data:\n",
    "\n",
    "Utilize pandas to load the World Happiness Report Dataset.\n",
    "Examine the data to grasp its structure and contents of the year 2019.\n",
    "Data Preprocessing:\n",
    "\n",
    "Address missing values and adjust data types as necessary.\n",
    "Social Support and Happiness:\n",
    "\n",
    "Employ a Matplotlib scatter plot to investigate the relationship between ‘Social support’ and ‘Score’.\n",
    "Regional Comparisons of GDP and Health:\n",
    "\n",
    "Create a Matplotlib subplot that compares ‘GDP per Capita’ and ‘Healthy Life Expectancy’ across different regions.\n",
    "Use a bar plot for ‘GDP per Capita’ and a line plot for ‘Healthy Life Expectancy’ on the same axes to observe how economic strength relates to health outcomes in different regions.\n",
    "\n",
    "Nota : \n",
    "Pour le daily challenge, il est important de bien mettre en place une démarche de data analyst (outliers avec bow plots, valeurs manquantes, normalisation, one hot encoding etc..). Pour comprendre les liens entre social support et hapiness, ajouter une ligne de régression linéaire.\n",
    "Bonus : Reflechir à de meilleurs plots pour obtenir une lisibilité.\n"
   ]
  },
  {
   "cell_type": "code",
   "execution_count": 69,
   "id": "2c85f1ba",
   "metadata": {},
   "outputs": [],
   "source": [
    "#Your Task\n",
    "#Your objective is to delve into the World Happiness Report dataset, which includes columns like Country, Year, Happiness_Score, GDP_per_Capita, Social_Support, Healthy_Life_Expectancy, Freedom_to_Make_Life_Choices, Generosity, and Perceptions_of_Corruption.\n",
    "\n",
    "    #Load and Inspect Data:\n",
    "\n",
    "    #Utilize pandas to load the World Happiness Report Dataset.\n",
    "    #Examine the data to grasp its structure and contents of the year 2019.\n",
    "    #Data Preprocessing:\n",
    "\n",
    "    #Address missing values and adjust data types as necessary.\n",
    "    #Social Support and Happiness:\n",
    "\n",
    "    #Employ a Matplotlib scatter plot to investigate the relationship between ‘Social support’ and ‘Score’.\n",
    "    #Regional Comparisons of GDP and Health:\n",
    "\n",
    "    #Create a Matplotlib subplot that compares ‘GDP per Capita’ and ‘Healthy Life Expectancy’ across different regions.\n",
    "    #Use a bar plot for ‘GDP per Capita’ and a line plot for ‘Healthy Life Expectancy’ on the same axes to observe how economic strength relates to health outcomes in different regions.\n",
    "\n",
    "#Pour comprendre les liens entre social support et hapiness, ajouter une ligne de régression linéaire.\n",
    "\n"
   ]
  },
  {
   "cell_type": "code",
   "execution_count": 70,
   "id": "5fa56e43",
   "metadata": {},
   "outputs": [],
   "source": [
    "#Your Task\n",
    "#Your objective is to delve into the World Happiness Report dataset, which includes columns like Country, Year, Happiness_Score, GDP_per_Capita, Social_Support, \n",
    "#... Healthy_Life_Expectancy, Freedom_to_Make_Life_Choices, Generosity, and Perceptions_of_Corruption.\n",
    "\n",
    "#Load and Inspect Data:\n",
    "import pandas as pd\n",
    "import seaborn as sns\n",
    "import matplotlib.pyplot as plt"
   ]
  },
  {
   "cell_type": "code",
   "execution_count": 71,
   "id": "8bcc22a5",
   "metadata": {},
   "outputs": [],
   "source": [
    "#Utilize pandas to load the World Happiness Report Dataset.\n",
    "df = pd.read_csv(\"2019.csv\")  # adjust filename/path"
   ]
  },
  {
   "cell_type": "code",
   "execution_count": 72,
   "id": "615a7bb9",
   "metadata": {},
   "outputs": [
    {
     "name": "stdout",
     "output_type": "stream",
     "text": [
      "<class 'pandas.core.frame.DataFrame'>\n",
      "RangeIndex: 156 entries, 0 to 155\n",
      "Data columns (total 9 columns):\n",
      " #   Column                        Non-Null Count  Dtype  \n",
      "---  ------                        --------------  -----  \n",
      " 0   Overall rank                  156 non-null    int64  \n",
      " 1   Country or region             156 non-null    object \n",
      " 2   Score                         156 non-null    float64\n",
      " 3   GDP per capita                156 non-null    float64\n",
      " 4   Social support                156 non-null    float64\n",
      " 5   Healthy life expectancy       156 non-null    float64\n",
      " 6   Freedom to make life choices  156 non-null    float64\n",
      " 7   Generosity                    156 non-null    float64\n",
      " 8   Perceptions of corruption     156 non-null    float64\n",
      "dtypes: float64(7), int64(1), object(1)\n",
      "memory usage: 11.1+ KB\n",
      "None\n"
     ]
    }
   ],
   "source": [
    "#Examine the data to grasp its structure and contents of the year 2019.\n",
    "print(df.info())"
   ]
  },
  {
   "cell_type": "code",
   "execution_count": 73,
   "id": "7a6c2e84",
   "metadata": {},
   "outputs": [
    {
     "name": "stdout",
     "output_type": "stream",
     "text": [
      "   Overall rank Country or region  Score  GDP per capita  Social support  \\\n",
      "0             1           Finland  7.769           1.340           1.587   \n",
      "1             2           Denmark  7.600           1.383           1.573   \n",
      "2             3            Norway  7.554           1.488           1.582   \n",
      "3             4           Iceland  7.494           1.380           1.624   \n",
      "4             5       Netherlands  7.488           1.396           1.522   \n",
      "\n",
      "   Healthy life expectancy  Freedom to make life choices  Generosity  \\\n",
      "0                    0.986                         0.596       0.153   \n",
      "1                    0.996                         0.592       0.252   \n",
      "2                    1.028                         0.603       0.271   \n",
      "3                    1.026                         0.591       0.354   \n",
      "4                    0.999                         0.557       0.322   \n",
      "\n",
      "   Perceptions of corruption  \n",
      "0                      0.393  \n",
      "1                      0.410  \n",
      "2                      0.341  \n",
      "3                      0.118  \n",
      "4                      0.298  \n"
     ]
    }
   ],
   "source": [
    "print(df.head())"
   ]
  },
  {
   "cell_type": "code",
   "execution_count": 74,
   "id": "936fb6cb",
   "metadata": {},
   "outputs": [
    {
     "name": "stdout",
     "output_type": "stream",
     "text": [
      "Colonnes : ['Overall rank', 'Country or region', 'Score', 'GDP per capita', 'Social support', 'Healthy life expectancy', 'Freedom to make life choices', 'Generosity', 'Perceptions of corruption']\n"
     ]
    }
   ],
   "source": [
    "print(\"Colonnes :\", df.columns.tolist())"
   ]
  },
  {
   "cell_type": "code",
   "execution_count": 75,
   "id": "301e3769",
   "metadata": {},
   "outputs": [
    {
     "name": "stdout",
     "output_type": "stream",
     "text": [
      "Overall rank                    0\n",
      "Country or region               0\n",
      "Score                           0\n",
      "GDP per capita                  0\n",
      "Social support                  0\n",
      "Healthy life expectancy         0\n",
      "Freedom to make life choices    0\n",
      "Generosity                      0\n",
      "Perceptions of corruption       0\n",
      "dtype: int64\n"
     ]
    }
   ],
   "source": [
    "print(df.isnull().sum())"
   ]
  },
  {
   "cell_type": "code",
   "execution_count": 76,
   "id": "3dfa12e9",
   "metadata": {},
   "outputs": [
    {
     "name": "stdout",
     "output_type": "stream",
     "text": [
      "   Overall rank  Country or region  Score  GDP per capita  Social support  \\\n",
      "0         False              False  False           False           False   \n",
      "1         False              False  False           False           False   \n",
      "2         False              False  False           False           False   \n",
      "3         False              False  False           False           False   \n",
      "4         False              False  False           False           False   \n",
      "\n",
      "   Healthy life expectancy  Freedom to make life choices  Generosity  \\\n",
      "0                    False                         False       False   \n",
      "1                    False                         False       False   \n",
      "2                    False                         False       False   \n",
      "3                    False                         False       False   \n",
      "4                    False                         False       False   \n",
      "\n",
      "   Perceptions of corruption  \n",
      "0                      False  \n",
      "1                      False  \n",
      "2                      False  \n",
      "3                      False  \n",
      "4                      False  \n"
     ]
    }
   ],
   "source": [
    "# Check for missing values in a DataFrame\n",
    "missing_data = df.isnull()\n",
    "print(missing_data.head())"
   ]
  },
  {
   "cell_type": "code",
   "execution_count": 77,
   "id": "b6f6aca2",
   "metadata": {},
   "outputs": [
    {
     "name": "stdout",
     "output_type": "stream",
     "text": [
      "Overall rank                    0\n",
      "Country or region               0\n",
      "Score                           0\n",
      "GDP per capita                  0\n",
      "Social support                  0\n",
      "Healthy life expectancy         0\n",
      "Freedom to make life choices    0\n",
      "Generosity                      0\n",
      "Perceptions of corruption       0\n",
      "dtype: int64\n"
     ]
    }
   ],
   "source": [
    "# Count missing values in each column\n",
    "missing_counts = df.isnull().sum()\n",
    "print(missing_counts)"
   ]
  },
  {
   "cell_type": "code",
   "execution_count": 78,
   "id": "77bf6dd7",
   "metadata": {},
   "outputs": [],
   "source": [
    "#Removing Duplicates\n",
    "    # Remove duplicate rows\n",
    "df = df.drop_duplicates()"
   ]
  },
  {
   "cell_type": "code",
   "execution_count": 79,
   "id": "c4b52ba6",
   "metadata": {},
   "outputs": [
    {
     "name": "stdout",
     "output_type": "stream",
     "text": [
      "0\n"
     ]
    }
   ],
   "source": [
    "# Verify duplicates are removed\n",
    "print(df.duplicated().sum())"
   ]
  },
  {
   "cell_type": "code",
   "execution_count": 80,
   "id": "123d6047",
   "metadata": {},
   "outputs": [],
   "source": [
    "# Convert non digital data ('Country or region' only) to digital ones by the Label Encoding method \n",
    "from sklearn.preprocessing import LabelEncoder"
   ]
  },
  {
   "cell_type": "code",
   "execution_count": 81,
   "id": "9d89ea9b",
   "metadata": {},
   "outputs": [],
   "source": [
    "le = LabelEncoder()\n",
    "df[\"Country or region\"] = le.fit_transform(df[\"Country or region\"])"
   ]
  },
  {
   "cell_type": "code",
   "execution_count": 82,
   "id": "a2d0ec1c",
   "metadata": {},
   "outputs": [
    {
     "name": "stdout",
     "output_type": "stream",
     "text": [
      "Overall rank                      int64\n",
      "Country or region                 int64\n",
      "Score                           float64\n",
      "GDP per capita                  float64\n",
      "Social support                  float64\n",
      "Healthy life expectancy         float64\n",
      "Freedom to make life choices    float64\n",
      "Generosity                      float64\n",
      "Perceptions of corruption       float64\n",
      "dtype: object\n"
     ]
    }
   ],
   "source": [
    "# Check results :\n",
    "print(df.dtypes)"
   ]
  },
  {
   "cell_type": "code",
   "execution_count": 83,
   "id": "09803372",
   "metadata": {},
   "outputs": [],
   "source": [
    "# Identify and handle outliers in 'Generosity' column\n",
    "Q1 = df['Generosity'].quantile(0.25)\n",
    "Q3 = df['Generosity'].quantile(0.75)\n",
    "IQR = Q3 - Q1\n",
    "lower_bound = Q1 - 1.5 * IQR\n",
    "upper_bound = Q3 + 1.5 * IQR\n",
    "df = df[(df['Generosity'] >= lower_bound) & (df['Generosity'] <= upper_bound)]"
   ]
  },
  {
   "cell_type": "code",
   "execution_count": 84,
   "id": "b9207cc1",
   "metadata": {},
   "outputs": [],
   "source": [
    "# Identify and handle outliers in 'Perceptions of corruption' column\n",
    "Q1 = df['Perceptions of corruption'].quantile(0.25)\n",
    "Q3 = df['Perceptions of corruption'].quantile(0.75)\n",
    "IQR = Q3 - Q1\n",
    "lower_bound = Q1 - 1.5 * IQR\n",
    "upper_bound = Q3 + 1.5 * IQR\n",
    "df = df[(df['Perceptions of corruption'] >= lower_bound) & (df['Perceptions of corruption'] <= upper_bound)]\n"
   ]
  },
  {
   "cell_type": "code",
   "execution_count": 85,
   "id": "ba42e396",
   "metadata": {},
   "outputs": [],
   "source": [
    "#Data Normalization\n",
    "from sklearn.preprocessing import MinMaxScaler\n",
    "features_to_scale = df.columns[2:]  # all columns except for 'rank' and 'country or region'\n",
    "scaler = MinMaxScaler()"
   ]
  },
  {
   "cell_type": "code",
   "execution_count": 86,
   "id": "1b5ba866",
   "metadata": {},
   "outputs": [],
   "source": [
    "df_scaled = df.copy()"
   ]
  },
  {
   "cell_type": "code",
   "execution_count": 87,
   "id": "3d0aedf9",
   "metadata": {},
   "outputs": [],
   "source": [
    "df_scaled[features_to_scale] = scaler.fit_transform(df[features_to_scale])"
   ]
  },
  {
   "cell_type": "code",
   "execution_count": 88,
   "id": "8463486a",
   "metadata": {},
   "outputs": [
    {
     "data": {
      "text/plain": [
       "<Figure size 800x600 with 0 Axes>"
      ]
     },
     "execution_count": 88,
     "metadata": {},
     "output_type": "execute_result"
    },
    {
     "data": {
      "text/plain": [
       "<Figure size 800x600 with 0 Axes>"
      ]
     },
     "metadata": {},
     "output_type": "display_data"
    }
   ],
   "source": [
    "#Social Support and Happiness:\n",
    "#Employ a Matplotlib scatter plot to investigate the relationship between ‘Social support’ and ‘Score’.\n",
    "\n",
    "plt.figure(figsize=(8, 6))"
   ]
  },
  {
   "cell_type": "code",
   "execution_count": 89,
   "id": "aa5628f9",
   "metadata": {},
   "outputs": [
    {
     "data": {
      "image/png": "[encoded data removed]",
      "text/plain": [
       "<Figure size 640x480 with 1 Axes>"
      ]
     },
     "metadata": {},
     "output_type": "display_data"
    }
   ],
   "source": [
    "plt.title('Social Support vs Happiness Score (2019)')\n",
    "plt.xlabel('Social Support')\n",
    "plt.ylabel('Happiness Score')\n",
    "plt.grid(True, linestyle='--', alpha=0.5)\n",
    "plt.tight_layout()"
   ]
  },
  {
   "cell_type": "code",
   "execution_count": 90,
   "id": "6bb81978",
   "metadata": {},
   "outputs": [],
   "source": [
    "plt.show()"
   ]
  },
  {
   "cell_type": "code",
   "execution_count": 91,
   "id": "2c5994bc",
   "metadata": {},
   "outputs": [
    {
     "data": {
      "text/plain": [
       "<Axes: xlabel='Social support', ylabel='Score'>"
      ]
     },
     "execution_count": 91,
     "metadata": {},
     "output_type": "execute_result"
    },
    {
     "data": {
      "image/png": "[encoded data removed]",
      "text/plain": [
       "<Figure size 640x480 with 1 Axes>"
      ]
     },
     "metadata": {},
     "output_type": "display_data"
    }
   ],
   "source": [
    "#Linear regression analysis :\n",
    "sns.regplot(x='Social support', y='Score', data=df, scatter_kws={'alpha':0.6}, line_kws={'color':'red'})"
   ]
  },
  {
   "cell_type": "code",
   "execution_count": 92,
   "id": "bc73f5a4",
   "metadata": {},
   "outputs": [],
   "source": [
    "#Regional Comparisons of GDP and Health:\n",
    "\n",
    "#Create a Matplotlib subplot that compares ‘GDP per Capita’ and ‘Healthy Life Expectancy’ across different regions.\n",
    "#Use a bar plot for ‘GDP per Capita’ and a line plot for ‘Healthy Life Expectancy’ on the same axes to observe how economic strength relates to health outcomes in different regions.\n",
    "\n",
    "    #Aggregate by Region\n",
    "region_group = df.groupby('Country or region').agg({\n",
    "    \"GDP per capita\": \"mean\",\n",
    "    \"Healthy life expectancy\": \"mean\"\n",
    "}).reset_index()"
   ]
  },
  {
   "cell_type": "code",
   "execution_count": 93,
   "id": "916594ce",
   "metadata": {},
   "outputs": [
    {
     "data": {
      "image/png": "[encoded data removed]",
      "text/plain": [
       "<Figure size 1000x600 with 1 Axes>"
      ]
     },
     "metadata": {},
     "output_type": "display_data"
    }
   ],
   "source": [
    "    #Create side-by-side bar + line plot\n",
    "fig, ax1 = plt.subplots(figsize=(10, 6))"
   ]
  },
  {
   "cell_type": "code",
   "execution_count": 94,
   "id": "d0e7e1da",
   "metadata": {},
   "outputs": [
    {
     "data": {
      "text/plain": [
       "(array([0. , 0.2, 0.4, 0.6, 0.8, 1. ]),\n",
       " [Text(0.0, 0, '0.0'),\n",
       "  Text(0.2, 0, '0.2'),\n",
       "  Text(0.4, 0, '0.4'),\n",
       "  Text(0.6000000000000001, 0, '0.6'),\n",
       "  Text(0.8, 0, '0.8'),\n",
       "  Text(1.0, 0, '1.0')])"
      ]
     },
     "execution_count": 94,
     "metadata": {},
     "output_type": "execute_result"
    },
    {
     "data": {
      "image/png": "[encoded data removed]",
      "text/plain": [
       "<Figure size 640x480 with 1 Axes>"
      ]
     },
     "metadata": {},
     "output_type": "display_data"
    }
   ],
   "source": [
    "#Use a bar plot for ‘GDP per Capita’ and a line plot for ‘Healthy Life Expectancy’ on the same axes to observe how economic strength relates to \n",
    "# health outcomes in different regions.\n",
    "    # Bar chart: GDP per Capita\n",
    "ax1.bar(region_group[\"Country or region\"], region_group[\"GDP per capita\"], color=\"skyblue\")\n",
    "ax1.set_xlabel(\"Country or region\")\n",
    "ax1.set_ylabel(\"GDP per capita\", color=\"blue\")\n",
    "plt.xticks(rotation=45, ha=\"right\")"
   ]
  },
  {
   "cell_type": "code",
   "execution_count": 95,
   "id": "bdba0812",
   "metadata": {},
   "outputs": [
    {
     "name": "stdout",
     "output_type": "stream",
     "text": [
      "Index(['Overall rank', 'Country or region', 'Score', 'GDP per capita',\n",
      "       'Social support', 'Healthy life expectancy',\n",
      "       'Freedom to make life choices', 'Generosity',\n",
      "       'Perceptions of corruption'],\n",
      "      dtype='object')\n"
     ]
    }
   ],
   "source": [
    "print(df.columns)"
   ]
  },
  {
   "cell_type": "code",
   "execution_count": 96,
   "id": "04ce222e",
   "metadata": {},
   "outputs": [
    {
     "data": {
      "image/png": "[encoded data removed]",
      "text/plain": [
       "<Figure size 640x480 with 1 Axes>"
      ]
     },
     "metadata": {},
     "output_type": "display_data"
    }
   ],
   "source": [
    "    # Line chart: Healthy Life Expectancy\n",
    "ax2 = ax1.twinx()\n",
    "ax2.plot(region_group[\"Country or region\"], region_group[\"Healthy life expectancy\"], \n",
    "         color=\"darkgreen\", marker=\"o\")\n",
    "ax2.set_ylabel(\"Avg Healthy life expectancy\", color=\"green\")\n",
    "\n",
    "plt.title(\"GDP per capita vs Healthy life expectancy (2019)\")\n",
    "plt.tight_layout()\n",
    "plt.show()"
   ]
  }
 ],
 "metadata": {
  "kernelspec": {
   "display_name": "Python 3",
   "language": "python",
   "name": "python3"
  },
  "language_info": {
   "codemirror_mode": {
    "name": "ipython",
    "version": 3
   },
   "file_extension": ".py",
   "mimetype": "text/x-python",
   "name": "python",
   "nbconvert_exporter": "python",
   "pygments_lexer": "ipython3",
   "version": "3.11.9"
  }
 },
 "nbformat": 4,
 "nbformat_minor": 5
}
