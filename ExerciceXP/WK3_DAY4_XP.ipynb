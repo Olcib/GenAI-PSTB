{
 "cells": [
  {
   "cell_type": "code",
   "execution_count": null,
   "id": "ded13949",
   "metadata": {},
   "outputs": [],
   "source": []
  },
  {
   "cell_type": "markdown",
   "id": "a85baf72",
   "metadata": {},
   "source": [
    "GenAI & Machine Learning Bootcamp 2025 - Full Time 2025 - PSTB Data understanding and preprocessing Data Visualization Exercises XP\n",
    "Exercises XP\n",
    "Last Updated: January 27th, 2025\n",
    "\n",
    "👩‍🏫 👩🏿‍🏫 What You’ll learn\n",
    "The importance of data visualization in data analysis.\n",
    "How to use Python libraries such as Matplotlib and Seaborn for creating effective visualizations.\n",
    "Choosing the right graph for different data types and purposes.\n",
    "Hands-on experience with creating and customizing various types of plots.\n",
    "\n",
    "\n",
    "🛠️ What you will create\n",
    "Line plots for time-series data.\n",
    "Bar charts for category-wise comparisons.\n",
    "Histograms for distribution analysis.\n",
    "Scatter plots for identifying relationships between variables.\n",
    "\n",
    "\n",
    "🌟 Exercise 1: Understanding Data Visualization\n",
    "Task: Explain why data visualization is important in data analysis.\n",
    "Task: Describe the purpose of a line graph in data visualization.\n",
    "\n",
    "\n",
    "🌟 Exercise 2: Creating a Line Plot for Temperature Variation\n",
    "Objective: Create a simple line plot using Matplotlib that represents temperature variations over a week.\n",
    "Tasks:\n",
    "Use a list of temperature values for each day of the week (e.g., [72, 74, 76, 80, 82, 78, 75]).\n",
    "Label the x-axis as “Day” and the y-axis as “Temperature (°F)”.\n",
    "Add a title to the plot.\n",
    "Display the plot.\n",
    "\n",
    "\n",
    "🌟 Exercise 3: Visualizing Monthly Sales with a Bar Chart\n",
    "Objective: Generate a bar chart using Matplotlib to visualize monthly sales data for a retail store.\n",
    "Tasks:\n",
    "Create a list of sales values for each month (e.g., [5000, 5500, 6200, 7000, 7500]).\n",
    "Label the x-axis as “Month” and the y-axis as “Sales Amount ($)”.\n",
    "Add a title to the bar chart.\n",
    "Display the plot.\n",
    "\n",
    "\n",
    "🌟 Exercise 4: Visualizing the Distribution of CGPA\n",
    "Objective: Create a histogram to visualize the distribution of students’ CGPA.\n",
    "Dataset Overview: Assume the CGPA data is categorized into ranges and loaded in a DataFrame named df.\n",
    "Tasks:\n",
    "Import necessary libraries.\n",
    "Use Seaborn’s histplot to create a histogram of the CGPA categories.\n",
    "Customize the histogram with a specific color and add a title.\n",
    "Display the plot.\n",
    "\n",
    "\n",
    "🌟 Exercise 5: Comparing Anxiety Levels Across Different Genders\n",
    "Objective: Use a bar plot to compare the proportion of students experiencing anxiety across different genders.\n",
    "Dataset Overview: The dataset includes columns: ‘Do you have Anxiety?’ and ‘Choose your gender’.\n",
    "Tasks:\n",
    "Import necessary libraries.\n",
    "Use Seaborn to create a bar plot comparing anxiety levels across genders from the dataset df.\n",
    "Customize the plot with an appropriate color palette and add a title.\n",
    "Display the plot.\n",
    "\n",
    "\n",
    "🌟 Exercise 6: Exploring the Relationship Between Age and Panic Attacks\n",
    "Objective: Create a scatter plot to explore the relationship between students’ age and the occurrence of panic attacks.\n",
    "Dataset Overview: The dataset includes columns: ‘Age’ and ‘Do you have Panic Attacks?’.\n",
    "Tasks:\n",
    "Import necessary libraries.\n",
    "Convert panic attack responses to numeric values (e.g., Yes=1, No=0).\n",
    "Use Seaborn’s scatterplot to create a scatter plot with ‘Age’ on the x-axis and numeric panic attack responses on the y-axis.\n",
    "Customize the plot to improve readability by adding labels, a title, and adjusting point styles.\n",
    "Display the plot."
   ]
  },
  {
   "cell_type": "code",
   "execution_count": 27,
   "id": "37b63961",
   "metadata": {},
   "outputs": [],
   "source": [
    "#Exercise 1: Understanding Data Visualization\n",
    "#Task: Explain why data visualization is important in data analysis.\n",
    "\n",
    "    #Data visualization is not just about making pretty graphs; it’s about making data more accessible. Easier to understand and interpret.\n",
    "    #It allows you to quickly identify and understand trends, anomalies, and hidden patterns in the data.\n",
    "    #It makes it easier to communicate results to non-technical audiences.\n",
    "    #It helps with decision-making by making data more accessible and interpretable.\n",
    "\n",
    "#What is the purpose of a line graph?\n",
    "    #Line plots are used to display quantitative values and their evolution over a continuous interval or time span.\n",
    "    #Ideal for visualizing trends (e.g., daily temperature, monthly sales) and changes over time.\n",
    "    #It appears as a series of points connected by lines to better visualize variations. Often, the x-axis represents time."
   ]
  },
  {
   "cell_type": "code",
   "execution_count": null,
   "id": "37d5558c",
   "metadata": {},
   "outputs": [],
   "source": []
  },
  {
   "cell_type": "code",
   "execution_count": null,
   "id": "b766e332",
   "metadata": {},
   "outputs": [],
   "source": [
    "#Exercise 2: Creating a Line Plot for Temperature Variation\n",
    "#Objective : Create a simple line plot using Matplotlib that represents temperature variations over a week.\n",
    "\n",
    "    #Use a list of temperature values for each day of the week (e.g., [15, 19, 12, 15, 17, 20, 22]).\n",
    "    #Label the x-axis as “Day” and the y-axis as “Temperature (°C)”.\n",
    "    #Add a title to the plot.\n",
    "    #Display the plot."
   ]
  },
  {
   "cell_type": "code",
   "execution_count": 1,
   "id": "10790369",
   "metadata": {},
   "outputs": [],
   "source": [
    "import matplotlib.pyplot as plt"
   ]
  },
  {
   "cell_type": "code",
   "execution_count": null,
   "id": "9429dede",
   "metadata": {},
   "outputs": [],
   "source": [
    "    #Use a list of temperature values for each day of the week (e.g., [17, 19, 14, 17, 22, 21, 25]).\n",
    "days = [\"Mon\", \"Tue\", \"Wed\", \"Thu\", \"Fri\", \"Sat\", \"Sun\"]\n",
    "temperatures = [17, 19, 14, 17, 22, 21, 25]\n",
    "\n",
    "    #Label the x-axis as “Day” and the y-axis as “Temperature (°F)”.\n",
    "        # Create the plot\n",
    "plt.plot(days, temperatures, marker='o', color='blue')"
   ]
  },
  {
   "cell_type": "code",
   "execution_count": null,
   "id": "d6bf6616",
   "metadata": {},
   "outputs": [],
   "source": [
    "plt.xlabel(\"Day\")"
   ]
  },
  {
   "cell_type": "code",
   "execution_count": null,
   "id": "b4175cbc",
   "metadata": {},
   "outputs": [],
   "source": [
    "   #Add a title to the plot.\n",
    "plt.title(\"Weekly Temperature Variation\")"
   ]
  },
  {
   "cell_type": "code",
   "execution_count": null,
   "id": "8f924b7f",
   "metadata": {},
   "outputs": [],
   "source": [
    "plt.grid(True)"
   ]
  },
  {
   "cell_type": "code",
   "execution_count": 10,
   "id": "4e00facd",
   "metadata": {},
   "outputs": [],
   "source": [
    "   #Display the plot.\n",
    "plt.show()"
   ]
  },
  {
   "cell_type": "code",
   "execution_count": 39,
   "id": "6c407e77",
   "metadata": {},
   "outputs": [],
   "source": [
    "#Exercise 3: Visualizing Monthly Sales with a Bar Chart\n",
    "#Objective: Generate a bar chart using Matplotlib to visualize monthly sales data for a retail store.\n",
    "\n",
    "import matplotlib.pyplot as plt"
   ]
  },
  {
   "cell_type": "code",
   "execution_count": 50,
   "id": "96dd2efe",
   "metadata": {},
   "outputs": [],
   "source": [
    "#Create a list of sales values for each month (e.g., [5000, 5500, 6200, 7000, 7500]).\n",
    "#Data\n",
    "Months = [\"Jan\", \"Feb\", \"Mar\", \"Apr\", \"May\",\"June\"]\n",
    "Sales = [1200,900,1400,1380,1250,1500]"
   ]
  },
  {
   "cell_type": "code",
   "execution_count": null,
   "id": "1d35b1d8",
   "metadata": {},
   "outputs": [],
   "source": [
    "\n",
    "#Label the x-axis as “Month” and the y-axis as “Sales Amount ($)”.\n",
    "# Create the bar chart\n",
    "plt.bar(\"Month\", \"Sales\", color='green')"
   ]
  },
  {
   "cell_type": "code",
   "execution_count": null,
   "id": "07aa84d9",
   "metadata": {},
   "outputs": [],
   "source": [
    "#Exercise 3: Visualizing Monthly Sales with a Bar Chart\n",
    "#Objective: Generate a bar chart using Matplotlib to visualize monthly sales data for a retail store.\n",
    "\n",
    "#Create a list of sales values for each month (e.g., [5000, 5500, 6200, 7000, 7500]).\n",
    "#Label the x-axis as “Month” and the y-axis as “Sales Amount ($)”.\n",
    "#Add a title to the bar chart.\n",
    "#Display the plot.\n"
   ]
  },
  {
   "cell_type": "code",
   "execution_count": null,
   "id": "e9f388f2",
   "metadata": {},
   "outputs": [],
   "source": [
    "#Add a title to the bar chart.\n",
    "plt.ylabel(\"Sales\")\n",
    "plt.xlabel(\"Month\")\n",
    "plt.title(\"Monthly Retail Sales\")"
   ]
  },
  {
   "cell_type": "code",
   "execution_count": 59,
   "id": "693c697b",
   "metadata": {},
   "outputs": [],
   "source": [
    "#Display the plot\n",
    "plt.show()"
   ]
  },
  {
   "cell_type": "code",
   "execution_count": 61,
   "id": "14f505d0",
   "metadata": {},
   "outputs": [],
   "source": [
    "#Exercise 4: Visualizing the Distribution of CGPA\n",
    "#Objective: Create a histogram to visualize the distribution of students’ CGPA.\n",
    "#Dataset Overview: Assume the CGPA data is categorized into ranges and loaded in a DataFrame named df.\n",
    "\n",
    "#Import necessary libraries.\n",
    "#Use Seaborn’s histplot to create a histogram of the CGPA categories.\n",
    "\n",
    "import pandas as pd\n",
    "import seaborn as sns\n",
    "import matplotlib.pyplot as plt"
   ]
  },
  {
   "cell_type": "code",
   "execution_count": 23,
   "id": "a8d5ba1e",
   "metadata": {},
   "outputs": [],
   "source": [
    "# Sample DataFrame with CGPA values (you can replace this with your actual data)\n",
    "df = pd.DataFrame({\n",
    "    'CGPA': [2.5, 3.0, 3.2, 3.5, 3.6, 3.8, 3.9, 4.0, 3.7, 3.3, 3.1, 2.8, 3.4, 3.5]\n",
    "})"
   ]
  },
  {
   "cell_type": "code",
   "execution_count": null,
   "id": "7316bacb",
   "metadata": {},
   "outputs": [],
   "source": [
    "# Create a histogram using Seaborn\n",
    "sns.histplot(df['CGPA'], bins=6, color='skyblue', kde=False)"
   ]
  },
  {
   "cell_type": "code",
   "execution_count": null,
   "id": "b2b27073",
   "metadata": {},
   "outputs": [],
   "source": [
    "#Customize the histogram with a specific color and add a title.\n",
    "plt.title(\"Distribution of Students' CGPA\")\n",
    "plt.xlabel(\"CGPA\")\n",
    "plt.ylabel(\"Frequency\")\n",
    "plt.grid(True)"
   ]
  },
  {
   "cell_type": "code",
   "execution_count": 63,
   "id": "0de71128",
   "metadata": {},
   "outputs": [],
   "source": [
    "# Display the plot\n",
    "plt.show()"
   ]
  },
  {
   "cell_type": "code",
   "execution_count": null,
   "id": "c185296d",
   "metadata": {},
   "outputs": [],
   "source": [
    "#Exercise 5: Comparing Anxiety Levels Across Different Genders\n",
    "#Objective: Use a bar plot to compare the proportion of students experiencing anxiety across different genders.\n",
    "#Dataset Overview: The dataset includes columns: ‘Do you have Anxiety?’ and ‘Choose your gender’.\n",
    "\n",
    "#Tasks:\n",
    "    #Import necessary libraries.\n",
    "\n",
    "import pandas as pd\n",
    "import seaborn as sns\n",
    "import matplotlib.pyplot as plt"
   ]
  },
  {
   "cell_type": "code",
   "execution_count": 89,
   "id": "19b75b6d",
   "metadata": {},
   "outputs": [],
   "source": [
    "#Dataframe creation :\n",
    "data = {\n",
    "    'Do you have Anxiety?': ['No', 'No', 'No', 'Yes', 'No', 'Yes', 'No', 'No', 'No', 'No'],\n",
    "    'Choose your gender': ['Female', 'Male', 'Female', 'Male', 'Male', 'Female', 'Female', 'Male', 'Female', 'Male']\n",
    "}\n",
    "df = pd.DataFrame(data)"
   ]
  },
  {
   "cell_type": "code",
   "execution_count": null,
   "id": "092cad92",
   "metadata": {},
   "outputs": [],
   "source": [
    "#Use Seaborn to create a bar plot comparing anxiety levels across genders from the dataset df.\n",
    "\n",
    "sns.countplot(data=df, x='Choose your gender', hue='Do you have Anxiety?', palette='pastel')"
   ]
  },
  {
   "cell_type": "code",
   "execution_count": null,
   "id": "75c8aa80",
   "metadata": {},
   "outputs": [],
   "source": [
    " #Customize the plot with an appropriate color palette and add a title.\n",
    "    #Display the plot.\n",
    "\n",
    "# Create a bar plot of anxiety levels by gender\n",
    "sns.set(style=\"whitegrid\")\n",
    "sns.countplot(data=df, x='Choose your gender', hue='Do you have Anxiety?', palette='Set2')\n"
   ]
  },
  {
   "cell_type": "code",
   "execution_count": null,
   "id": "206d3c57",
   "metadata": {},
   "outputs": [],
   "source": [
    "# Add title and labels\n",
    "\n",
    "plt.title(\"Anxiety Levels by Gender\")\n",
    "plt.xlabel(\"Gender\")\n",
    "plt.ylabel(\"Number of Students\")\n",
    "plt.legend(title='Anxiety')\n",
    "plt.show()\n"
   ]
  },
  {
   "cell_type": "code",
   "execution_count": 101,
   "id": "796abffb",
   "metadata": {},
   "outputs": [],
   "source": [
    "#Exercise 6: Exploring the Relationship Between Age and Panic Attacks\n",
    "#Objective: Create a plot (appropriate type of plot shall be proposed) to explore the relationship between students’ age and the occurrence of panic attacks.\n",
    "#Dataset Overview: The dataset includes columns: ‘Age’ and ‘Do you have Panic Attacks?’.\n",
    "\n",
    "#Tasks:\n",
    "    #Import necessary libraries.\n",
    "\n",
    "import pandas as pd\n",
    "import seaborn as sns\n",
    "import matplotlib.pyplot as plt\n",
    "\n",
    "#NOTA : \n",
    "#Clara Martinez - 14 h 34\n",
    "#Pour l'exercice 6, il n'y aucun intêret pédagogique et d'analyse à faire un scatter plot comme demandé dans la consigne, réflechissez à un autre plot plus judicieux pour comprendre nos données\n"
   ]
  },
  {
   "cell_type": "code",
   "execution_count": 103,
   "id": "826a9b68",
   "metadata": {},
   "outputs": [],
   "source": [
    "#Objective: Create a plot (appropriate type of plot shall be proposed) to explore the relationship between students’ age and the occurrence of panic attacks.\n",
    "#Dataset Overview: The dataset includes columns: ‘Age’ and ‘Do you have Panic Attacks?’.\n",
    "\n",
    "#Dataset\n",
    "df = pd.DataFrame({\n",
    "    'Age': [18, 19, 20, 21, 22, 23, 24, 25, 20, 21],\n",
    "    'Do you have Panic Attacks?': ['Yes', 'No', 'Yes', 'No', 'Yes', 'Yes', 'No', 'No', 'Yes', 'No']\n",
    "})\n"
   ]
  },
  {
   "cell_type": "code",
   "execution_count": 106,
   "id": "aa7afe7d",
   "metadata": {},
   "outputs": [],
   "source": [
    "#Convert panic attack responses to numeric values (e.g., Yes=1, No=0).\n",
    "df['Panic_Attack'] =df['Do you have Panic Attacks?'].map({'Yes': 1, 'No': 0})"
   ]
  },
  {
   "cell_type": "code",
   "execution_count": 111,
   "id": "1a0e4d01",
   "metadata": {},
   "outputs": [],
   "source": [
    "#Exercise 6: Exploring the Relationship Between Age and Panic Attacks\n",
    "#Objective: Create a scatter plot to explore the relationship between students’ age and the occurrence of panic attacks.\n",
    "#Dataset Overview: The dataset includes columns: ‘Age’ and ‘Do you have Panic Attacks?’.\n",
    "\n",
    "\n",
    "#Convert panic attack responses to numeric values (e.g., Yes=1, No=0).\n",
    "df['Panic_Attack'] = df['Do you have Panic Attacks?'].map({'Yes': 1, 'No': 0})"
   ]
  },
  {
   "cell_type": "code",
   "execution_count": null,
   "id": "b55e43a1",
   "metadata": {},
   "outputs": [],
   "source": [
    "#Create and Use Seaborn’s appropriate plot with ‘Age’ on the x-axis and numeric panic attack responses on the y-axis.\n",
    "sns.stripplot(x='Age', y='Panic_Attack', data=df, jitter=True, size=8, palette='deep')"
   ]
  },
  {
   "cell_type": "code",
   "execution_count": null,
   "id": "88939941",
   "metadata": {},
   "outputs": [],
   "source": [
    "#Customize the plot to improve readability by adding labels, a title, and adjusting point styles :\n",
    "\n",
    "plt.title(\"Relationship Between Age and Panic Attacks\", fontsize=14, fontweight='bold')\n",
    "plt.xlabel(\"Age\", fontsize=12)\n",
    "plt.ylabel(\"Panic Attack (1 = Yes, 0 = No)\", fontsize=12)\n",
    "plt.xticks(rotation=45)\n",
    "plt.yticks([0, 1], ['No', 'Yes'])\n",
    "plt.grid(True, linestyle='--', alpha=0.5)\n",
    "plt.tight_layout()"
   ]
  },
  {
   "cell_type": "code",
   "execution_count": 117,
   "id": "d5a14f60",
   "metadata": {},
   "outputs": [],
   "source": [
    "# Display the plot.\n",
    "plt.show()"
   ]
  }
 ],
 "metadata": {
  "kernelspec": {
   "display_name": "Python 3",
   "language": "python",
   "name": "python3"
  },
  "language_info": {
   "codemirror_mode": {
    "name": "ipython",
    "version": 3
   },
   "file_extension": ".py",
   "mimetype": "text/x-python",
   "name": "python",
   "nbconvert_exporter": "python",
   "pygments_lexer": "ipython3",
   "version": "3.11.9"
  }
 },
 "nbformat": 4,
 "nbformat_minor": 5
}
