{
 "cells": [
  {
   "cell_type": "markdown",
   "id": "d040f267",
   "metadata": {},
   "source": [
    " GenAI & Machine Learning Bootcamp 2025 - Full Time 2025 - PSTB Data understanding and preprocessing Importing Data, Exporting Data and Types of Data Exercises XP\n",
    "Exercises XP\n",
    "Last Updated: May 26th, 2025\n",
    "\n",
    "👩‍🏫 👩🏿‍🏫 What You’ll learn\n",
    "Identify structured and unstructured data.\n",
    "Convert unstructured data into structured formats.\n",
    "Categorize and utilize different data types in a business context.\n",
    "Learn how to import datasets directly from Kaggle.\n",
    "Understand the process of importing and displaying data from a CSV file using Pandas.\n",
    "Gain skills in fetching and reading JSON data from a URL using Pandas.\n",
    "\n",
    "\n",
    "🛠️ What you will create\n",
    "Classify various data sources.\n",
    "Convert raw data into structured formats.\n",
    "How to import the Titanic dataset from Kaggle and display its initial rows.\n",
    "A script for importing the Iris dataset from a CSV file and displaying its first few rows.\n",
    "How to import JSON data from a URL and display the initial entries.\n",
    "\n",
    "\n",
    "🌟 Exercise 1: Identifying Data Types\n",
    "Below are various data sources. Identify whether each one is an example of structured or unstructured data.\n",
    "\n",
    "A company’s financial reports stored in an Excel file.\n",
    "Photographs uploaded to a social media platform.\n",
    "A collection of news articles on a website.\n",
    "Inventory data in a relational database.\n",
    "Recorded interviews from a market research study.\n",
    "\n",
    "\n",
    "🌟 Exercise 2: Transformation Exercise\n",
    "For each of the following unstructured data sources, propose a method to convert it into structured data. Explain your reasoning.\n",
    "\n",
    "A series of blog posts about travel experiences.\n",
    "Audio recordings of customer service calls.\n",
    "Handwritten notes from a brainstorming session.\n",
    "A video tutorial on cooking.\n",
    "\n",
    "\n",
    "🌟 Exercise 3 : Import a file from Kaggle\n",
    "Import the train dataset. Use the train.csv file.\n",
    "Print the first few rows of the DataFrame.\n",
    "\n",
    "\n",
    "🌟 Exercise 4: Importing a CSV File\n",
    "Use the Iris Dataset CSV.\n",
    "\n",
    "Download the Iris dataset CSV file and place it in the same directory as your Jupyter Notebook.\n",
    "Import the CSV file using Pandas.\n",
    "Display the first five rows of the dataset.\n",
    "\n",
    "\n",
    "🌟 Exercise 5 : Export a dataframe to excel format and JSON format.\n",
    "Create a simple dataframe.\n",
    "Export the dataframe to an excel file.\n",
    "Export the dataframe to a JSON file.\n",
    "\n",
    "\n",
    "🌟 Exercise 6: Reading JSON Data\n",
    "Use a sample JSON dataset\n",
    "\n",
    "Import the JSON data from the provided URL.\n",
    "Use Pandas to read the JSON data.\n",
    "Display the first five entries of the data."
   ]
  },
  {
   "cell_type": "code",
   "execution_count": null,
   "id": "ac8ef2fc",
   "metadata": {},
   "outputs": [],
   "source": [
    "#Exercise 1: Identifying Data Types\n",
    "    #Below are various data sources. Identify whether each one is an example of structured or unstructured data.\n",
    "\n",
    "#A company’s financial reports stored in an Excel file.     --> structured data\n",
    "#Photographs uploaded to a social media platform.          -->  unstructured data\n",
    "#A collection of news articles on a website.                --> unstructured data\n",
    "#Inventory data in a relational database.                   --> structured data\n",
    "#Recorded interviews from a market research study.          --> unstructured data"
   ]
  },
  {
   "cell_type": "code",
   "execution_count": null,
   "id": "b49446ad",
   "metadata": {},
   "outputs": [],
   "source": [
    "#Exercise 2: Transformation Exercise\n",
    "    #For each of the following unstructured data sources, propose a method to convert it into structured data. Explain your reasoning.\n",
    "\n",
    "#A series of blog posts about travel experiences.\n",
    "#Audio recordings of customer service calls.\n",
    "#Handwritten notes from a brainstorming session.\n",
    "#A video tutorial on cooking."
   ]
  },
  {
   "cell_type": "code",
   "execution_count": null,
   "id": "d467c194",
   "metadata": {},
   "outputs": [],
   "source": [
    "#Exercise 3 : Import a file from Kaggle\n",
    "    #Import the train dataset. Use the train.csv file.\n",
    "\n",
    "import pandas as pd\n",
    "\n",
    "train_data = pd.read_csv('train.csv')\n",
    "\n",
    "print(train_data.head())\n"
   ]
  },
  {
   "cell_type": "code",
   "execution_count": null,
   "id": "bd5ea300",
   "metadata": {},
   "outputs": [],
   "source": [
    "#Exercise 4: Importing a CSV File\n",
    "    #Use the Iris Dataset CSV.\n",
    "        #Download the Iris dataset CSV file and place it in the same directory as your Jupyter Notebook. \n",
    "        #Import the CSV file using Pandas."
   ]
  },
  {
   "cell_type": "code",
   "execution_count": null,
   "id": "03f17a1c",
   "metadata": {},
   "outputs": [],
   "source": [
    "import pandas as pd"
   ]
  },
  {
   "cell_type": "code",
   "execution_count": 2,
   "id": "9c51894c",
   "metadata": {},
   "outputs": [],
   "source": [
    "iris_data = pd.read_csv('Iris_dataset.csv', header=None)"
   ]
  },
  {
   "cell_type": "code",
   "execution_count": 7,
   "id": "7730a5af",
   "metadata": {},
   "outputs": [],
   "source": [
    "df = pd.read_csv(\"Iris_dataset.csv\")"
   ]
  },
  {
   "cell_type": "code",
   "execution_count": null,
   "id": "e4bc6454",
   "metadata": {},
   "outputs": [
    {
     "name": "stdout",
     "output_type": "stream",
     "text": [
      "   5.1  3.5  1.4  0.2  Iris-setosa\n",
      "0  4.9  3.0  1.4  0.2  Iris-setosa\n",
      "1  4.7  3.2  1.3  0.2  Iris-setosa\n",
      "2  4.6  3.1  1.5  0.2  Iris-setosa\n",
      "3  5.0  3.6  1.4  0.2  Iris-setosa\n",
      "4  5.4  3.9  1.7  0.4  Iris-setosa\n"
     ]
    }
   ],
   "source": [
    "#Display the first five rows of the dataset.\n",
    "print(df.head())"
   ]
  },
  {
   "cell_type": "code",
   "execution_count": null,
   "id": "596d8106",
   "metadata": {},
   "outputs": [],
   "source": [
    "#🌟 Exercise 5 : Export a dataframe to excel format and JSON format.\n",
    "        #Create a simple dataframe.\n",
    "        #Export the dataframe to an excel file.\n",
    "        #Export the dataframe to a JSON file."
   ]
  },
  {
   "cell_type": "code",
   "execution_count": 13,
   "id": "e966adfc",
   "metadata": {},
   "outputs": [],
   "source": [
    "data = {\n",
    "    'Name': ['John', 'Anna', 'Peter', 'Linda'],\n",
    "    'Age': [28, 34, 29, 32],\n",
    "    'City': ['New York', 'Paris', 'Berlin', 'London']\n",
    "}"
   ]
  },
  {
   "cell_type": "code",
   "execution_count": null,
   "id": "3480888a",
   "metadata": {},
   "outputs": [],
   "source": [
    "df = pd.DataFrame(data)\n",
    "print(df)"
   ]
  },
  {
   "cell_type": "code",
   "execution_count": 21,
   "id": "4c6ed86b",
   "metadata": {},
   "outputs": [],
   "source": [
    "df.to_excel('filename.xlsx', index=False,)"
   ]
  },
  {
   "cell_type": "code",
   "execution_count": 22,
   "id": "b5cac929",
   "metadata": {},
   "outputs": [],
   "source": [
    "#Export the dataframe to a JSON file.\n",
    "\n",
    "df.to_json('filename.json')"
   ]
  },
  {
   "cell_type": "markdown",
   "id": "0cf7d4f2",
   "metadata": {},
   "source": [
    "🌟 Exercise 6: Reading JSON Data\n",
    "Use a sample JSON dataset\n",
    "\n",
    "Import the JSON data from the provided URL.\n",
    "Use Pandas to read the JSON data.\n",
    "Display the first five entries of the data.\n",
    "\n",
    "------------------------------------------------------\n",
    "RAPPEL DU COURS - Read Data from a JSON File:\n",
    "    • Find a JSON formatted data, such as a sample JSON dataset.\n",
    "    • Reading and parsing JSON data is very similar to when we did it for a CSV file..\n",
    "\n",
    "json_data = pd.read_json('https://jsonplaceholder.typicode.com/posts')\n",
    "print(json_data.head())\n"
   ]
  },
  {
   "cell_type": "code",
   "execution_count": null,
   "id": "5f4613a1",
   "metadata": {},
   "outputs": [],
   "source": [
    "#Import the JSON data from the provided URL.\n",
    "\n",
    "url = \"https://jsonplaceholder.typicode.com/users\""
   ]
  },
  {
   "cell_type": "code",
   "execution_count": 24,
   "id": "98e97c07",
   "metadata": {},
   "outputs": [],
   "source": [
    "json_data = pd.read_json('https://jsonplaceholder.typicode.com/posts')"
   ]
  },
  {
   "cell_type": "code",
   "execution_count": 25,
   "id": "0e58c9c5",
   "metadata": {},
   "outputs": [
    {
     "name": "stdout",
     "output_type": "stream",
     "text": [
      "   userId  id                                              title  \\\n",
      "0       1   1  sunt aut facere repellat provident occaecati e...   \n",
      "1       1   2                                       qui est esse   \n",
      "2       1   3  ea molestias quasi exercitationem repellat qui...   \n",
      "3       1   4                               eum et est occaecati   \n",
      "4       1   5                                 nesciunt quas odio   \n",
      "\n",
      "                                                body  \n",
      "0  quia et suscipit\\nsuscipit recusandae consequu...  \n",
      "1  est rerum tempore vitae\\nsequi sint nihil repr...  \n",
      "2  et iusto sed quo iure\\nvoluptatem occaecati om...  \n",
      "3  ullam et saepe reiciendis voluptatem adipisci\\...  \n",
      "4  repudiandae veniam quaerat sunt sed\\nalias aut...  \n"
     ]
    }
   ],
   "source": [
    "print(json_data.head())"
   ]
  }
 ],
 "metadata": {
  "kernelspec": {
   "display_name": "Python 3",
   "language": "python",
   "name": "python3"
  },
  "language_info": {
   "codemirror_mode": {
    "name": "ipython",
    "version": 3
   },
   "file_extension": ".py",
   "mimetype": "text/x-python",
   "name": "python",
   "nbconvert_exporter": "python",
   "pygments_lexer": "ipython3",
   "version": "3.11.9"
  }
 },
 "nbformat": 4,
 "nbformat_minor": 5
}
