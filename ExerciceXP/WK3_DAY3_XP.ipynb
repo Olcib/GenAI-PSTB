{
 "cells": [
  {
   "cell_type": "markdown",
   "id": "bddae0e1",
   "metadata": {},
   "source": [
    "GenAI & Machine Learning Bootcamp 2025 - Full Time 2025 - PSTB Data understanding and preprocessing Data Preprocessing & Transformation Exercises XP\n",
    "\n",
    "What you will learn\n",
    "Identify and remove duplicate entries in the Titanic dataset.\n",
    "Explore various techniques for handling missing values in the Titanic dataset.\n",
    "Perform feature engineering on the Titanic dataset to create new meaningful attributes.\n",
    "Standardize and normalize numerical columns in the Titanic dataset for consistent scale.\n",
    "Transform the Age feature in the Titanic dataset for better representation and analysis.\n",
    "\n",
    "What you will create\n",
    "A cleaned version of the Titanic dataset with duplicate rows removed.\n",
    "A version of the Titanic dataset where missing values have been addressed using various strategies like removal, imputation, and constant value filling.\n",
    "A Titanic dataset with standardized and normalized numerical columns.A Titanic dataset with passengers categorized into different age groups and these groups encoded into binary features.\n",
    "A Titanic dataset with encoded categorical features using one-hot and label encoding techniques.\n",
    "\n",
    "For all of the below exercises, you will use the Titanic dataset (train.csv), so load it beforehand on your notebook.\n",
    "You will notice in the following exercises that the dataset is already pretty clean but try and understand all of the functions used for preprocessing the data.\n",
    "Optionally, if you have time and willing to, you can redo the exercises with a less clean dataset : Weather Data Munich 1954-2022.\n",
    "\n",
    "🌟 Exercise 1: Duplicate Detection and Removal\n",
    "Instructions\n",
    "Objective: Identify and remove duplicate entries in the Titanic dataset.\n",
    "\n",
    "Load the Titanic dataset.\n",
    "Identify if there are any duplicate rows based on all columns.\n",
    "Remove any duplicate rows found in the dataset.\n",
    "Verify the removal of duplicates by checking the number of rows before and after the duplicate removal.\n",
    "Hint: Use the duplicated() and drop_duplicates() functions in Pandas.\n",
    "\n",
    "🌟 Exercise 2: Handling Missing Values\n",
    "Instructions\n",
    "Identify columns in the Titanic dataset with missing values.\n",
    "Explore different strategies for handling missing data, such as removal, imputation, and filling with a constant value.\n",
    "Apply each strategy to different columns based on the nature of the data.\n",
    "Hint: Review methods like dropna(), fillna(), and SimpleImputer from scikit-learn.\n",
    "\n",
    "🌟 Exercise 3: Feature Engineering\n",
    "Instructions\n",
    "Create new features, such as Family Size from SibSp and Parch, and Title extracted from the Name column.\n",
    "Convert categorical variables into numerical form using techniques like one-hot encoding or label encoding.\n",
    "Normalize or standardize numerical features if required.\n",
    "Hint: Utilize Pandas for data manipulation and scikit-learn’s preprocessing module for encoding.\n",
    "\n",
    "🌟 Exercise 4: Outlier Detection and Handling\n",
    "Instructions\n",
    "Use statistical methods to detect outliers in columns like Fare and Age.\n",
    "Decide on a strategy to handle the identified outliers, such as capping, transformation, or removal.\n",
    "Implement the chosen strategy and assess its impact on the dataset.\n",
    "Hint: Explore methods like IQR (Interquartile Range) and Z-score for outlier detection.\n",
    "\n",
    "🌟 Exercise 5: Data Standardization and Normalization\n",
    "Instructions\n",
    "Assess the scale and distribution of numerical columns in the dataset.\n",
    "Apply standardization to features with a wide range of values.\n",
    "Normalize data that requires a bounded range, like [0, 1].\n",
    "Hint: Consider using StandardScaler and MinMaxScaler from scikit-learn’s preprocessing module.\n",
    "\n",
    "🌟 Exercise 6: Feature Encoding\n",
    "Instructions\n",
    "Identify categorical columns in the Titanic dataset, such as Sex and Embarked.\n",
    "Use one-hot encoding for nominal variables and label encoding for ordinal variables.\n",
    "Integrate the encoded features back into the main dataset.\n",
    "Hint: Utilize pandas.get_dummies() for one-hot encoding and LabelEncoder from scikit-learn for label encoding.\n",
    "\n",
    "🌟 Exercise 7: Data Transformation for Age Feature\n",
    "Instructions\n",
    "Create age groups (bins) from the Age column to categorize passengers into different age categories.\n",
    "Apply one-hot encoding to the age groups to convert them into binary features.\n",
    "Hint: Use pd.cut() for binning the Age column and pd.get_dummies() for one-hot encoding."
   ]
  },
  {
   "cell_type": "code",
   "execution_count": 68,
   "id": "cc045365",
   "metadata": {},
   "outputs": [],
   "source": [
    "#🌟 Exercise 1: Duplicate Detection and Removal\n",
    "\n",
    "#Objective: Identify and remove duplicate entries in the Titanic dataset.\n",
    "\n",
    "    #Load the Titanic dataset.\n",
    "    #Identify if there are any duplicate rows based on all columns.\n",
    "    #Remove any duplicate rows found in the dataset.\n",
    "    #Verify the removal of duplicates by checking the number of rows before and after the duplicate removal.\n",
    "    #Hint: Use the duplicated() and drop_duplicates() functions in Pandas."
   ]
  },
  {
   "cell_type": "code",
   "execution_count": 69,
   "id": "41b36686",
   "metadata": {},
   "outputs": [],
   "source": [
    "    #Load the Titanic dataset : done.\n",
    "    #Identify if there are any duplicate rows based on all columns.\n",
    "\n",
    "import pandas as pd"
   ]
  },
  {
   "cell_type": "code",
   "execution_count": 70,
   "id": "1524c21b",
   "metadata": {},
   "outputs": [],
   "source": [
    "df = pd.read_csv(\"C:/Users/cibei/Desktop/PSTB_GenAI/WEEK3/DAY3/ExerciceXP/train.csv\")"
   ]
  },
  {
   "cell_type": "code",
   "execution_count": 90,
   "id": "0ac374dd",
   "metadata": {},
   "outputs": [
    {
     "data": {
      "text/html": [
       "<div>\n",
       "<style scoped>\n",
       "    .dataframe tbody tr th:only-of-type {\n",
       "        vertical-align: middle;\n",
       "    }\n",
       "\n",
       "    .dataframe tbody tr th {\n",
       "        vertical-align: top;\n",
       "    }\n",
       "\n",
       "    .dataframe thead th {\n",
       "        text-align: right;\n",
       "    }\n",
       "</style>\n",
       "<table border=\"1\" class=\"dataframe\">\n",
       "  <thead>\n",
       "    <tr style=\"text-align: right;\">\n",
       "      <th></th>\n",
       "      <th>PassengerId</th>\n",
       "      <th>Survived</th>\n",
       "      <th>Pclass</th>\n",
       "      <th>Name</th>\n",
       "      <th>Sex</th>\n",
       "      <th>Age</th>\n",
       "      <th>SibSp</th>\n",
       "      <th>Parch</th>\n",
       "      <th>Ticket</th>\n",
       "      <th>Fare</th>\n",
       "      <th>Embarked</th>\n",
       "    </tr>\n",
       "  </thead>\n",
       "  <tbody>\n",
       "    <tr>\n",
       "      <th>0</th>\n",
       "      <td>1</td>\n",
       "      <td>0</td>\n",
       "      <td>3</td>\n",
       "      <td>Braund, Mr. Owen Harris</td>\n",
       "      <td>male</td>\n",
       "      <td>22.0</td>\n",
       "      <td>1</td>\n",
       "      <td>0</td>\n",
       "      <td>A/5 21171</td>\n",
       "      <td>7.2500</td>\n",
       "      <td>S</td>\n",
       "    </tr>\n",
       "    <tr>\n",
       "      <th>1</th>\n",
       "      <td>2</td>\n",
       "      <td>1</td>\n",
       "      <td>1</td>\n",
       "      <td>Cumings, Mrs. John Bradley (Florence Briggs Th...</td>\n",
       "      <td>female</td>\n",
       "      <td>38.0</td>\n",
       "      <td>1</td>\n",
       "      <td>0</td>\n",
       "      <td>PC 17599</td>\n",
       "      <td>71.2833</td>\n",
       "      <td>C</td>\n",
       "    </tr>\n",
       "    <tr>\n",
       "      <th>2</th>\n",
       "      <td>3</td>\n",
       "      <td>1</td>\n",
       "      <td>3</td>\n",
       "      <td>Heikkinen, Miss. Laina</td>\n",
       "      <td>female</td>\n",
       "      <td>26.0</td>\n",
       "      <td>0</td>\n",
       "      <td>0</td>\n",
       "      <td>STON/O2. 3101282</td>\n",
       "      <td>7.9250</td>\n",
       "      <td>S</td>\n",
       "    </tr>\n",
       "    <tr>\n",
       "      <th>3</th>\n",
       "      <td>4</td>\n",
       "      <td>1</td>\n",
       "      <td>1</td>\n",
       "      <td>Futrelle, Mrs. Jacques Heath (Lily May Peel)</td>\n",
       "      <td>female</td>\n",
       "      <td>35.0</td>\n",
       "      <td>1</td>\n",
       "      <td>0</td>\n",
       "      <td>113803</td>\n",
       "      <td>53.1000</td>\n",
       "      <td>S</td>\n",
       "    </tr>\n",
       "    <tr>\n",
       "      <th>4</th>\n",
       "      <td>5</td>\n",
       "      <td>0</td>\n",
       "      <td>3</td>\n",
       "      <td>Allen, Mr. William Henry</td>\n",
       "      <td>male</td>\n",
       "      <td>35.0</td>\n",
       "      <td>0</td>\n",
       "      <td>0</td>\n",
       "      <td>373450</td>\n",
       "      <td>8.0500</td>\n",
       "      <td>S</td>\n",
       "    </tr>\n",
       "  </tbody>\n",
       "</table>\n",
       "</div>"
      ],
      "text/plain": [
       "   PassengerId  Survived  Pclass  \\\n",
       "0            1         0       3   \n",
       "1            2         1       1   \n",
       "2            3         1       3   \n",
       "3            4         1       1   \n",
       "4            5         0       3   \n",
       "\n",
       "                                                Name     Sex   Age  SibSp  \\\n",
       "0                            Braund, Mr. Owen Harris    male  22.0      1   \n",
       "1  Cumings, Mrs. John Bradley (Florence Briggs Th...  female  38.0      1   \n",
       "2                             Heikkinen, Miss. Laina  female  26.0      0   \n",
       "3       Futrelle, Mrs. Jacques Heath (Lily May Peel)  female  35.0      1   \n",
       "4                           Allen, Mr. William Henry    male  35.0      0   \n",
       "\n",
       "   Parch            Ticket     Fare Embarked  \n",
       "0      0         A/5 21171   7.2500        S  \n",
       "1      0          PC 17599  71.2833        C  \n",
       "2      0  STON/O2. 3101282   7.9250        S  \n",
       "3      0            113803  53.1000        S  \n",
       "4      0            373450   8.0500        S  "
      ]
     },
     "execution_count": 90,
     "metadata": {},
     "output_type": "execute_result"
    }
   ],
   "source": [
    "df.head()"
   ]
  },
  {
   "cell_type": "code",
   "execution_count": 91,
   "id": "7c56a694",
   "metadata": {},
   "outputs": [
    {
     "name": "stdout",
     "output_type": "stream",
     "text": [
      "<class 'pandas.core.frame.DataFrame'>\n",
      "RangeIndex: 891 entries, 0 to 890\n",
      "Data columns (total 11 columns):\n",
      " #   Column       Non-Null Count  Dtype  \n",
      "---  ------       --------------  -----  \n",
      " 0   PassengerId  891 non-null    int64  \n",
      " 1   Survived     891 non-null    int64  \n",
      " 2   Pclass       891 non-null    int64  \n",
      " 3   Name         891 non-null    object \n",
      " 4   Sex          891 non-null    object \n",
      " 5   Age          891 non-null    float64\n",
      " 6   SibSp        891 non-null    int64  \n",
      " 7   Parch        891 non-null    int64  \n",
      " 8   Ticket       891 non-null    object \n",
      " 9   Fare         891 non-null    float64\n",
      " 10  Embarked     891 non-null    object \n",
      "dtypes: float64(2), int64(5), object(4)\n",
      "memory usage: 76.7+ KB\n"
     ]
    }
   ],
   "source": [
    "df.info()"
   ]
  },
  {
   "cell_type": "code",
   "execution_count": 92,
   "id": "88ac4a0c",
   "metadata": {},
   "outputs": [
    {
     "data": {
      "text/html": [
       "<div>\n",
       "<style scoped>\n",
       "    .dataframe tbody tr th:only-of-type {\n",
       "        vertical-align: middle;\n",
       "    }\n",
       "\n",
       "    .dataframe tbody tr th {\n",
       "        vertical-align: top;\n",
       "    }\n",
       "\n",
       "    .dataframe thead th {\n",
       "        text-align: right;\n",
       "    }\n",
       "</style>\n",
       "<table border=\"1\" class=\"dataframe\">\n",
       "  <thead>\n",
       "    <tr style=\"text-align: right;\">\n",
       "      <th></th>\n",
       "      <th>PassengerId</th>\n",
       "      <th>Survived</th>\n",
       "      <th>Pclass</th>\n",
       "      <th>Age</th>\n",
       "      <th>SibSp</th>\n",
       "      <th>Parch</th>\n",
       "      <th>Fare</th>\n",
       "    </tr>\n",
       "  </thead>\n",
       "  <tbody>\n",
       "    <tr>\n",
       "      <th>count</th>\n",
       "      <td>891.000000</td>\n",
       "      <td>891.000000</td>\n",
       "      <td>891.000000</td>\n",
       "      <td>891.000000</td>\n",
       "      <td>891.000000</td>\n",
       "      <td>891.000000</td>\n",
       "      <td>891.000000</td>\n",
       "    </tr>\n",
       "    <tr>\n",
       "      <th>mean</th>\n",
       "      <td>446.000000</td>\n",
       "      <td>0.383838</td>\n",
       "      <td>2.308642</td>\n",
       "      <td>29.361582</td>\n",
       "      <td>0.523008</td>\n",
       "      <td>0.381594</td>\n",
       "      <td>32.204208</td>\n",
       "    </tr>\n",
       "    <tr>\n",
       "      <th>std</th>\n",
       "      <td>257.353842</td>\n",
       "      <td>0.486592</td>\n",
       "      <td>0.836071</td>\n",
       "      <td>13.019697</td>\n",
       "      <td>1.102743</td>\n",
       "      <td>0.806057</td>\n",
       "      <td>49.693429</td>\n",
       "    </tr>\n",
       "    <tr>\n",
       "      <th>min</th>\n",
       "      <td>1.000000</td>\n",
       "      <td>0.000000</td>\n",
       "      <td>1.000000</td>\n",
       "      <td>0.420000</td>\n",
       "      <td>0.000000</td>\n",
       "      <td>0.000000</td>\n",
       "      <td>0.000000</td>\n",
       "    </tr>\n",
       "    <tr>\n",
       "      <th>25%</th>\n",
       "      <td>223.500000</td>\n",
       "      <td>0.000000</td>\n",
       "      <td>2.000000</td>\n",
       "      <td>22.000000</td>\n",
       "      <td>0.000000</td>\n",
       "      <td>0.000000</td>\n",
       "      <td>7.910400</td>\n",
       "    </tr>\n",
       "    <tr>\n",
       "      <th>50%</th>\n",
       "      <td>446.000000</td>\n",
       "      <td>0.000000</td>\n",
       "      <td>3.000000</td>\n",
       "      <td>28.000000</td>\n",
       "      <td>0.000000</td>\n",
       "      <td>0.000000</td>\n",
       "      <td>14.454200</td>\n",
       "    </tr>\n",
       "    <tr>\n",
       "      <th>75%</th>\n",
       "      <td>668.500000</td>\n",
       "      <td>1.000000</td>\n",
       "      <td>3.000000</td>\n",
       "      <td>35.000000</td>\n",
       "      <td>1.000000</td>\n",
       "      <td>0.000000</td>\n",
       "      <td>31.000000</td>\n",
       "    </tr>\n",
       "    <tr>\n",
       "      <th>max</th>\n",
       "      <td>891.000000</td>\n",
       "      <td>1.000000</td>\n",
       "      <td>3.000000</td>\n",
       "      <td>80.000000</td>\n",
       "      <td>8.000000</td>\n",
       "      <td>6.000000</td>\n",
       "      <td>512.329200</td>\n",
       "    </tr>\n",
       "  </tbody>\n",
       "</table>\n",
       "</div>"
      ],
      "text/plain": [
       "       PassengerId    Survived      Pclass         Age       SibSp  \\\n",
       "count   891.000000  891.000000  891.000000  891.000000  891.000000   \n",
       "mean    446.000000    0.383838    2.308642   29.361582    0.523008   \n",
       "std     257.353842    0.486592    0.836071   13.019697    1.102743   \n",
       "min       1.000000    0.000000    1.000000    0.420000    0.000000   \n",
       "25%     223.500000    0.000000    2.000000   22.000000    0.000000   \n",
       "50%     446.000000    0.000000    3.000000   28.000000    0.000000   \n",
       "75%     668.500000    1.000000    3.000000   35.000000    1.000000   \n",
       "max     891.000000    1.000000    3.000000   80.000000    8.000000   \n",
       "\n",
       "            Parch        Fare  \n",
       "count  891.000000  891.000000  \n",
       "mean     0.381594   32.204208  \n",
       "std      0.806057   49.693429  \n",
       "min      0.000000    0.000000  \n",
       "25%      0.000000    7.910400  \n",
       "50%      0.000000   14.454200  \n",
       "75%      0.000000   31.000000  \n",
       "max      6.000000  512.329200  "
      ]
     },
     "execution_count": 92,
     "metadata": {},
     "output_type": "execute_result"
    }
   ],
   "source": [
    "df.describe()"
   ]
  },
  {
   "cell_type": "code",
   "execution_count": 71,
   "id": "923243a8",
   "metadata": {},
   "outputs": [],
   "source": [
    "df = df.drop_duplicates()"
   ]
  },
  {
   "cell_type": "code",
   "execution_count": 72,
   "id": "438099c9",
   "metadata": {},
   "outputs": [],
   "source": [
    "# Identify duplicates (all columns)\n",
    "duplicate_rows = df[df.duplicated()]\n"
   ]
  },
  {
   "cell_type": "code",
   "execution_count": 73,
   "id": "3c3cd184",
   "metadata": {},
   "outputs": [
    {
     "name": "stdout",
     "output_type": "stream",
     "text": [
      "Number of duplicates : 0\n"
     ]
    }
   ],
   "source": [
    "#generate number of duplicates :\n",
    "print(\"Number of duplicates :\", len(duplicate_rows))"
   ]
  },
  {
   "cell_type": "code",
   "execution_count": 74,
   "id": "d06a51c7",
   "metadata": {},
   "outputs": [],
   "source": [
    "# Remove duplicate rows\n",
    "df = df.drop_duplicates()"
   ]
  },
  {
   "cell_type": "code",
   "execution_count": null,
   "id": "34bf0beb",
   "metadata": {},
   "outputs": [
    {
     "name": "stdout",
     "output_type": "stream",
     "text": [
      "0\n"
     ]
    }
   ],
   "source": [
    "# Verify duplicates are removed\n",
    "print(df.duplicated().sum())"
   ]
  },
  {
   "cell_type": "code",
   "execution_count": 76,
   "id": "0eb98b18",
   "metadata": {},
   "outputs": [],
   "source": [
    "# Number of lines before removal\n",
    "rows_before = df.shape[0]"
   ]
  },
  {
   "cell_type": "code",
   "execution_count": 77,
   "id": "40a378d1",
   "metadata": {},
   "outputs": [],
   "source": [
    "# Number of lines after removal\n",
    "rows_after = df.shape[0]"
   ]
  },
  {
   "cell_type": "code",
   "execution_count": 78,
   "id": "7ca15ef4",
   "metadata": {},
   "outputs": [
    {
     "name": "stdout",
     "output_type": "stream",
     "text": [
      "Number of duplicates : 0\n"
     ]
    }
   ],
   "source": [
    "# Vérification du nombre de doublons supprimés\n",
    "print(\"Number of duplicates :\", rows_before - rows_after)"
   ]
  },
  {
   "cell_type": "markdown",
   "id": "1bc2de12",
   "metadata": {},
   "source": [
    "Exercise 2: Handling Missing Values\n",
    "\n",
    "Instructions\n",
    "    Identify columns in the Titanic dataset with missing values.\n",
    "    Explore different strategies for handling missing data, such as removal, imputation, and filling with a constant value.\n",
    "    Apply each strategy to different columns based on the nature of the data.\n",
    "    Hint: Review methods like dropna(), fillna(), and SimpleImputer from scikit-learn."
   ]
  },
  {
   "cell_type": "code",
   "execution_count": 79,
   "id": "a812de67",
   "metadata": {},
   "outputs": [],
   "source": [
    "#  Identify columns in the Titanic dataset with missing values.\n",
    "missing_data = df.isnull()"
   ]
  },
  {
   "cell_type": "code",
   "execution_count": 80,
   "id": "34783466",
   "metadata": {},
   "outputs": [
    {
     "name": "stdout",
     "output_type": "stream",
     "text": [
      "   PassengerId  Survived  Pclass   Name    Sex    Age  SibSp  Parch  Ticket  \\\n",
      "0        False     False   False  False  False  False  False  False   False   \n",
      "1        False     False   False  False  False  False  False  False   False   \n",
      "2        False     False   False  False  False  False  False  False   False   \n",
      "3        False     False   False  False  False  False  False  False   False   \n",
      "4        False     False   False  False  False  False  False  False   False   \n",
      "\n",
      "    Fare  Cabin  Embarked  \n",
      "0  False   True     False  \n",
      "1  False  False     False  \n",
      "2  False   True     False  \n",
      "3  False  False     False  \n",
      "4  False   True     False  \n"
     ]
    }
   ],
   "source": [
    "print(missing_data.head())"
   ]
  },
  {
   "cell_type": "code",
   "execution_count": 81,
   "id": "75383f21",
   "metadata": {},
   "outputs": [],
   "source": [
    "# Count missing values in each column\n",
    "missing_counts = df.isnull().sum()"
   ]
  },
  {
   "cell_type": "code",
   "execution_count": 82,
   "id": "72b536f3",
   "metadata": {},
   "outputs": [
    {
     "name": "stdout",
     "output_type": "stream",
     "text": [
      "PassengerId      0\n",
      "Survived         0\n",
      "Pclass           0\n",
      "Name             0\n",
      "Sex              0\n",
      "Age            177\n",
      "SibSp            0\n",
      "Parch            0\n",
      "Ticket           0\n",
      "Fare             0\n",
      "Cabin          687\n",
      "Embarked         2\n",
      "dtype: int64\n"
     ]
    }
   ],
   "source": [
    "print(missing_counts)"
   ]
  },
  {
   "cell_type": "markdown",
   "id": "ef28710f",
   "metadata": {},
   "source": [
    "Comments on missing values and possible strategy to handle theM :\n",
    "- Age : a lot (177) of missing value on a significant data set --> imputation par la médiane ou modèle prédictif (ex. régression, Random Forest).\n",
    "- Cabin : massive (687) missing values --> column removal\n",
    "- embarked : very few (2) missing values. Item can be kept --> Méthode : imputation par la valeur la plus fréquente (mode)\n",
    "\n",
    "Cabin (beaucoup de valeurs manquantes)\n",
    "Méthode : supprimer la colonne ou créer une variable binaire (Cabin_known)\n",
    "\n",
    "Justification : plus de 75% de valeurs manquantes = peu fiable"
   ]
  },
  {
   "cell_type": "code",
   "execution_count": null,
   "id": "ce8b8a1c",
   "metadata": {},
   "outputs": [],
   "source": [
    "#Cabin column removal :\n",
    "df = df.drop(columns=['Cabin'])"
   ]
  },
  {
   "cell_type": "code",
   "execution_count": 87,
   "id": "82d8ac4e",
   "metadata": {},
   "outputs": [],
   "source": [
    "# 'Age' Imputation by median :\n",
    "df['Age'] = df['Age'].fillna(df['Age'].median())"
   ]
  },
  {
   "cell_type": "code",
   "execution_count": 88,
   "id": "c50c51ea",
   "metadata": {},
   "outputs": [],
   "source": [
    "# 'Embarked' Imputation by the mode method (= most frequent value)\n",
    "df['Embarked'] = df['Embarked'].fillna(df['Embarked'].mode()[0])"
   ]
  },
  {
   "cell_type": "code",
   "execution_count": 89,
   "id": "f863c728",
   "metadata": {},
   "outputs": [
    {
     "name": "stdout",
     "output_type": "stream",
     "text": [
      "missing values :\n",
      "PassengerId    0\n",
      "Survived       0\n",
      "Pclass         0\n",
      "Name           0\n",
      "Sex            0\n",
      "Age            0\n",
      "SibSp          0\n",
      "Parch          0\n",
      "Ticket         0\n",
      "Fare           0\n",
      "Embarked       0\n",
      "dtype: int64\n"
     ]
    }
   ],
   "source": [
    "## Final check :\n",
    "print(\"missing values :\")\n",
    "print(df.isnull().sum())"
   ]
  },
  {
   "cell_type": "code",
   "execution_count": null,
   "id": "479568f6",
   "metadata": {},
   "outputs": [],
   "source": [
    "# Fill missing values with a specific value (e.g., 0)\n",
    "df_filled = df.fillna((0))\n",
    "\n"
   ]
  },
  {
   "cell_type": "code",
   "execution_count": null,
   "id": "71096417",
   "metadata": {},
   "outputs": [],
   "source": [
    "# Remove rows with missing values\n"
   ]
  },
  {
   "cell_type": "code",
   "execution_count": 67,
   "id": "51aa1a98",
   "metadata": {},
   "outputs": [],
   "source": [
    "#Explore different strategies for handling missing data, such as removal, imputation, and filling with a constant value.\n",
    "\n"
   ]
  },
  {
   "cell_type": "markdown",
   "id": "adb6b8b6",
   "metadata": {},
   "source": [
    "🌟 Exercise 3: Feature Engineering\n",
    "Instructions\n",
    "Create new features, such as Family Size from SibSp and Parch, and Title extracted from the Name column.\n",
    "Convert categorical variables into numerical form using techniques like one-hot encoding or label encoding.\n",
    "Normalize or standardize numerical features if required.\n",
    "Hint: Utilize Pandas for data manipulation and scikit-learn’s preprocessing module for encoding."
   ]
  },
  {
   "cell_type": "code",
   "execution_count": null,
   "id": "348d1742",
   "metadata": {},
   "outputs": [],
   "source": [
    "#🌟 Exercise 3: Feature Engineering\n",
    "\n",
    "#Create new features, such as Family Size from SibSp and Parch, and Title extracted from the Name column.\n",
    "#Convert categorical variables into numerical form using techniques like one-hot encoding or label encoding.\n",
    "#Normalize or standardize numerical features if required.\n",
    "#Hint: Utilize Pandas for data manipulation and scikit-learn’s preprocessing module for encoding.\n",
    "\n"
   ]
  },
  {
   "cell_type": "code",
   "execution_count": null,
   "id": "a6ae99fa",
   "metadata": {},
   "outputs": [],
   "source": [
    "# Load cleaned data\n",
    "df.to_csv(\"C:/Users/cibei/Desktop/PSTB_GenAI/WEEK3/DAY3/ExerciceXP/train_cleaned.csv\")\n",
    "\n",
    "df.to_csv(\"train_cleaned.csv\")"
   ]
  },
  {
   "cell_type": "code",
   "execution_count": null,
   "id": "f742c2db",
   "metadata": {},
   "outputs": [],
   "source": [
    "#Create new features, such as Family Size from SibSp and Parch...\n",
    "df['FamilySize'] = df['SibSp'] + df['Parch'] + 1"
   ]
  },
  {
   "cell_type": "code",
   "execution_count": null,
   "id": "050da476",
   "metadata": {},
   "outputs": [],
   "source": [
    "## ... and Title extracted from the Name column.\n",
    "df['Title'] = df['Name'].apply(lambda name: name.split(',')[1].split('.')[0].strip())\n",
    "\n",
    "#step by step explanation :\n",
    "    #name.split(',')[1] → retrieves what comes after the comma (e.g.: ' Mr. Owen Harris')\n",
    "    #.split('.')[0] → splits at the period and keeps only ' Mr'\n",
    "    #.strip() → removes unnecessary spaces\n"
   ]
  },
  {
   "cell_type": "code",
   "execution_count": 100,
   "id": "f8ef2998",
   "metadata": {},
   "outputs": [],
   "source": [
    "#Convert categorical variables into numerical form using techniques like one-hot encoding or label encoding.\n",
    "\n",
    "from sklearn.preprocessing import LabelEncoder"
   ]
  },
  {
   "cell_type": "code",
   "execution_count": null,
   "id": "47b08fe3",
   "metadata": {},
   "outputs": [],
   "source": [
    "df = pd.read_csv(\"C:/Users/cibei/Desktop/PSTB_GenAI/WEEK3/DAY3/ExerciceXP/train_cleaned.csv\")"
   ]
  },
  {
   "cell_type": "code",
   "execution_count": null,
   "id": "32ee9a6c",
   "metadata": {},
   "outputs": [],
   "source": [
    "#Convert categorical variables into numerical form using techniques like one-hot encoding or label encoding.\n",
    "#Normalize or standardize numerical features if required.\n",
    "\n",
    "#Label Encoding : 'Sex' ...\n",
    "le_sex = LabelEncoder()\n",
    "df['Sex_encoded'] = le_sex.fit_transform(df['Sex'])\n"
   ]
  },
  {
   "cell_type": "code",
   "execution_count": null,
   "id": "1ac165e3",
   "metadata": {},
   "outputs": [],
   "source": [
    "#Label Encoding : 'Title'\n",
    "df['Title'] = df['Name'].apply(lambda name: name.split(',')[1].split('.')[0].strip())\n",
    "\n",
    "le_title = LabelEncoder()\n",
    "df['Title_encoded'] = le_title.fit_transform(df['Title'])"
   ]
  },
  {
   "cell_type": "markdown",
   "id": "da9ce8ed",
   "metadata": {},
   "source": [
    "Identifying Missing Values\n",
    "Identifying missing values is the first step in handling them. The isnull() function in Pandas returns a DataFrame of the same shape as the input, with True where the data is missing and False where it is not.\n",
    "import pandas as pd\n",
    "# Check for missing values in a DataFrame\n",
    "missing_data = df.isnull()\n",
    "print(missing_data.head())\n",
    "# Count missing values in each column\n",
    "missing_counts = df.isnull().sum()\n",
    "print(missing_counts)\n"
   ]
  },
  {
   "cell_type": "markdown",
   "id": "db876050",
   "metadata": {},
   "source": [
    "🌟 Exercise 4: Outlier Detection and Handling\n",
    "Instructions\n",
    "Use statistical methods to detect outliers in columns like Fare and Age.\n",
    "Decide on a strategy to handle the identified outliers, such as capping, transformation, or removal.\n",
    "Implement the chosen strategy and assess its impact on the dataset.\n",
    "Hint: Explore methods like IQR (Interquartile Range) and Z-score for outlier detection."
   ]
  },
  {
   "cell_type": "code",
   "execution_count": null,
   "id": "59906cd9",
   "metadata": {},
   "outputs": [],
   "source": [
    "#Exercise 4: Outlier Detection and Handling\n",
    "\n",
    "    #Use statistical methods to detect outliers in columns like Fare and Age.\n",
    "    #Decide on a strategy to handle the identified outliers, such as capping, transformation, or removal.\n",
    "    #Implement the chosen strategy and assess its impact on the dataset.\n",
    "    #Hint: Explore methods like IQR (Interquartile Range) and Z-score for outlier detection."
   ]
  },
  {
   "cell_type": "code",
   "execution_count": null,
   "id": "942b503a",
   "metadata": {},
   "outputs": [],
   "source": [
    "#Outliers DETECTION (IQR method)\n",
    "\n",
    "def detect_outliers_iqr(data, column):\n",
    "    Q1 = data[column].quantile(0.25)\n",
    "    Q3 = data[column].quantile(0.75)\n",
    "    IQR = Q3 - Q1\n",
    "    lower_bound = Q1 - 1.5 * IQR\n",
    "    upper_bound = Q3 + 1.5 * IQR\n",
    "    return data[(data[column] < lower_bound) | (data[column] > upper_bound)]"
   ]
  },
  {
   "cell_type": "code",
   "execution_count": 108,
   "id": "405fc0ab",
   "metadata": {},
   "outputs": [],
   "source": [
    "outliers_fare = detect_outliers_iqr(df, 'Fare')"
   ]
  },
  {
   "cell_type": "code",
   "execution_count": 109,
   "id": "c08a809b",
   "metadata": {},
   "outputs": [],
   "source": [
    "outliers_age = detect_outliers_iqr(df, 'Age')"
   ]
  },
  {
   "cell_type": "code",
   "execution_count": 110,
   "id": "c3dfefd2",
   "metadata": {},
   "outputs": [
    {
     "name": "stdout",
     "output_type": "stream",
     "text": [
      "Outliers Fare : 116\n"
     ]
    }
   ],
   "source": [
    "print(\"Outliers Fare :\", len(outliers_fare))"
   ]
  },
  {
   "cell_type": "code",
   "execution_count": 111,
   "id": "3682b168",
   "metadata": {},
   "outputs": [
    {
     "name": "stdout",
     "output_type": "stream",
     "text": [
      "Outliers Age  : 66\n"
     ]
    }
   ],
   "source": [
    "print(\"Outliers Age  :\", len(outliers_age))"
   ]
  },
  {
   "cell_type": "code",
   "execution_count": 112,
   "id": "3e4f713f",
   "metadata": {},
   "outputs": [],
   "source": [
    "    #Decide on a strategy to handle the identified outliers, such as capping, transformation, or removal.\n",
    "\n",
    "def cap_outliers_iqr(data, column):\n",
    "    Q1 = data[column].quantile(0.25)\n",
    "    Q3 = data[column].quantile(0.75)\n",
    "    IQR = Q3 - Q1\n",
    "    lower_bound = Q1 - 1.5 * IQR\n",
    "    upper_bound = Q3 + 1.5 * IQR\n",
    "    data[column] = data[column].clip(lower=lower_bound, upper=upper_bound)"
   ]
  },
  {
   "cell_type": "code",
   "execution_count": null,
   "id": "de62d2d3",
   "metadata": {},
   "outputs": [],
   "source": [
    "    #Implement the chosen strategy and assess its impact on the dataset.\n",
    "cap_outliers_iqr(df, 'Fare')\n",
    "cap_outliers_iqr(df, 'Age')"
   ]
  },
  {
   "cell_type": "code",
   "execution_count": 115,
   "id": "5f1de2eb",
   "metadata": {},
   "outputs": [],
   "source": [
    "import matplotlib.pyplot as plt"
   ]
  },
  {
   "cell_type": "code",
   "execution_count": 116,
   "id": "1a886095",
   "metadata": {},
   "outputs": [
    {
     "data": {
      "text/plain": [
       "<Figure size 1000x400 with 0 Axes>"
      ]
     },
     "execution_count": 116,
     "metadata": {},
     "output_type": "execute_result"
    },
    {
     "data": {
      "text/plain": [
       "<Figure size 1000x400 with 0 Axes>"
      ]
     },
     "metadata": {},
     "output_type": "display_data"
    }
   ],
   "source": [
    "plt.figure(figsize=(10,4))"
   ]
  },
  {
   "cell_type": "code",
   "execution_count": null,
   "id": "39d5efa3",
   "metadata": {},
   "outputs": [
    {
     "data": {
      "image/png": "[encoded data removed]",
      "text/plain": [
       "<Figure size 1000x400 with 2 Axes>"
      ]
     },
     "metadata": {},
     "output_type": "display_data"
    }
   ],
   "source": [
    "plt.subplot(1, 2, 1)\n",
    "df.boxplot(column='Fare')\n",
    "plt.title(\"Fare après traitement\")\n",
    "\n",
    "plt.subplot(1, 2, 2)\n",
    "df.boxplot(column='Age')\n",
    "plt.title(\"Age après traitement\")\n",
    "\n",
    "plt.tight_layout()\n",
    "plt.show()\n"
   ]
  },
  {
   "cell_type": "code",
   "execution_count": null,
   "id": "051aacac",
   "metadata": {},
   "outputs": [],
   "source": [
    "#Exercise 5: Data Standardization and Normalization\n",
    "\n",
    "#Assess the scale and distribution of numerical columns in the dataset.\n",
    "#Apply standardization to features with a wide range of values.\n",
    "#Normalize data that requires a bounded range, like [0, 1].\n",
    "\n",
    "#Hint: Consider using StandardScaler and MinMaxScaler from scikit-learn’s preprocessing module."
   ]
  },
  {
   "cell_type": "code",
   "execution_count": 118,
   "id": "3cab393b",
   "metadata": {},
   "outputs": [],
   "source": [
    "# Upload cleaned data\n",
    "df = pd.read_csv(\"C:/Users/cibei/Desktop/PSTB_GenAI/WEEK3/DAY3/ExerciceXP/train_cleaned.csv\")"
   ]
  },
  {
   "cell_type": "code",
   "execution_count": 119,
   "id": "c36aeaa2",
   "metadata": {},
   "outputs": [],
   "source": [
    "#Assess the scale and distribution of numerical columns in the dataset.\n",
    "numeric_cols = ['Age', 'Fare', 'SibSp', 'Parch', 'FamilySize']"
   ]
  },
  {
   "cell_type": "code",
   "execution_count": 123,
   "id": "76890059",
   "metadata": {},
   "outputs": [],
   "source": [
    "\n",
    "#Apply standardization to features with a wide range of values.from sklearn.preprocessing import StandardScaler\n",
    "\n",
    "from sklearn.preprocessing import StandardScaler\n",
    "\n",
    "scaler = StandardScaler()\n",
    "df_standardized = df.copy()"
   ]
  },
  {
   "cell_type": "code",
   "execution_count": null,
   "id": "568f7c04",
   "metadata": {},
   "outputs": [],
   "source": [
    "cols_to_standardize = ['Age', 'Fare']"
   ]
  },
  {
   "cell_type": "code",
   "execution_count": 125,
   "id": "991b3a46",
   "metadata": {},
   "outputs": [],
   "source": [
    "df_standardized[cols_to_standardize] = scaler.fit_transform(df[cols_to_standardize])"
   ]
  },
  {
   "cell_type": "code",
   "execution_count": 126,
   "id": "2680d76e",
   "metadata": {},
   "outputs": [],
   "source": [
    "#Normalize data that requires a bounded range, like [0, 1].\n",
    "\n",
    "from sklearn.preprocessing import MinMaxScaler"
   ]
  },
  {
   "cell_type": "code",
   "execution_count": 127,
   "id": "33a2193f",
   "metadata": {},
   "outputs": [],
   "source": [
    "normalizer = MinMaxScaler()\n",
    "df_normalized = df_standardized.copy()"
   ]
  },
  {
   "cell_type": "code",
   "execution_count": 129,
   "id": "0876b7dd",
   "metadata": {},
   "outputs": [],
   "source": [
    "cols_to_normalize = ['SibSp', 'Parch', 'FamilySize']"
   ]
  },
  {
   "cell_type": "code",
   "execution_count": 131,
   "id": "d6a7acb3",
   "metadata": {},
   "outputs": [],
   "source": [
    "df['FamilySize'] = df['SibSp'] + df['Parch'] + 1"
   ]
  },
  {
   "cell_type": "code",
   "execution_count": 132,
   "id": "95f373e5",
   "metadata": {},
   "outputs": [],
   "source": [
    "df_normalized[cols_to_normalize] = normalizer.fit_transform(df[cols_to_normalize])"
   ]
  },
  {
   "cell_type": "code",
   "execution_count": null,
   "id": "c6a021f5",
   "metadata": {},
   "outputs": [],
   "source": [
    "#Exercise 6: Feature Encoding\n",
    "\n",
    "#Identify categorical columns in the Titanic dataset, such as Sex and Embarked.\n",
    "#Use one-hot encoding for nominal variables and label encoding for ordinal variables.\n",
    "#Integrate the encoded features back into the main dataset.\n",
    "#Hint: Utilize pandas.get_dummies() for one-hot encoding and LabelEncoder from scikit-learn for label encoding."
   ]
  },
  {
   "cell_type": "code",
   "execution_count": 135,
   "id": "b586d732",
   "metadata": {},
   "outputs": [],
   "source": [
    "\n",
    "#Identify categorical columns in the Titanic dataset, such as Sex and Embarked.\n",
    "categorical_columns = df.select_dtypes(include=['object']).columns.tolist()"
   ]
  },
  {
   "cell_type": "code",
   "execution_count": 136,
   "id": "cf4038a6",
   "metadata": {},
   "outputs": [
    {
     "name": "stdout",
     "output_type": "stream",
     "text": [
      "Colonnes catégorielles : ['Name', 'Sex', 'Ticket', 'Embarked']\n"
     ]
    }
   ],
   "source": [
    "print(\"Colonnes catégorielles :\", categorical_columns)"
   ]
  },
  {
   "cell_type": "code",
   "execution_count": 137,
   "id": "768567a8",
   "metadata": {},
   "outputs": [],
   "source": [
    "#Use one-hot encoding for nominal variables and label encoding for ordinal variables.\n",
    "import pandas as pd\n",
    "from sklearn.preprocessing import LabelEncoder"
   ]
  },
  {
   "cell_type": "code",
   "execution_count": 138,
   "id": "6e38458b",
   "metadata": {},
   "outputs": [],
   "source": [
    "# Charger le dataset\n",
    "df = pd.read_csv(\"C:/Users/cibei/Desktop/PSTB_GenAI/WEEK3/DAY3/ExerciceXP/train_cleaned.csv\")"
   ]
  },
  {
   "cell_type": "markdown",
   "id": "7fab0977",
   "metadata": {},
   "source": [
    "Variable\tType\t    \n",
    "Sex\t        Nominal\t    \n",
    "Embarked\tNominal\t    \n",
    "Title\t    Nominal\t    \n",
    "Pclass\t    Ordinal\t"
   ]
  },
  {
   "cell_type": "code",
   "execution_count": 143,
   "id": "38b453c7",
   "metadata": {},
   "outputs": [],
   "source": [
    "df['Title'] = df['Name'].apply(lambda name: name.split(',')[1].split('.')[0].strip())"
   ]
  },
  {
   "cell_type": "code",
   "execution_count": 146,
   "id": "3dcd9f08",
   "metadata": {},
   "outputs": [
    {
     "name": "stdout",
     "output_type": "stream",
     "text": [
      "['Unnamed: 0', 'PassengerId', 'Survived', 'Pclass', 'Name', 'Age', 'SibSp', 'Parch', 'Ticket', 'Fare', 'Sex_male', 'Embarked_Q', 'Embarked_S', 'Title_Col', 'Title_Don', 'Title_Dr', 'Title_Jonkheer', 'Title_Lady', 'Title_Major', 'Title_Master', 'Title_Miss', 'Title_Mlle', 'Title_Mme', 'Title_Mr', 'Title_Mrs', 'Title_Ms', 'Title_Rev', 'Title_Sir', 'Title_the Countess', 'Title']\n"
     ]
    }
   ],
   "source": [
    "print(df.columns.tolist())"
   ]
  },
  {
   "cell_type": "code",
   "execution_count": 148,
   "id": "65e3cc0a",
   "metadata": {},
   "outputs": [],
   "source": [
    "df['Title'] = df['Name'].apply(lambda name: name.split(',')[1].split('.')[0].strip())"
   ]
  },
  {
   "cell_type": "code",
   "execution_count": null,
   "id": "c21f2839",
   "metadata": {},
   "outputs": [],
   "source": [
    "pd.get_dummies(df, columns=['Title'], drop_first=True)"
   ]
  },
  {
   "cell_type": "markdown",
   "id": "81dbb855",
   "metadata": {},
   "source": [
    "Variable\tType\t    thode\t            Raisons\n",
    "Sex\t        Nominal\t    One-hot\t            2 catégories, pas d'ordre\n",
    "Embarked\tNominal\t    One-hot\t            C, Q, S → ports\n",
    "Title\t    Nominal\t    One-hot\t            Mr, Mrs, Miss, etc.\n",
    "Pclass\t    Ordinal\t    Label encoding\t    rdre logique (1 > 2 > 3)"
   ]
  },
  {
   "cell_type": "code",
   "execution_count": null,
   "id": "2b1c37aa",
   "metadata": {},
   "outputs": [],
   "source": [
    "# Label Encoding for ordinal values (Pclass)\n",
    "le = LabelEncoder()\n",
    "df['Pclass_encoded'] = le.fit_transform(df['Pclass'])"
   ]
  },
  {
   "cell_type": "code",
   "execution_count": null,
   "id": "0c7cff26",
   "metadata": {},
   "outputs": [],
   "source": [
    "# Check results\n",
    "print(df[['Pclass', 'Pclass_encoded']].drop_duplicates())\n",
    "print(df.columns)"
   ]
  },
  {
   "cell_type": "code",
   "execution_count": null,
   "id": "46c2f436",
   "metadata": {},
   "outputs": [],
   "source": [
    "#Exercise 7: Data Transformation for Age Feature\n",
    "\n",
    "#Create age groups (bins) from the Age column to categorize passengers into different age categories.\n",
    "#Apply one-hot encoding to the age groups to convert them into binary features.\n",
    "#Hint: Use pd.cut() for binning the Age column and pd.get_dummies() for one-hot encoding."
   ]
  },
  {
   "cell_type": "code",
   "execution_count": 153,
   "id": "1ad2c426",
   "metadata": {},
   "outputs": [],
   "source": [
    "#Create age groups (bins) from the Age column to categorize passengers into different age categories.\n",
    "\n",
    "bins = [0, 12, 18, 30, 50, 80]"
   ]
  },
  {
   "cell_type": "code",
   "execution_count": 154,
   "id": "c8a391f3",
   "metadata": {},
   "outputs": [],
   "source": [
    "labels = ['Child', 'Teenager', 'Young Adult', 'Adult', 'Senior']"
   ]
  },
  {
   "cell_type": "code",
   "execution_count": 155,
   "id": "d61ea903",
   "metadata": {},
   "outputs": [],
   "source": [
    "df['AgeGroup'] = pd.cut(df['Age'], bins=bins, labels=labels)"
   ]
  },
  {
   "cell_type": "code",
   "execution_count": 156,
   "id": "de2362ba",
   "metadata": {},
   "outputs": [
    {
     "name": "stdout",
     "output_type": "stream",
     "text": [
      "    Age     AgeGroup\n",
      "0  22.0  Young Adult\n",
      "1  38.0        Adult\n",
      "2  26.0  Young Adult\n",
      "3  35.0        Adult\n",
      "4  35.0        Adult\n"
     ]
    }
   ],
   "source": [
    "print(df[['Age', 'AgeGroup']].head())"
   ]
  },
  {
   "cell_type": "code",
   "execution_count": 157,
   "id": "cd9fe9be",
   "metadata": {},
   "outputs": [],
   "source": [
    "#Apply one-hot encoding to the age groups to convert them into binary features.\n",
    "df = pd.get_dummies(df, columns=['AgeGroup'], prefix='AgeGroup')"
   ]
  },
  {
   "cell_type": "code",
   "execution_count": null,
   "id": "350ffe9d",
   "metadata": {},
   "outputs": [],
   "source": [
    "#Generate new column\n",
    "\n",
    "print(df.filter(like='AgeGroup_').head())"
   ]
  }
 ],
 "metadata": {
  "kernelspec": {
   "display_name": "Python 3",
   "language": "python",
   "name": "python3"
  },
  "language_info": {
   "codemirror_mode": {
    "name": "ipython",
    "version": 3
   },
   "file_extension": ".py",
   "mimetype": "text/x-python",
   "name": "python",
   "nbconvert_exporter": "python",
   "pygments_lexer": "ipython3",
   "version": "3.11.9"
  }
 },
 "nbformat": 4,
 "nbformat_minor": 5
}
